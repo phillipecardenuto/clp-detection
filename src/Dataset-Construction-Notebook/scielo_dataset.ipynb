{
 "cells": [
  {
   "cell_type": "markdown",
   "metadata": {},
   "source": [
    "# Dataset\n",
    "This notebook organize and divide [SCIELO](https://figshare.com/articles/A_Large_Parallel_Corpus_of_Full-Text_Scientific_Articles/5382757/2) dataset\n"
   ]
  },
  {
   "cell_type": "markdown",
   "metadata": {},
   "source": [
    "# Import Cell"
   ]
  },
  {
   "cell_type": "code",
   "execution_count": null,
   "metadata": {},
   "outputs": [],
   "source": [
    "! pip install langdetect \n",
    "! pip install swifter"
   ]
  },
  {
   "cell_type": "code",
   "execution_count": 2,
   "metadata": {},
   "outputs": [],
   "source": [
    "from glob import glob\n",
    "import os\n",
    "\n",
    "import pandas as pd\n",
    "import swifter\n",
    "\n",
    "import numpy as np\n",
    "from matplotlib import pyplot as plt \n",
    "\n",
    "from tqdm.notebook import tnrange, tqdm_notebook\n",
    "\n",
    "import torch\n",
    "from torch.distributions.multinomial import Multinomial\n",
    "from torch.nn import CosineSimilarity\n",
    "import torch.nn.functional as F\n",
    "from langdetect import detect\n",
    "from torchtext.vocab import GloVe\n",
    "import string\n",
    "\n",
    "%matplotlib inline"
   ]
  },
  {
   "cell_type": "markdown",
   "metadata": {},
   "source": [
    "# Reading Scielo Dataset"
   ]
  },
  {
   "cell_type": "markdown",
   "metadata": {},
   "source": [
    "Downloading data"
   ]
  },
  {
   "cell_type": "code",
   "execution_count": null,
   "metadata": {},
   "outputs": [],
   "source": [
    "! wget -nc -O /work/datasets/scielo/scielo.tar.gz https://ndownloader.figshare.com/files/14019308\n",
    "! tar -xzf /work/datasets/scielo/scielo.tar.gz"
   ]
  },
  {
   "cell_type": "code",
   "execution_count": 2,
   "metadata": {},
   "outputs": [],
   "source": [
    "eng_scielo_path = \"/work/datasets/scielo/en_pt.en\"\n",
    "pt_scielo_path = \"/work/datasets/scielo/en_pt.pt\"\n",
    "\n",
    "eng_scielo = []\n",
    "with open(eng_scielo_path, 'r') as file:\n",
    "    eng_scielo = file.readlines()\n",
    "    \n",
    "pt_scielo = []\n",
    "with open(pt_scielo_path, 'r') as file:\n",
    "    pt_scielo = file.readlines()"
   ]
  },
  {
   "cell_type": "code",
   "execution_count": 3,
   "metadata": {},
   "outputs": [
    {
     "data": {
      "text/plain": [
       "'Albinism comes from the Latin albus, which meaning white, and is a group of hereditary disorders in which the biosynthesis of the pigment melanin is absent or reduced.\\n'"
      ]
     },
     "execution_count": 3,
     "metadata": {},
     "output_type": "execute_result"
    }
   ],
   "source": [
    "eng_scielo[0]"
   ]
  },
  {
   "cell_type": "code",
   "execution_count": 4,
   "metadata": {},
   "outputs": [
    {
     "data": {
      "text/plain": [
       "'O albinismo, vem do latim albus, significa branco, é um grupo de desordens hereditárias em que a biossíntese do pigmento de melanina está ausente ou reduzida.\\n'"
      ]
     },
     "execution_count": 4,
     "metadata": {},
     "output_type": "execute_result"
    }
   ],
   "source": [
    "pt_scielo[0]"
   ]
  },
  {
   "cell_type": "markdown",
   "metadata": {},
   "source": [
    "## Analyzing Scielo Dataset with panda"
   ]
  },
  {
   "cell_type": "code",
   "execution_count": 5,
   "metadata": {},
   "outputs": [],
   "source": [
    "scielo = pd.DataFrame((zip(eng_scielo, pt_scielo)), \n",
    "               columns =['ENG', 'PT']) "
   ]
  },
  {
   "cell_type": "code",
   "execution_count": 6,
   "metadata": {},
   "outputs": [
    {
     "data": {
      "text/html": [
       "<div>\n",
       "<style scoped>\n",
       "    .dataframe tbody tr th:only-of-type {\n",
       "        vertical-align: middle;\n",
       "    }\n",
       "\n",
       "    .dataframe tbody tr th {\n",
       "        vertical-align: top;\n",
       "    }\n",
       "\n",
       "    .dataframe thead th {\n",
       "        text-align: right;\n",
       "    }\n",
       "</style>\n",
       "<table border=\"1\" class=\"dataframe\">\n",
       "  <thead>\n",
       "    <tr style=\"text-align: right;\">\n",
       "      <th></th>\n",
       "      <th>ENG</th>\n",
       "      <th>PT</th>\n",
       "    </tr>\n",
       "  </thead>\n",
       "  <tbody>\n",
       "    <tr>\n",
       "      <th>count</th>\n",
       "      <td>2828916</td>\n",
       "      <td>2828916</td>\n",
       "    </tr>\n",
       "    <tr>\n",
       "      <th>unique</th>\n",
       "      <td>2493838</td>\n",
       "      <td>2488276</td>\n",
       "    </tr>\n",
       "    <tr>\n",
       "      <th>top</th>\n",
       "      <td>Introduction\\n</td>\n",
       "      <td>Introdução\\n</td>\n",
       "    </tr>\n",
       "    <tr>\n",
       "      <th>freq</th>\n",
       "      <td>8374</td>\n",
       "      <td>8387</td>\n",
       "    </tr>\n",
       "  </tbody>\n",
       "</table>\n",
       "</div>"
      ],
      "text/plain": [
       "                   ENG            PT\n",
       "count          2828916       2828916\n",
       "unique         2493838       2488276\n",
       "top     Introduction\\n  Introdução\\n\n",
       "freq              8374          8387"
      ]
     },
     "execution_count": 6,
     "metadata": {},
     "output_type": "execute_result"
    }
   ],
   "source": [
    "scielo.describe()"
   ]
  },
  {
   "cell_type": "code",
   "execution_count": 7,
   "metadata": {},
   "outputs": [],
   "source": [
    "# Removing duplicates\n",
    "scielo = scielo.drop_duplicates(subset='ENG', keep=\"first\")\n",
    "scielo = scielo.drop_duplicates(subset='PT', keep=\"first\")"
   ]
  },
  {
   "cell_type": "code",
   "execution_count": 8,
   "metadata": {},
   "outputs": [
    {
     "data": {
      "text/html": [
       "<div>\n",
       "<style scoped>\n",
       "    .dataframe tbody tr th:only-of-type {\n",
       "        vertical-align: middle;\n",
       "    }\n",
       "\n",
       "    .dataframe tbody tr th {\n",
       "        vertical-align: top;\n",
       "    }\n",
       "\n",
       "    .dataframe thead th {\n",
       "        text-align: right;\n",
       "    }\n",
       "</style>\n",
       "<table border=\"1\" class=\"dataframe\">\n",
       "  <thead>\n",
       "    <tr style=\"text-align: right;\">\n",
       "      <th></th>\n",
       "      <th>ENG</th>\n",
       "      <th>PT</th>\n",
       "    </tr>\n",
       "  </thead>\n",
       "  <tbody>\n",
       "    <tr>\n",
       "      <th>count</th>\n",
       "      <td>2484173</td>\n",
       "      <td>2484173</td>\n",
       "    </tr>\n",
       "    <tr>\n",
       "      <th>unique</th>\n",
       "      <td>2484173</td>\n",
       "      <td>2484173</td>\n",
       "    </tr>\n",
       "    <tr>\n",
       "      <th>top</th>\n",
       "      <td>And he invited me to work with him.\\n</td>\n",
       "      <td>Assim como para o trabalho total, os grupos co...</td>\n",
       "    </tr>\n",
       "    <tr>\n",
       "      <th>freq</th>\n",
       "      <td>1</td>\n",
       "      <td>1</td>\n",
       "    </tr>\n",
       "  </tbody>\n",
       "</table>\n",
       "</div>"
      ],
      "text/plain": [
       "                                          ENG  \\\n",
       "count                                 2484173   \n",
       "unique                                2484173   \n",
       "top     And he invited me to work with him.\\n   \n",
       "freq                                        1   \n",
       "\n",
       "                                                       PT  \n",
       "count                                             2484173  \n",
       "unique                                            2484173  \n",
       "top     Assim como para o trabalho total, os grupos co...  \n",
       "freq                                                    1  "
      ]
     },
     "execution_count": 8,
     "metadata": {},
     "output_type": "execute_result"
    }
   ],
   "source": [
    "scielo.describe()"
   ]
  },
  {
   "cell_type": "code",
   "execution_count": 9,
   "metadata": {},
   "outputs": [],
   "source": [
    "# Checking length of each sentence on the dataset\n",
    "scielo['ENG_LENGTH'] = scielo.apply( lambda row: len(row['ENG'].split()),axis=1)\n",
    "scielo['PT_LENGTH']  = scielo.apply( lambda row: len(row['PT'].split()),axis=1)"
   ]
  },
  {
   "cell_type": "code",
   "execution_count": 10,
   "metadata": {},
   "outputs": [],
   "source": [
    "# drop to small sentences (size < 30)\n",
    "scielo = scielo.mask(scielo.ENG_LENGTH < 30 ).dropna()\n",
    "scielo = scielo.mask(scielo.PT_LENGTH < 30 ).dropna()"
   ]
  },
  {
   "cell_type": "code",
   "execution_count": 11,
   "metadata": {},
   "outputs": [
    {
     "data": {
      "text/html": [
       "<div>\n",
       "<style scoped>\n",
       "    .dataframe tbody tr th:only-of-type {\n",
       "        vertical-align: middle;\n",
       "    }\n",
       "\n",
       "    .dataframe tbody tr th {\n",
       "        vertical-align: top;\n",
       "    }\n",
       "\n",
       "    .dataframe thead th {\n",
       "        text-align: right;\n",
       "    }\n",
       "</style>\n",
       "<table border=\"1\" class=\"dataframe\">\n",
       "  <thead>\n",
       "    <tr style=\"text-align: right;\">\n",
       "      <th></th>\n",
       "      <th>ENG_LENGTH</th>\n",
       "      <th>PT_LENGTH</th>\n",
       "    </tr>\n",
       "  </thead>\n",
       "  <tbody>\n",
       "    <tr>\n",
       "      <th>count</th>\n",
       "      <td>817255.000000</td>\n",
       "      <td>817255.000000</td>\n",
       "    </tr>\n",
       "    <tr>\n",
       "      <th>mean</th>\n",
       "      <td>43.776996</td>\n",
       "      <td>44.287090</td>\n",
       "    </tr>\n",
       "    <tr>\n",
       "      <th>std</th>\n",
       "      <td>14.257965</td>\n",
       "      <td>14.350467</td>\n",
       "    </tr>\n",
       "    <tr>\n",
       "      <th>min</th>\n",
       "      <td>30.000000</td>\n",
       "      <td>30.000000</td>\n",
       "    </tr>\n",
       "    <tr>\n",
       "      <th>25%</th>\n",
       "      <td>34.000000</td>\n",
       "      <td>35.000000</td>\n",
       "    </tr>\n",
       "    <tr>\n",
       "      <th>50%</th>\n",
       "      <td>40.000000</td>\n",
       "      <td>40.000000</td>\n",
       "    </tr>\n",
       "    <tr>\n",
       "      <th>75%</th>\n",
       "      <td>48.000000</td>\n",
       "      <td>49.000000</td>\n",
       "    </tr>\n",
       "    <tr>\n",
       "      <th>max</th>\n",
       "      <td>522.000000</td>\n",
       "      <td>533.000000</td>\n",
       "    </tr>\n",
       "  </tbody>\n",
       "</table>\n",
       "</div>"
      ],
      "text/plain": [
       "          ENG_LENGTH      PT_LENGTH\n",
       "count  817255.000000  817255.000000\n",
       "mean       43.776996      44.287090\n",
       "std        14.257965      14.350467\n",
       "min        30.000000      30.000000\n",
       "25%        34.000000      35.000000\n",
       "50%        40.000000      40.000000\n",
       "75%        48.000000      49.000000\n",
       "max       522.000000     533.000000"
      ]
     },
     "execution_count": 11,
     "metadata": {},
     "output_type": "execute_result"
    }
   ],
   "source": [
    "scielo.describe()"
   ]
  },
  {
   "cell_type": "code",
   "execution_count": 12,
   "metadata": {},
   "outputs": [
    {
     "data": {
      "application/vnd.jupyter.widget-view+json": {
       "model_id": "acd7a9551a214523814bed599630c8b2",
       "version_major": 2,
       "version_minor": 0
      },
      "text/plain": [
       "HBox(children=(FloatProgress(value=0.0, description='Pandas Apply', max=817255.0, style=ProgressStyle(descript…"
      ]
     },
     "metadata": {},
     "output_type": "display_data"
    },
    {
     "name": "stdout",
     "output_type": "stream",
     "text": [
      "\n"
     ]
    },
    {
     "data": {
      "application/vnd.jupyter.widget-view+json": {
       "model_id": "f336d42d2692441d813f3bb1b00854fd",
       "version_major": 2,
       "version_minor": 0
      },
      "text/plain": [
       "HBox(children=(FloatProgress(value=0.0, description='Pandas Apply', max=817255.0, style=ProgressStyle(descript…"
      ]
     },
     "metadata": {},
     "output_type": "display_data"
    },
    {
     "name": "stdout",
     "output_type": "stream",
     "text": [
      "\n"
     ]
    }
   ],
   "source": [
    "# Remove sentence that are on another language\n",
    "scielo['ENG_LANG'] = scielo.swifter.apply( lambda row: detect(row['ENG']) == 'en', axis=1)\n",
    "scielo['PT_LANG']  = scielo.swifter.apply( lambda row: detect(row['PT']) == 'pt',axis=1)"
   ]
  },
  {
   "cell_type": "code",
   "execution_count": 13,
   "metadata": {},
   "outputs": [],
   "source": [
    "# drop to wrong language assigned\n",
    "scielo = scielo.mask(scielo.ENG_LANG == False ).dropna()\n",
    "scielo = scielo.mask(scielo.PT_LANG == False ).dropna()"
   ]
  },
  {
   "cell_type": "code",
   "execution_count": 14,
   "metadata": {},
   "outputs": [
    {
     "data": {
      "image/png": "[encoded data removed]",
      "text/plain": [
       "<Figure size 432x288 with 1 Axes>"
      ]
     },
     "metadata": {
      "needs_background": "light"
     },
     "output_type": "display_data"
    },
    {
     "data": {
      "text/plain": [
       "count    816471.000000\n",
       "mean         43.772026\n",
       "std          14.248244\n",
       "min          30.000000\n",
       "25%          34.000000\n",
       "50%          40.000000\n",
       "75%          48.000000\n",
       "max         522.000000\n",
       "Name: ENG_LENGTH, dtype: float64"
      ]
     },
     "execution_count": 14,
     "metadata": {},
     "output_type": "execute_result"
    }
   ],
   "source": [
    "scielo['ENG_LENGTH'].hist()\n",
    "plt.title(\"Scielo English Sentences Length distribution\")\n",
    "plt.show()\n",
    "scielo['ENG_LENGTH'].describe()"
   ]
  },
  {
   "cell_type": "markdown",
   "metadata": {},
   "source": [
    "We can notice that 75% of the sentence has length less then 360"
   ]
  },
  {
   "cell_type": "code",
   "execution_count": 15,
   "metadata": {},
   "outputs": [
    {
     "data": {
      "image/png": "[encoded data removed]",
      "text/plain": [
       "<Figure size 432x288 with 1 Axes>"
      ]
     },
     "metadata": {
      "needs_background": "light"
     },
     "output_type": "display_data"
    },
    {
     "data": {
      "text/plain": [
       "count    816471.000000\n",
       "mean         44.283433\n",
       "std          14.344414\n",
       "min          30.000000\n",
       "25%          35.000000\n",
       "50%          40.000000\n",
       "75%          49.000000\n",
       "max         533.000000\n",
       "Name: PT_LENGTH, dtype: float64"
      ]
     },
     "execution_count": 15,
     "metadata": {},
     "output_type": "execute_result"
    }
   ],
   "source": [
    "scielo['PT_LENGTH'].hist()\n",
    "plt.title(\"Scielo Portuguese Sentences Length distribution\")\n",
    "plt.show()\n",
    "scielo['PT_LENGTH'].describe()"
   ]
  },
  {
   "cell_type": "code",
   "execution_count": null,
   "metadata": {},
   "outputs": [],
   "source": [
    "scielo.drop(['ENG_LENGTH','PT_LENGTH','ENG_LANG','PT_LANG'], axis=1, inplace=True)"
   ]
  },
  {
   "cell_type": "code",
   "execution_count": null,
   "metadata": {},
   "outputs": [],
   "source": [
    "# Remove \\n char from the end of each sentence\n",
    "scielo = scielo.reset_index(drop=True)\n",
    "scielo[\"ENG\"] = scielo.apply( lambda row: row['ENG'].replace(\"\\n\",\"\"),axis=1)\n",
    "scielo[\"PT\"] = scielo.apply( lambda row: row['PT'].replace(\"\\n\",\"\"),axis=1)"
   ]
  },
  {
   "cell_type": "code",
   "execution_count": 24,
   "metadata": {},
   "outputs": [],
   "source": [
    "# Save result dataframe to disk\n",
    "scielo.to_pickle(\"/work/datasets/scielo/full_organized_data.pkcl\")"
   ]
  },
  {
   "cell_type": "markdown",
   "metadata": {},
   "source": [
    "# Creating Dataset with Negative Samples\n",
    "In this section we will compare each English sentence embedding with each pt sentence embedding, using cosine similarity.\n",
    "After this we will retrieve the top-5 similar sentence of each, notice that we expect that just lexical similarity will be retrieve, this is why we are using a simple model of GloVe to make this comparison.\n",
    "\n",
    "The Idea is select the most lexical similar sentence from one language to another, but with a very different semantic."
   ]
  },
  {
   "cell_type": "code",
   "execution_count": 52,
   "metadata": {},
   "outputs": [],
   "source": [
    "# load Dataset\n",
    "dataset = pd.read_pickle('/work/datasets/scielo/full_organized_data.pkcl')"
   ]
  },
  {
   "cell_type": "code",
   "execution_count": 53,
   "metadata": {},
   "outputs": [
    {
     "data": {
      "text/html": [
       "<div>\n",
       "<style scoped>\n",
       "    .dataframe tbody tr th:only-of-type {\n",
       "        vertical-align: middle;\n",
       "    }\n",
       "\n",
       "    .dataframe tbody tr th {\n",
       "        vertical-align: top;\n",
       "    }\n",
       "\n",
       "    .dataframe thead th {\n",
       "        text-align: right;\n",
       "    }\n",
       "</style>\n",
       "<table border=\"1\" class=\"dataframe\">\n",
       "  <thead>\n",
       "    <tr style=\"text-align: right;\">\n",
       "      <th></th>\n",
       "      <th>ENG</th>\n",
       "      <th>PT</th>\n",
       "    </tr>\n",
       "  </thead>\n",
       "  <tbody>\n",
       "    <tr>\n",
       "      <th>count</th>\n",
       "      <td>816471</td>\n",
       "      <td>816471</td>\n",
       "    </tr>\n",
       "    <tr>\n",
       "      <th>unique</th>\n",
       "      <td>816471</td>\n",
       "      <td>816471</td>\n",
       "    </tr>\n",
       "    <tr>\n",
       "      <th>top</th>\n",
       "      <td>In the past, we did not perform insufflation w...</td>\n",
       "      <td>Em última análise, a convergência entre nature...</td>\n",
       "    </tr>\n",
       "    <tr>\n",
       "      <th>freq</th>\n",
       "      <td>1</td>\n",
       "      <td>1</td>\n",
       "    </tr>\n",
       "  </tbody>\n",
       "</table>\n",
       "</div>"
      ],
      "text/plain": [
       "                                                      ENG  \\\n",
       "count                                              816471   \n",
       "unique                                             816471   \n",
       "top     In the past, we did not perform insufflation w...   \n",
       "freq                                                    1   \n",
       "\n",
       "                                                       PT  \n",
       "count                                              816471  \n",
       "unique                                             816471  \n",
       "top     Em última análise, a convergência entre nature...  \n",
       "freq                                                    1  "
      ]
     },
     "execution_count": 53,
     "metadata": {},
     "output_type": "execute_result"
    }
   ],
   "source": [
    "dataset.describe()"
   ]
  },
  {
   "cell_type": "markdown",
   "metadata": {},
   "source": [
    "### Loading Glove Vectors to use as word embedding"
   ]
  },
  {
   "cell_type": "code",
   "execution_count": 4,
   "metadata": {},
   "outputs": [],
   "source": [
    "\n",
    "# glove_vectors is a pytorch vocabulary\n",
    "# https://github.com/pytorch/text/blob/master/torchtext/vocab.py\n",
    "glove_vectors = GloVe(name='6B', dim=50, cache='./glove_dir')\n",
    "\n",
    "vectors = glove_vectors.vectors\n",
    "glove_dict = glove_vectors.stoi"
   ]
  },
  {
   "cell_type": "markdown",
   "metadata": {},
   "source": [
    "### Creating Torch Tensors from the words"
   ]
  },
  {
   "cell_type": "code",
   "execution_count": 5,
   "metadata": {},
   "outputs": [],
   "source": [
    "eng_data  = dataset[\"ENG\"].values\n",
    "pt_data  = dataset[\"PT\"].values"
   ]
  },
  {
   "cell_type": "markdown",
   "metadata": {},
   "source": [
    "## Making Embedding with the sentence \n",
    "We just remove the punctuation of the sentence for the embedding"
   ]
  },
  {
   "cell_type": "code",
   "execution_count": 6,
   "metadata": {},
   "outputs": [],
   "source": [
    "table = str.maketrans({key: None for key in string.punctuation})\n",
    "def remove_punctuation(sentence):\n",
    "    return sentence.translate(table)\n",
    "\n",
    "def get_sentence_embedding(sentence,dim=50):\n",
    "    \"\"\"\n",
    "    From a input sentence, calculate a sentence embedding.\n",
    "    The sentence embedding is the mean of each word embedding beloging to the sentence.\n",
    "    \"\"\"\n",
    "    \n",
    "    # Remove punctuation from the sentence\n",
    "    sentence = remove_punctuation(sentence)\n",
    "    \n",
    "    # Calculate the mean for each word embedding beloging to the sentence\n",
    "    list_of_embedding =  [ vectors[glove_dict[word]] \n",
    "                             for word in sentence.split()\n",
    "                             if (word in glove_dict)\n",
    "                         ]\n",
    "    \n",
    "    # if we could not find any word in the sentence that is in the vocabulary\n",
    "    # we return a random value\n",
    "    if list_of_embedding == []:\n",
    "        print(\"FALSE\")\n",
    "        return torch.rand(dim)\n",
    "        \n",
    "    # return the sentence embedding mean\n",
    "    return torch.mean( torch.stack( list_of_embedding) ,axis=0)"
   ]
  },
  {
   "cell_type": "code",
   "execution_count": 7,
   "metadata": {},
   "outputs": [
    {
     "data": {
      "application/vnd.jupyter.widget-view+json": {
       "model_id": "28483919685a40de9cac0e9134fa76f3",
       "version_major": 2,
       "version_minor": 0
      },
      "text/plain": [
       "HBox(children=(FloatProgress(value=0.0, max=816471.0), HTML(value='')))"
      ]
     },
     "metadata": {},
     "output_type": "display_data"
    },
    {
     "name": "stdout",
     "output_type": "stream",
     "text": [
      "\n"
     ]
    }
   ],
   "source": [
    "eng_vectors = []\n",
    "for sentence in tqdm_notebook(eng_data):\n",
    "    eng_vectors.append(get_sentence_embedding(sentence))\n",
    "eng_vectors = torch.stack(eng_vectors)"
   ]
  },
  {
   "cell_type": "code",
   "execution_count": 8,
   "metadata": {},
   "outputs": [
    {
     "data": {
      "application/vnd.jupyter.widget-view+json": {
       "model_id": "d525bf0259154b84bdb6bea4c9df1413",
       "version_major": 2,
       "version_minor": 0
      },
      "text/plain": [
       "HBox(children=(FloatProgress(value=0.0, max=816471.0), HTML(value='')))"
      ]
     },
     "metadata": {},
     "output_type": "display_data"
    },
    {
     "name": "stdout",
     "output_type": "stream",
     "text": [
      "FALSE\n",
      "\n"
     ]
    }
   ],
   "source": [
    "pt_vectors = []\n",
    "for sentence in tqdm_notebook(pt_data):\n",
    "    pt_vectors.append(get_sentence_embedding(sentence))\n",
    "pt_vectors = torch.stack(pt_vectors)"
   ]
  },
  {
   "cell_type": "markdown",
   "metadata": {},
   "source": [
    "# Testset\n",
    "the most similars are retrieved by top_k"
   ]
  },
  {
   "cell_type": "code",
   "execution_count": 10,
   "metadata": {},
   "outputs": [],
   "source": [
    "\n",
    "cos = CosineSimilarity()\n",
    "def find_most_similar(query, tensors,index,top_k=200):\n",
    "    \"\"\"\n",
    "    Retrieve most similar sentences\n",
    "    \"\"\"\n",
    "    # Reshape query \n",
    "    query = query.unsqueeze(0)\n",
    "    # Apply cosine similarity between the query and all dataset\n",
    "    cosine_similarity_between_query_tensors = cos(query,tensors)\n",
    "    \n",
    "    # Sort values by similarity: The highest similarity is 1 and lowest -1\n",
    "    values, indeces = cosine_similarity_between_query_tensors.topk(top_k)\n",
    "    \n",
    "    # Get Random sentence that are inside the nucleues\n",
    "    sampling = Multinomial(total_count=10,logits=values).sample()\n",
    "    \n",
    "    # Retrieve selected sentence\n",
    "    most_similar = indeces.masked_select(sampling.type(torch.bool))\n",
    "    # remove the translation of the query from the selected ones ( if it is there)\n",
    "    most_similar = most_similar[most_similar != index]\n",
    "    \n",
    "    # Return the top_5 similar result, after the sampling\n",
    "    return most_similar[:5]"
   ]
  },
  {
   "cell_type": "code",
   "execution_count": null,
   "metadata": {},
   "outputs": [
    {
     "data": {
      "application/vnd.jupyter.widget-view+json": {
       "model_id": "666e5832f9d74fa38f67143ebbb189d8",
       "version_major": 2,
       "version_minor": 0
      },
      "text/plain": [
       "HBox(children=(FloatProgress(value=0.0, max=816471.0), HTML(value='')))"
      ]
     },
     "metadata": {},
     "output_type": "display_data"
    }
   ],
   "source": [
    "negative_sentence = {\n",
    "    'top_1_qeng_pt': [],\n",
    "    'top_1_qpt_eng': [],\n",
    "    'top_2_qeng_pt': [],\n",
    "    'top_2_qpt_eng': [],\n",
    "    'top_3_qeng_pt': [],\n",
    "    'top_3_qpt_eng': [],\n",
    "    'top_4_qeng_pt': [],\n",
    "    'top_4_qpt_eng': [],\n",
    "    'top_5_qeng_pt': [],\n",
    "    'top_5_qpt_eng': []\n",
    "}\n",
    "total = len(dataset)\n",
    "for index,(eng,pt) in tqdm_notebook(dataset.iterrows(),total=total):\n",
    "    \n",
    "    # Most lexical similar senentece from pt to eng\n",
    "    qpt_index = find_most_similar(pt_vectors[index],eng_vectors,index)\n",
    "    top1,top2,top3,top4,top5 = qpt_index #dataset.ENG.iloc[qpt_index].values\n",
    "    \n",
    "    negative_sentence['top_1_qpt_eng'].append(top1.item())\n",
    "    negative_sentence['top_2_qpt_eng'].append(top2.item())\n",
    "    negative_sentence['top_3_qpt_eng'].append(top3.item())\n",
    "    negative_sentence['top_4_qpt_eng'].append(top4.item())\n",
    "    negative_sentence['top_5_qpt_eng'].append(top5.item())\n",
    "    \n",
    "    # Most lexical similar senentece from eng to pt\n",
    "    qeng_index = find_most_similar(eng_vectors[index],pt_vectors,index)\n",
    "    top1,top2,top3,top4,top5 = qeng_index #dataset.PT.iloc[qeng_index].values\n",
    "    \n",
    "    negative_sentence['top_1_qeng_pt'].append(top1.item())\n",
    "    negative_sentence['top_2_qeng_pt'].append(top2.item())\n",
    "    negative_sentence['top_3_qeng_pt'].append(top3.item())\n",
    "    negative_sentence['top_4_qeng_pt'].append(top4.item())\n",
    "    negative_sentence['top_5_qeng_pt'].append(top5.item())\n",
    "    \n",
    "    with open(\"/work/datasets/scielo/top_k_dataset_status.txt\",\"w\") as file:\n",
    "        file.write(f\"{index}/{total}\")\n",
    "        \n",
    "dataset['top_1_qpt_eng'] = negative_sentence['top_1_qpt_eng']\n",
    "dataset['top_2_qpt_eng'] = negative_sentence['top_2_qpt_eng']\n",
    "dataset['top_3_qpt_eng'] = negative_sentence['top_3_qpt_eng']\n",
    "dataset['top_4_qpt_eng'] = negative_sentence['top_4_qpt_eng']\n",
    "dataset['top_5_qpt_eng'] = negative_sentence['top_5_qpt_eng']\n",
    "\n",
    "dataset['top_1_qeng_pt'] = negative_sentence['top_1_qeng_pt']\n",
    "dataset['top_2_qeng_pt'] = negative_sentence['top_2_qeng_pt']\n",
    "dataset['top_3_qeng_pt'] = negative_sentence['top_3_qeng_pt']\n",
    "dataset['top_4_qeng_pt'] = negative_sentence['top_4_qeng_pt']\n",
    "dataset['top_5_qeng_pt'] = negative_sentence['top_5_qeng_pt']\n",
    "\n",
    "# Save dataset on disk\n",
    "dataset.to_pickle(\"/work/datasets/scielo/top_k_dataset.pkcl\")\n",
    "with open(\"/work/datasets/scielo/top_k_dataset_status.txt\",\"w\") as file:\n",
    "        file.write(\"Done --- \")"
   ]
  },
  {
   "cell_type": "code",
   "execution_count": 3,
   "metadata": {},
   "outputs": [],
   "source": [
    "dataset = pd.read_pickle(\"/work/datasets/scielo/top_k_dataset.pkcl\")"
   ]
  },
  {
   "cell_type": "code",
   "execution_count": 5,
   "metadata": {},
   "outputs": [],
   "source": [
    "# Removing duplicates\n",
    "\n",
    "testset = pd.DataFrame()\n",
    "\n",
    "testset = testset.append(dataset.drop_duplicates(subset='top_1_qeng_pt', keep=\"first\"))\n",
    "\n",
    "testset = testset.append(dataset.drop_duplicates(subset='top_2_qeng_pt', keep=\"first\"))\n",
    "\n",
    "testset = testset.append(dataset.drop_duplicates(subset='top_3_qeng_pt', keep=\"first\"))\n",
    "\n",
    "testset = testset.append(dataset.drop_duplicates(subset='top_4_qeng_pt', keep=\"first\"))\n",
    "\n",
    "testset = testset.append(dataset.drop_duplicates(subset='top_5_qeng_pt', keep=\"first\"))\n",
    "\n",
    "testset = testset.append(dataset.drop_duplicates(subset='top_1_qpt_eng', keep=\"first\"))\n",
    "\n",
    "testset = testset.append(dataset.drop_duplicates(subset='top_2_qpt_eng', keep=\"first\"))\n",
    "\n",
    "testset = testset.append(dataset.drop_duplicates(subset='top_3_qpt_eng', keep=\"first\"))\n",
    "\n",
    "testset = testset.append(dataset.drop_duplicates(subset='top_4_qpt_eng', keep=\"first\"))\n",
    "\n",
    "testset = testset.append(dataset.drop_duplicates(subset='top_5_qpt_eng', keep=\"first\"))\n"
   ]
  },
  {
   "cell_type": "code",
   "execution_count": 6,
   "metadata": {},
   "outputs": [],
   "source": [
    "testset = testset.drop_duplicates(subset='ENG', keep=\"first\")\n",
    "testset = testset.drop_duplicates(subset='PT', keep=\"first\")"
   ]
  },
  {
   "cell_type": "code",
   "execution_count": 7,
   "metadata": {},
   "outputs": [
    {
     "data": {
      "text/plain": [
       "9956"
      ]
     },
     "execution_count": 7,
     "metadata": {},
     "output_type": "execute_result"
    }
   ],
   "source": [
    "len(testset)"
   ]
  },
  {
   "cell_type": "code",
   "execution_count": 10,
   "metadata": {},
   "outputs": [
    {
     "name": "stderr",
     "output_type": "stream",
     "text": [
      "/usr/local/lib/python3.6/dist-packages/ipykernel_launcher.py:2: TqdmDeprecationWarning: This function will be removed in tqdm==5.0.0\n",
      "Please use `tqdm.notebook.tqdm` instead of `tqdm.tqdm_notebook`\n",
      "  \n"
     ]
    },
    {
     "data": {
      "application/vnd.jupyter.widget-view+json": {
       "model_id": "1b55e70624c049049b126aab211efb21",
       "version_major": 2,
       "version_minor": 0
      },
      "text/plain": [
       "HBox(children=(FloatProgress(value=0.0, max=9956.0), HTML(value='')))"
      ]
     },
     "metadata": {},
     "output_type": "display_data"
    },
    {
     "name": "stderr",
     "output_type": "stream",
     "text": [
      "/usr/local/lib/python3.6/dist-packages/pandas/core/indexing.py:671: SettingWithCopyWarning: \n",
      "A value is trying to be set on a copy of a slice from a DataFrame\n",
      "\n",
      "See the caveats in the documentation: https://pandas.pydata.org/pandas-docs/stable/user_guide/indexing.html#returning-a-view-versus-a-copy\n",
      "  self._setitem_with_indexer(indexer, value)\n"
     ]
    },
    {
     "name": "stdout",
     "output_type": "stream",
     "text": [
      "\n"
     ]
    }
   ],
   "source": [
    "from tqdm import tqdm_notebook\n",
    "for test_index, row in tqdm_notebook(enumerate(testset.iterrows()),total=len(testset )):\n",
    "    index = row[0]\n",
    "    \n",
    "    testset.top_1_qpt_eng.iloc[test_index] = dataset.ENG.iloc[dataset.top_1_qpt_eng.iloc[index]]\n",
    "    testset.top_2_qpt_eng.iloc[test_index] = dataset.ENG.iloc[dataset.top_2_qpt_eng.iloc[index]]\n",
    "    testset.top_3_qpt_eng.iloc[test_index] = dataset.ENG.iloc[dataset.top_3_qpt_eng.iloc[index]]\n",
    "    testset.top_4_qpt_eng.iloc[test_index] = dataset.ENG.iloc[dataset.top_4_qpt_eng.iloc[index]]\n",
    "    testset.top_5_qpt_eng.iloc[test_index] = dataset.ENG.iloc[dataset.top_5_qpt_eng.iloc[index]]\n",
    "    testset.top_1_qeng_pt.iloc[test_index] = dataset.PT.iloc[dataset.top_1_qeng_pt.iloc[index]]\n",
    "    testset.top_2_qeng_pt.iloc[test_index] = dataset.PT.iloc[dataset.top_2_qeng_pt.iloc[index]]\n",
    "    testset.top_3_qeng_pt.iloc[test_index] = dataset.PT.iloc[dataset.top_3_qeng_pt.iloc[index]]\n",
    "    testset.top_4_qeng_pt.iloc[test_index] = dataset.PT.iloc[dataset.top_4_qeng_pt.iloc[index]]\n",
    "    testset.top_5_qeng_pt.iloc[test_index] = dataset.PT.iloc[dataset.top_5_qeng_pt.iloc[index]]"
   ]
  },
  {
   "cell_type": "code",
   "execution_count": null,
   "metadata": {},
   "outputs": [],
   "source": [
    "testset.to_pickle(\"/work/datasets/scielo/test_set_with_negatives_strings.pkcl\")"
   ]
  },
  {
   "cell_type": "code",
   "execution_count": 12,
   "metadata": {},
   "outputs": [
    {
     "data": {
      "text/html": [
       "<div>\n",
       "<style scoped>\n",
       "    .dataframe tbody tr th:only-of-type {\n",
       "        vertical-align: middle;\n",
       "    }\n",
       "\n",
       "    .dataframe tbody tr th {\n",
       "        vertical-align: top;\n",
       "    }\n",
       "\n",
       "    .dataframe thead th {\n",
       "        text-align: right;\n",
       "    }\n",
       "</style>\n",
       "<table border=\"1\" class=\"dataframe\">\n",
       "  <thead>\n",
       "    <tr style=\"text-align: right;\">\n",
       "      <th></th>\n",
       "      <th>ENG</th>\n",
       "      <th>PT</th>\n",
       "      <th>top_1_qpt_eng</th>\n",
       "      <th>top_2_qpt_eng</th>\n",
       "      <th>top_3_qpt_eng</th>\n",
       "      <th>top_4_qpt_eng</th>\n",
       "      <th>top_5_qpt_eng</th>\n",
       "      <th>top_1_qeng_pt</th>\n",
       "      <th>top_2_qeng_pt</th>\n",
       "      <th>top_3_qeng_pt</th>\n",
       "      <th>top_4_qeng_pt</th>\n",
       "      <th>top_5_qeng_pt</th>\n",
       "    </tr>\n",
       "  </thead>\n",
       "  <tbody>\n",
       "    <tr>\n",
       "      <th>count</th>\n",
       "      <td>9956</td>\n",
       "      <td>9956</td>\n",
       "      <td>9956</td>\n",
       "      <td>9956</td>\n",
       "      <td>9956</td>\n",
       "      <td>9956</td>\n",
       "      <td>9956</td>\n",
       "      <td>9956</td>\n",
       "      <td>9956</td>\n",
       "      <td>9956</td>\n",
       "      <td>9956</td>\n",
       "      <td>9956</td>\n",
       "    </tr>\n",
       "    <tr>\n",
       "      <th>unique</th>\n",
       "      <td>9956</td>\n",
       "      <td>9956</td>\n",
       "      <td>1358</td>\n",
       "      <td>1737</td>\n",
       "      <td>2027</td>\n",
       "      <td>2235</td>\n",
       "      <td>2494</td>\n",
       "      <td>1108</td>\n",
       "      <td>1379</td>\n",
       "      <td>1564</td>\n",
       "      <td>1773</td>\n",
       "      <td>1954</td>\n",
       "    </tr>\n",
       "    <tr>\n",
       "      <th>top</th>\n",
       "      <td>The possible diagnoses included silent myocard...</td>\n",
       "      <td>Neste contexto de parada cardiorrespiratória, ...</td>\n",
       "      <td>In 1492, the year that Christopher Columbus la...</td>\n",
       "      <td>The research \"Acesso dos imigrantes bolivianos...</td>\n",
       "      <td>This study is part of the database of the proj...</td>\n",
       "      <td>Commerce was the exclusive prerogative of citi...</td>\n",
       "      <td>La Mode said that, at the show, \"le roi de Por...</td>\n",
       "      <td>Foram obedecidas, também, as normas estabeleci...</td>\n",
       "      <td>Neste contexto, considerando-se a utilização d...</td>\n",
       "      <td>Considerou-se o volume sistólico final normal ...</td>\n",
       "      <td>Para estabelecer a gravidade global dos pacien...</td>\n",
       "      <td>Foram utilizados os instrumentos: formulário s...</td>\n",
       "    </tr>\n",
       "    <tr>\n",
       "      <th>freq</th>\n",
       "      <td>1</td>\n",
       "      <td>1</td>\n",
       "      <td>276</td>\n",
       "      <td>105</td>\n",
       "      <td>67</td>\n",
       "      <td>57</td>\n",
       "      <td>46</td>\n",
       "      <td>275</td>\n",
       "      <td>106</td>\n",
       "      <td>69</td>\n",
       "      <td>58</td>\n",
       "      <td>54</td>\n",
       "    </tr>\n",
       "  </tbody>\n",
       "</table>\n",
       "</div>"
      ],
      "text/plain": [
       "                                                      ENG  \\\n",
       "count                                                9956   \n",
       "unique                                               9956   \n",
       "top     The possible diagnoses included silent myocard...   \n",
       "freq                                                    1   \n",
       "\n",
       "                                                       PT  \\\n",
       "count                                                9956   \n",
       "unique                                               9956   \n",
       "top     Neste contexto de parada cardiorrespiratória, ...   \n",
       "freq                                                    1   \n",
       "\n",
       "                                            top_1_qpt_eng  \\\n",
       "count                                                9956   \n",
       "unique                                               1358   \n",
       "top     In 1492, the year that Christopher Columbus la...   \n",
       "freq                                                  276   \n",
       "\n",
       "                                            top_2_qpt_eng  \\\n",
       "count                                                9956   \n",
       "unique                                               1737   \n",
       "top     The research \"Acesso dos imigrantes bolivianos...   \n",
       "freq                                                  105   \n",
       "\n",
       "                                            top_3_qpt_eng  \\\n",
       "count                                                9956   \n",
       "unique                                               2027   \n",
       "top     This study is part of the database of the proj...   \n",
       "freq                                                   67   \n",
       "\n",
       "                                            top_4_qpt_eng  \\\n",
       "count                                                9956   \n",
       "unique                                               2235   \n",
       "top     Commerce was the exclusive prerogative of citi...   \n",
       "freq                                                   57   \n",
       "\n",
       "                                            top_5_qpt_eng  \\\n",
       "count                                                9956   \n",
       "unique                                               2494   \n",
       "top     La Mode said that, at the show, \"le roi de Por...   \n",
       "freq                                                   46   \n",
       "\n",
       "                                            top_1_qeng_pt  \\\n",
       "count                                                9956   \n",
       "unique                                               1108   \n",
       "top     Foram obedecidas, também, as normas estabeleci...   \n",
       "freq                                                  275   \n",
       "\n",
       "                                            top_2_qeng_pt  \\\n",
       "count                                                9956   \n",
       "unique                                               1379   \n",
       "top     Neste contexto, considerando-se a utilização d...   \n",
       "freq                                                  106   \n",
       "\n",
       "                                            top_3_qeng_pt  \\\n",
       "count                                                9956   \n",
       "unique                                               1564   \n",
       "top     Considerou-se o volume sistólico final normal ...   \n",
       "freq                                                   69   \n",
       "\n",
       "                                            top_4_qeng_pt  \\\n",
       "count                                                9956   \n",
       "unique                                               1773   \n",
       "top     Para estabelecer a gravidade global dos pacien...   \n",
       "freq                                                   58   \n",
       "\n",
       "                                            top_5_qeng_pt  \n",
       "count                                                9956  \n",
       "unique                                               1954  \n",
       "top     Foram utilizados os instrumentos: formulário s...  \n",
       "freq                                                   54  "
      ]
     },
     "execution_count": 12,
     "metadata": {},
     "output_type": "execute_result"
    }
   ],
   "source": [
    "testset.describe()"
   ]
  },
  {
   "cell_type": "markdown",
   "metadata": {},
   "source": [
    "# Trainset\n",
    "the most similars are retrieved by top_p (based on Nuclueos Sampling)"
   ]
  },
  {
   "cell_type": "code",
   "execution_count": null,
   "metadata": {},
   "outputs": [],
   "source": [
    "cos = CosineSimilarity()\n",
    "\n",
    "\n",
    "def find_most_similar(query, tensors,index,top_p=0.8,minimum_sampling_size=500):\n",
    "    \n",
    "     \n",
    "    query = query.unsqueeze(0)\n",
    "    cosine_similarity_between_query_tensors = cos(query,tensors)\n",
    "    \n",
    "    \n",
    "    sorted_values, indices_values = torch.sort(cosine_similarity_between_query_tensors,descending=True)\n",
    "    \n",
    "    \n",
    "    out_of_sampling_indeces = indices_values.new_ones(indices_values.shape).type(torch.bool)\n",
    "    sorted_probs = F.softmax(sorted_values, dim=-1)\n",
    "    \n",
    "    cumulated_probs = torch.cumsum(sorted_probs,dim=-1)\n",
    "    out_of_sampling_indeces[ cumulated_probs < top_p ] = False\n",
    "    out_of_sampling_indeces[... , : minimum_sampling_size] = False\n",
    "    sorted_probs[out_of_sampling_indeces] = 0\n",
    "    \n",
    "    sampling = Multinomial(total_count=10,probs=sorted_probs).sample()\n",
    "    \n",
    "    most_similar = indices_values.masked_select(sampling.type(torch.bool))\n",
    "    most_similar = most_similar[most_similar != index]\n",
    "    return most_similar[:5]"
   ]
  },
  {
   "cell_type": "code",
   "execution_count": null,
   "metadata": {},
   "outputs": [],
   "source": [
    "negative_sentence = {\n",
    "    'top_1_qeng_pt': [],\n",
    "    'top_1_qpt_eng': [],\n",
    "    'top_2_qeng_pt': [],\n",
    "    'top_2_qpt_eng': [],\n",
    "    'top_3_qeng_pt': [],\n",
    "    'top_3_qpt_eng': [],\n",
    "    'top_4_qeng_pt': [],\n",
    "    'top_4_qpt_eng': [],\n",
    "    'top_5_qeng_pt': [],\n",
    "    'top_5_qpt_eng': []\n",
    "}\n",
    "total = len(dataset)\n",
    "for index,(eng,pt) in dataset.iterrows():\n",
    "    \n",
    "    # Most lexical similar senentece from pt to eng\n",
    "    qpt_index = find_most_similar(pt_vectors[index],eng_vectors,index)\n",
    "    top1,top2,top3,top4,top5 = qpt_index #dataset.ENG.iloc[qpt_index].values\n",
    "    \n",
    "    negative_sentence['top_1_qpt_eng'].append(top1.item())\n",
    "    negative_sentence['top_2_qpt_eng'].append(top2.item())\n",
    "    negative_sentence['top_3_qpt_eng'].append(top3.item())\n",
    "    negative_sentence['top_4_qpt_eng'].append(top4.item())\n",
    "    negative_sentence['top_5_qpt_eng'].append(top5.item())\n",
    "    \n",
    "    # Most lexical similar senentece from eng to pt\n",
    "    qeng_index = find_most_similar(eng_vectors[index],pt_vectors,index)\n",
    "    top1,top2,top3,top4,top5 = qeng_index #dataset.PT.iloc[qeng_index].values\n",
    "    \n",
    "    negative_sentence['top_1_qeng_pt'].append(top1.item())\n",
    "    negative_sentence['top_2_qeng_pt'].append(top2.item())\n",
    "    negative_sentence['top_3_qeng_pt'].append(top3.item())\n",
    "    negative_sentence['top_4_qeng_pt'].append(top4.item())\n",
    "    negative_sentence['top_5_qeng_pt'].append(top5.item())\n",
    "    \n",
    "    with open(\"datasets/scielo/full_construction_status.txt\",\"w\") as file:\n",
    "        file.write(f\"{index}/{total}\")\n",
    "        \n",
    "dataset['top_1_qpt_eng'] = negative_sentence['top_1_qpt_eng']\n",
    "dataset['top_2_qpt_eng'] = negative_sentence['top_2_qpt_eng']\n",
    "dataset['top_3_qpt_eng'] = negative_sentence['top_3_qpt_eng']\n",
    "dataset['top_4_qpt_eng'] = negative_sentence['top_4_qpt_eng']\n",
    "dataset['top_5_qpt_eng'] = negative_sentence['top_5_qpt_eng']\n",
    "\n",
    "dataset['top_1_qeng_pt'] = negative_sentence['top_1_qeng_pt']\n",
    "dataset['top_2_qeng_pt'] = negative_sentence['top_2_qeng_pt']\n",
    "dataset['top_3_qeng_pt'] = negative_sentence['top_3_qeng_pt']\n",
    "dataset['top_4_qeng_pt'] = negative_sentence['top_4_qeng_pt']\n",
    "dataset['top_5_qeng_pt'] = negative_sentence['top_5_qeng_pt']\n",
    "\n",
    "dataset.to_pickle(\"datasets/scielo/full_data_with_negatives.pkcl\")\n",
    "with open(\"datasets/scielo/full_construction_status.txt\",\"w\") as file:\n",
    "        file.write(\"Done --- \")"
   ]
  },
  {
   "cell_type": "code",
   "execution_count": null,
   "metadata": {},
   "outputs": [],
   "source": [
    "dataset = pd.read_pickle(\"/work/datasets/scielo/full_data_with_negatives.pkcl\")\n",
    "for row in tqdm_notebook(dataset.iterrows(),total=len(dataset )):\n",
    "    index = row[0]\n",
    "    \n",
    "    dataset.top_1_qpt_eng.iloc[index] = dataset.ENG.iloc[dataset.top_1_qpt_eng.iloc[index]]\n",
    "    dataset.top_2_qpt_eng.iloc[index] = dataset.ENG.iloc[dataset.top_2_qpt_eng.iloc[index]]\n",
    "    dataset.top_3_qpt_eng.iloc[index] = dataset.ENG.iloc[dataset.top_3_qpt_eng.iloc[index]]\n",
    "    dataset.top_4_qpt_eng.iloc[index] = dataset.ENG.iloc[dataset.top_4_qpt_eng.iloc[index]]\n",
    "    dataset.top_5_qpt_eng.iloc[index] = dataset.ENG.iloc[dataset.top_5_qpt_eng.iloc[index]]\n",
    "    dataset.top_1_qeng_pt.iloc[index] = dataset.PT.iloc[dataset.top_1_qeng_pt.iloc[index]]\n",
    "    dataset.top_2_qeng_pt.iloc[index] = dataset.PT.iloc[dataset.top_2_qeng_pt.iloc[index]]\n",
    "    dataset.top_3_qeng_pt.iloc[index] = dataset.PT.iloc[dataset.top_3_qeng_pt.iloc[index]]\n",
    "    dataset.top_4_qeng_pt.iloc[index] = dataset.PT.iloc[dataset.top_4_qeng_pt.iloc[index]]\n",
    "    dataset.top_5_qeng_pt.iloc[index] = dataset.PT.iloc[dataset.top_5_qeng_pt.iloc[index]]\n",
    "    \n",
    "dataset.to_pickle(\"/work/datasets/scielo/full_data_with_negatives_strings.pkcl\")\n"
   ]
  },
  {
   "cell_type": "code",
   "execution_count": 35,
   "metadata": {},
   "outputs": [],
   "source": [
    "TRAIN_DATA = pd.read_pickle(\"/work/datasets/scielo/full_data_with_negatives_strings.pkcl\")"
   ]
  },
  {
   "cell_type": "code",
   "execution_count": 36,
   "metadata": {},
   "outputs": [
    {
     "data": {
      "text/html": [
       "<div>\n",
       "<style scoped>\n",
       "    .dataframe tbody tr th:only-of-type {\n",
       "        vertical-align: middle;\n",
       "    }\n",
       "\n",
       "    .dataframe tbody tr th {\n",
       "        vertical-align: top;\n",
       "    }\n",
       "\n",
       "    .dataframe thead th {\n",
       "        text-align: right;\n",
       "    }\n",
       "</style>\n",
       "<table border=\"1\" class=\"dataframe\">\n",
       "  <thead>\n",
       "    <tr style=\"text-align: right;\">\n",
       "      <th></th>\n",
       "      <th>ENG</th>\n",
       "      <th>PT</th>\n",
       "      <th>top_1_qpt_eng</th>\n",
       "      <th>top_2_qpt_eng</th>\n",
       "      <th>top_3_qpt_eng</th>\n",
       "      <th>top_4_qpt_eng</th>\n",
       "      <th>top_5_qpt_eng</th>\n",
       "      <th>top_1_qeng_pt</th>\n",
       "      <th>top_2_qeng_pt</th>\n",
       "      <th>top_3_qeng_pt</th>\n",
       "      <th>top_4_qeng_pt</th>\n",
       "      <th>top_5_qeng_pt</th>\n",
       "    </tr>\n",
       "  </thead>\n",
       "  <tbody>\n",
       "    <tr>\n",
       "      <th>count</th>\n",
       "      <td>816471</td>\n",
       "      <td>816471</td>\n",
       "      <td>816471</td>\n",
       "      <td>816471</td>\n",
       "      <td>816471</td>\n",
       "      <td>816471</td>\n",
       "      <td>816471</td>\n",
       "      <td>816471</td>\n",
       "      <td>816471</td>\n",
       "      <td>816471</td>\n",
       "      <td>816471</td>\n",
       "      <td>816471</td>\n",
       "    </tr>\n",
       "    <tr>\n",
       "      <th>unique</th>\n",
       "      <td>816471</td>\n",
       "      <td>816471</td>\n",
       "      <td>240027</td>\n",
       "      <td>331200</td>\n",
       "      <td>381324</td>\n",
       "      <td>410643</td>\n",
       "      <td>426533</td>\n",
       "      <td>164080</td>\n",
       "      <td>236628</td>\n",
       "      <td>283497</td>\n",
       "      <td>312654</td>\n",
       "      <td>329689</td>\n",
       "    </tr>\n",
       "    <tr>\n",
       "      <th>top</th>\n",
       "      <td>In the past, we did not perform insufflation w...</td>\n",
       "      <td>Em última análise, a convergência entre nature...</td>\n",
       "      <td>MD, Boston University; Reader Immunology, Univ...</td>\n",
       "      <td>In many patients this was the only definite tr...</td>\n",
       "      <td>In 15, the conditional construction has the pr...</td>\n",
       "      <td>The performance of the students from this stud...</td>\n",
       "      <td>Most of the previous reports have used clinica...</td>\n",
       "      <td>Dentre as demais variáveis testadas na análise...</td>\n",
       "      <td>No Brasil, a disponibilidade domiciliar de fru...</td>\n",
       "      <td>Contudo, como ambas as universidades ocupam as...</td>\n",
       "      <td>Logo, acreditamos que esses fatores podem ter ...</td>\n",
       "      <td>Os distúrbios de leitura e escrita encontram-s...</td>\n",
       "    </tr>\n",
       "    <tr>\n",
       "      <th>freq</th>\n",
       "      <td>1</td>\n",
       "      <td>1</td>\n",
       "      <td>35</td>\n",
       "      <td>16</td>\n",
       "      <td>14</td>\n",
       "      <td>12</td>\n",
       "      <td>11</td>\n",
       "      <td>35</td>\n",
       "      <td>20</td>\n",
       "      <td>16</td>\n",
       "      <td>14</td>\n",
       "      <td>13</td>\n",
       "    </tr>\n",
       "  </tbody>\n",
       "</table>\n",
       "</div>"
      ],
      "text/plain": [
       "                                                      ENG  \\\n",
       "count                                              816471   \n",
       "unique                                             816471   \n",
       "top     In the past, we did not perform insufflation w...   \n",
       "freq                                                    1   \n",
       "\n",
       "                                                       PT  \\\n",
       "count                                              816471   \n",
       "unique                                             816471   \n",
       "top     Em última análise, a convergência entre nature...   \n",
       "freq                                                    1   \n",
       "\n",
       "                                            top_1_qpt_eng  \\\n",
       "count                                              816471   \n",
       "unique                                             240027   \n",
       "top     MD, Boston University; Reader Immunology, Univ...   \n",
       "freq                                                   35   \n",
       "\n",
       "                                            top_2_qpt_eng  \\\n",
       "count                                              816471   \n",
       "unique                                             331200   \n",
       "top     In many patients this was the only definite tr...   \n",
       "freq                                                   16   \n",
       "\n",
       "                                            top_3_qpt_eng  \\\n",
       "count                                              816471   \n",
       "unique                                             381324   \n",
       "top     In 15, the conditional construction has the pr...   \n",
       "freq                                                   14   \n",
       "\n",
       "                                            top_4_qpt_eng  \\\n",
       "count                                              816471   \n",
       "unique                                             410643   \n",
       "top     The performance of the students from this stud...   \n",
       "freq                                                   12   \n",
       "\n",
       "                                            top_5_qpt_eng  \\\n",
       "count                                              816471   \n",
       "unique                                             426533   \n",
       "top     Most of the previous reports have used clinica...   \n",
       "freq                                                   11   \n",
       "\n",
       "                                            top_1_qeng_pt  \\\n",
       "count                                              816471   \n",
       "unique                                             164080   \n",
       "top     Dentre as demais variáveis testadas na análise...   \n",
       "freq                                                   35   \n",
       "\n",
       "                                            top_2_qeng_pt  \\\n",
       "count                                              816471   \n",
       "unique                                             236628   \n",
       "top     No Brasil, a disponibilidade domiciliar de fru...   \n",
       "freq                                                   20   \n",
       "\n",
       "                                            top_3_qeng_pt  \\\n",
       "count                                              816471   \n",
       "unique                                             283497   \n",
       "top     Contudo, como ambas as universidades ocupam as...   \n",
       "freq                                                   16   \n",
       "\n",
       "                                            top_4_qeng_pt  \\\n",
       "count                                              816471   \n",
       "unique                                             312654   \n",
       "top     Logo, acreditamos que esses fatores podem ter ...   \n",
       "freq                                                   14   \n",
       "\n",
       "                                            top_5_qeng_pt  \n",
       "count                                              816471  \n",
       "unique                                             329689  \n",
       "top     Os distúrbios de leitura e escrita encontram-s...  \n",
       "freq                                                   13  "
      ]
     },
     "execution_count": 36,
     "metadata": {},
     "output_type": "execute_result"
    }
   ],
   "source": [
    "TRAIN_DATA.describe()"
   ]
  },
  {
   "cell_type": "markdown",
   "metadata": {},
   "source": [
    "### Remove from TRAIN_DATA the samples that are in testset"
   ]
  },
  {
   "cell_type": "code",
   "execution_count": 37,
   "metadata": {},
   "outputs": [
    {
     "data": {
      "text/plain": [
       "816471"
      ]
     },
     "execution_count": 37,
     "metadata": {},
     "output_type": "execute_result"
    }
   ],
   "source": [
    "len(TRAIN_DATA)"
   ]
  },
  {
   "cell_type": "code",
   "execution_count": 43,
   "metadata": {},
   "outputs": [],
   "source": [
    "TRAIN_DATA = TRAIN_DATA.drop(index=testset.index)"
   ]
  },
  {
   "cell_type": "code",
   "execution_count": 44,
   "metadata": {},
   "outputs": [
    {
     "data": {
      "text/plain": [
       "806515"
      ]
     },
     "execution_count": 44,
     "metadata": {},
     "output_type": "execute_result"
    }
   ],
   "source": [
    "len(TRAIN_DATA)"
   ]
  },
  {
   "cell_type": "code",
   "execution_count": 45,
   "metadata": {},
   "outputs": [],
   "source": [
    "TRAIN_DATA.to_pickle(\"/work/datasets/scielo/TRAINSET_with_negatives_strings.pckl\")"
   ]
  },
  {
   "cell_type": "markdown",
   "metadata": {},
   "source": [
    "# Conclusions and Stats"
   ]
  },
  {
   "cell_type": "code",
   "execution_count": 50,
   "metadata": {},
   "outputs": [
    {
     "data": {
      "text/html": [
       "<div>\n",
       "<style scoped>\n",
       "    .dataframe tbody tr th:only-of-type {\n",
       "        vertical-align: middle;\n",
       "    }\n",
       "\n",
       "    .dataframe tbody tr th {\n",
       "        vertical-align: top;\n",
       "    }\n",
       "\n",
       "    .dataframe thead th {\n",
       "        text-align: right;\n",
       "    }\n",
       "</style>\n",
       "<table border=\"1\" class=\"dataframe\">\n",
       "  <thead>\n",
       "    <tr style=\"text-align: right;\">\n",
       "      <th></th>\n",
       "      <th>ENG</th>\n",
       "      <th>PT</th>\n",
       "      <th>top_1_qpt_eng</th>\n",
       "      <th>top_2_qpt_eng</th>\n",
       "      <th>top_3_qpt_eng</th>\n",
       "      <th>top_4_qpt_eng</th>\n",
       "      <th>top_5_qpt_eng</th>\n",
       "      <th>top_1_qeng_pt</th>\n",
       "      <th>top_2_qeng_pt</th>\n",
       "      <th>top_3_qeng_pt</th>\n",
       "      <th>top_4_qeng_pt</th>\n",
       "      <th>top_5_qeng_pt</th>\n",
       "    </tr>\n",
       "  </thead>\n",
       "  <tbody>\n",
       "    <tr>\n",
       "      <th>count</th>\n",
       "      <td>9956</td>\n",
       "      <td>9956</td>\n",
       "      <td>9956</td>\n",
       "      <td>9956</td>\n",
       "      <td>9956</td>\n",
       "      <td>9956</td>\n",
       "      <td>9956</td>\n",
       "      <td>9956</td>\n",
       "      <td>9956</td>\n",
       "      <td>9956</td>\n",
       "      <td>9956</td>\n",
       "      <td>9956</td>\n",
       "    </tr>\n",
       "    <tr>\n",
       "      <th>unique</th>\n",
       "      <td>9956</td>\n",
       "      <td>9956</td>\n",
       "      <td>1358</td>\n",
       "      <td>1737</td>\n",
       "      <td>2027</td>\n",
       "      <td>2235</td>\n",
       "      <td>2494</td>\n",
       "      <td>1108</td>\n",
       "      <td>1379</td>\n",
       "      <td>1564</td>\n",
       "      <td>1773</td>\n",
       "      <td>1954</td>\n",
       "    </tr>\n",
       "    <tr>\n",
       "      <th>top</th>\n",
       "      <td>The possible diagnoses included silent myocard...</td>\n",
       "      <td>Neste contexto de parada cardiorrespiratória, ...</td>\n",
       "      <td>In 1492, the year that Christopher Columbus la...</td>\n",
       "      <td>The research \"Acesso dos imigrantes bolivianos...</td>\n",
       "      <td>This study is part of the database of the proj...</td>\n",
       "      <td>Commerce was the exclusive prerogative of citi...</td>\n",
       "      <td>La Mode said that, at the show, \"le roi de Por...</td>\n",
       "      <td>Foram obedecidas, também, as normas estabeleci...</td>\n",
       "      <td>Neste contexto, considerando-se a utilização d...</td>\n",
       "      <td>Considerou-se o volume sistólico final normal ...</td>\n",
       "      <td>Para estabelecer a gravidade global dos pacien...</td>\n",
       "      <td>Foram utilizados os instrumentos: formulário s...</td>\n",
       "    </tr>\n",
       "    <tr>\n",
       "      <th>freq</th>\n",
       "      <td>1</td>\n",
       "      <td>1</td>\n",
       "      <td>276</td>\n",
       "      <td>105</td>\n",
       "      <td>67</td>\n",
       "      <td>57</td>\n",
       "      <td>46</td>\n",
       "      <td>275</td>\n",
       "      <td>106</td>\n",
       "      <td>69</td>\n",
       "      <td>58</td>\n",
       "      <td>54</td>\n",
       "    </tr>\n",
       "  </tbody>\n",
       "</table>\n",
       "</div>"
      ],
      "text/plain": [
       "                                                      ENG  \\\n",
       "count                                                9956   \n",
       "unique                                               9956   \n",
       "top     The possible diagnoses included silent myocard...   \n",
       "freq                                                    1   \n",
       "\n",
       "                                                       PT  \\\n",
       "count                                                9956   \n",
       "unique                                               9956   \n",
       "top     Neste contexto de parada cardiorrespiratória, ...   \n",
       "freq                                                    1   \n",
       "\n",
       "                                            top_1_qpt_eng  \\\n",
       "count                                                9956   \n",
       "unique                                               1358   \n",
       "top     In 1492, the year that Christopher Columbus la...   \n",
       "freq                                                  276   \n",
       "\n",
       "                                            top_2_qpt_eng  \\\n",
       "count                                                9956   \n",
       "unique                                               1737   \n",
       "top     The research \"Acesso dos imigrantes bolivianos...   \n",
       "freq                                                  105   \n",
       "\n",
       "                                            top_3_qpt_eng  \\\n",
       "count                                                9956   \n",
       "unique                                               2027   \n",
       "top     This study is part of the database of the proj...   \n",
       "freq                                                   67   \n",
       "\n",
       "                                            top_4_qpt_eng  \\\n",
       "count                                                9956   \n",
       "unique                                               2235   \n",
       "top     Commerce was the exclusive prerogative of citi...   \n",
       "freq                                                   57   \n",
       "\n",
       "                                            top_5_qpt_eng  \\\n",
       "count                                                9956   \n",
       "unique                                               2494   \n",
       "top     La Mode said that, at the show, \"le roi de Por...   \n",
       "freq                                                   46   \n",
       "\n",
       "                                            top_1_qeng_pt  \\\n",
       "count                                                9956   \n",
       "unique                                               1108   \n",
       "top     Foram obedecidas, também, as normas estabeleci...   \n",
       "freq                                                  275   \n",
       "\n",
       "                                            top_2_qeng_pt  \\\n",
       "count                                                9956   \n",
       "unique                                               1379   \n",
       "top     Neste contexto, considerando-se a utilização d...   \n",
       "freq                                                  106   \n",
       "\n",
       "                                            top_3_qeng_pt  \\\n",
       "count                                                9956   \n",
       "unique                                               1564   \n",
       "top     Considerou-se o volume sistólico final normal ...   \n",
       "freq                                                   69   \n",
       "\n",
       "                                            top_4_qeng_pt  \\\n",
       "count                                                9956   \n",
       "unique                                               1773   \n",
       "top     Para estabelecer a gravidade global dos pacien...   \n",
       "freq                                                   58   \n",
       "\n",
       "                                            top_5_qeng_pt  \n",
       "count                                                9956  \n",
       "unique                                               1954  \n",
       "top     Foram utilizados os instrumentos: formulário s...  \n",
       "freq                                                   54  "
      ]
     },
     "execution_count": 50,
     "metadata": {},
     "output_type": "execute_result"
    }
   ],
   "source": [
    "## TESTSET\n",
    "testset.describe()"
   ]
  },
  {
   "cell_type": "code",
   "execution_count": 51,
   "metadata": {},
   "outputs": [
    {
     "data": {
      "text/html": [
       "<div>\n",
       "<style scoped>\n",
       "    .dataframe tbody tr th:only-of-type {\n",
       "        vertical-align: middle;\n",
       "    }\n",
       "\n",
       "    .dataframe tbody tr th {\n",
       "        vertical-align: top;\n",
       "    }\n",
       "\n",
       "    .dataframe thead th {\n",
       "        text-align: right;\n",
       "    }\n",
       "</style>\n",
       "<table border=\"1\" class=\"dataframe\">\n",
       "  <thead>\n",
       "    <tr style=\"text-align: right;\">\n",
       "      <th></th>\n",
       "      <th>ENG</th>\n",
       "      <th>PT</th>\n",
       "      <th>top_1_qpt_eng</th>\n",
       "      <th>top_2_qpt_eng</th>\n",
       "      <th>top_3_qpt_eng</th>\n",
       "      <th>top_4_qpt_eng</th>\n",
       "      <th>top_5_qpt_eng</th>\n",
       "      <th>top_1_qeng_pt</th>\n",
       "      <th>top_2_qeng_pt</th>\n",
       "      <th>top_3_qeng_pt</th>\n",
       "      <th>top_4_qeng_pt</th>\n",
       "      <th>top_5_qeng_pt</th>\n",
       "    </tr>\n",
       "  </thead>\n",
       "  <tbody>\n",
       "    <tr>\n",
       "      <th>count</th>\n",
       "      <td>806515</td>\n",
       "      <td>806515</td>\n",
       "      <td>806515</td>\n",
       "      <td>806515</td>\n",
       "      <td>806515</td>\n",
       "      <td>806515</td>\n",
       "      <td>806515</td>\n",
       "      <td>806515</td>\n",
       "      <td>806515</td>\n",
       "      <td>806515</td>\n",
       "      <td>806515</td>\n",
       "      <td>806515</td>\n",
       "    </tr>\n",
       "    <tr>\n",
       "      <th>unique</th>\n",
       "      <td>806515</td>\n",
       "      <td>806515</td>\n",
       "      <td>237590</td>\n",
       "      <td>328340</td>\n",
       "      <td>378180</td>\n",
       "      <td>407336</td>\n",
       "      <td>423166</td>\n",
       "      <td>163229</td>\n",
       "      <td>235504</td>\n",
       "      <td>282165</td>\n",
       "      <td>311014</td>\n",
       "      <td>327881</td>\n",
       "    </tr>\n",
       "    <tr>\n",
       "      <th>top</th>\n",
       "      <td>The high-resolution ECG HRECG is a useful tool...</td>\n",
       "      <td>O confinamento revelou-se mais difícil para as...</td>\n",
       "      <td>MD, Boston University; Reader Immunology, Univ...</td>\n",
       "      <td>In many patients this was the only definite tr...</td>\n",
       "      <td>In 15, the conditional construction has the pr...</td>\n",
       "      <td>The performance of the students from this stud...</td>\n",
       "      <td>Future studies should be conducted in order to...</td>\n",
       "      <td>Os princípios do modelo científico para compre...</td>\n",
       "      <td>No Brasil, a disponibilidade domiciliar de fru...</td>\n",
       "      <td>Contudo, como ambas as universidades ocupam as...</td>\n",
       "      <td>Após o ensaio clínico, no grupo vitamina D, a ...</td>\n",
       "      <td>Estudos recentes mostram que, para pacientes p...</td>\n",
       "    </tr>\n",
       "    <tr>\n",
       "      <th>freq</th>\n",
       "      <td>1</td>\n",
       "      <td>1</td>\n",
       "      <td>35</td>\n",
       "      <td>16</td>\n",
       "      <td>14</td>\n",
       "      <td>12</td>\n",
       "      <td>11</td>\n",
       "      <td>35</td>\n",
       "      <td>20</td>\n",
       "      <td>16</td>\n",
       "      <td>14</td>\n",
       "      <td>13</td>\n",
       "    </tr>\n",
       "  </tbody>\n",
       "</table>\n",
       "</div>"
      ],
      "text/plain": [
       "                                                      ENG  \\\n",
       "count                                              806515   \n",
       "unique                                             806515   \n",
       "top     The high-resolution ECG HRECG is a useful tool...   \n",
       "freq                                                    1   \n",
       "\n",
       "                                                       PT  \\\n",
       "count                                              806515   \n",
       "unique                                             806515   \n",
       "top     O confinamento revelou-se mais difícil para as...   \n",
       "freq                                                    1   \n",
       "\n",
       "                                            top_1_qpt_eng  \\\n",
       "count                                              806515   \n",
       "unique                                             237590   \n",
       "top     MD, Boston University; Reader Immunology, Univ...   \n",
       "freq                                                   35   \n",
       "\n",
       "                                            top_2_qpt_eng  \\\n",
       "count                                              806515   \n",
       "unique                                             328340   \n",
       "top     In many patients this was the only definite tr...   \n",
       "freq                                                   16   \n",
       "\n",
       "                                            top_3_qpt_eng  \\\n",
       "count                                              806515   \n",
       "unique                                             378180   \n",
       "top     In 15, the conditional construction has the pr...   \n",
       "freq                                                   14   \n",
       "\n",
       "                                            top_4_qpt_eng  \\\n",
       "count                                              806515   \n",
       "unique                                             407336   \n",
       "top     The performance of the students from this stud...   \n",
       "freq                                                   12   \n",
       "\n",
       "                                            top_5_qpt_eng  \\\n",
       "count                                              806515   \n",
       "unique                                             423166   \n",
       "top     Future studies should be conducted in order to...   \n",
       "freq                                                   11   \n",
       "\n",
       "                                            top_1_qeng_pt  \\\n",
       "count                                              806515   \n",
       "unique                                             163229   \n",
       "top     Os princípios do modelo científico para compre...   \n",
       "freq                                                   35   \n",
       "\n",
       "                                            top_2_qeng_pt  \\\n",
       "count                                              806515   \n",
       "unique                                             235504   \n",
       "top     No Brasil, a disponibilidade domiciliar de fru...   \n",
       "freq                                                   20   \n",
       "\n",
       "                                            top_3_qeng_pt  \\\n",
       "count                                              806515   \n",
       "unique                                             282165   \n",
       "top     Contudo, como ambas as universidades ocupam as...   \n",
       "freq                                                   16   \n",
       "\n",
       "                                            top_4_qeng_pt  \\\n",
       "count                                              806515   \n",
       "unique                                             311014   \n",
       "top     Após o ensaio clínico, no grupo vitamina D, a ...   \n",
       "freq                                                   14   \n",
       "\n",
       "                                            top_5_qeng_pt  \n",
       "count                                              806515  \n",
       "unique                                             327881  \n",
       "top     Estudos recentes mostram que, para pacientes p...  \n",
       "freq                                                   13  "
      ]
     },
     "execution_count": 51,
     "metadata": {},
     "output_type": "execute_result"
    }
   ],
   "source": [
    "# Trainset\n",
    "TRAIN_DATA.describe()"
   ]
  },
  {
   "cell_type": "markdown",
   "metadata": {},
   "source": [
    "The testset has few data, but its data is lexically similar to the 'ENG'/'PT' sentence\n",
    "On the other hand, TRAIN_DATA has much more data, with this similarity relaxed, to have more diversity between the query 'ENG'/'PT' and the retrieved sentences."
   ]
  }
 ],
 "metadata": {
  "kernelspec": {
   "display_name": "Python 3",
   "language": "python",
   "name": "python3"
  },
  "language_info": {
   "codemirror_mode": {
    "name": "ipython",
    "version": 3
   },
   "file_extension": ".py",
   "mimetype": "text/x-python",
   "name": "python",
   "nbconvert_exporter": "python",
   "pygments_lexer": "ipython3",
   "version": "3.6.9"
  }
 },
 "nbformat": 4,
 "nbformat_minor": 4
}
