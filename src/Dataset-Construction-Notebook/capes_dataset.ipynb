{
 "cells": [
  {
   "cell_type": "markdown",
   "metadata": {},
   "source": [
    "# Dataset\n",
    "This notebook organize and divide [CAPES](https://figshare.com/articles/A_Parallel_Corpus_of_Thesis_and_Dissertations_Abstracts/5995519/2) dataset"
   ]
  },
  {
   "cell_type": "markdown",
   "metadata": {},
   "source": [
    "# Import Cell"
   ]
  },
  {
   "cell_type": "code",
   "execution_count": null,
   "metadata": {},
   "outputs": [],
   "source": [
    "! pip install langdetect \n",
    "! pip install swifter"
   ]
  },
  {
   "cell_type": "code",
   "execution_count": 8,
   "metadata": {},
   "outputs": [],
   "source": [
    "from glob import glob\n",
    "import os\n",
    "\n",
    "import pandas as pd\n",
    "import swifter\n",
    "\n",
    "import numpy as np\n",
    "from matplotlib import pyplot as plt \n",
    "\n",
    "from tqdm.notebook import tnrange, tqdm_notebook\n",
    "\n",
    "import torch\n",
    "from torch.distributions.multinomial import Multinomial\n",
    "from torch.nn import CosineSimilarity\n",
    "import torch.nn.functional as F\n",
    "from langdetect import detect\n",
    "from torchtext.vocab import GloVe\n",
    "import string\n",
    "\n",
    "%matplotlib inline"
   ]
  },
  {
   "cell_type": "markdown",
   "metadata": {},
   "source": [
    "# Reading capes Dataset"
   ]
  },
  {
   "cell_type": "markdown",
   "metadata": {},
   "source": [
    "Downloading data"
   ]
  },
  {
   "cell_type": "code",
   "execution_count": null,
   "metadata": {},
   "outputs": [],
   "source": [
    "! wget -nc -O /work/datasets/capes/capes.tar.gz https://ndownloader.figshare.com/files/14015837\n",
    "! tar -xzf /work/datasets/capes/capes.tar.gz"
   ]
  },
  {
   "cell_type": "code",
   "execution_count": 9,
   "metadata": {},
   "outputs": [],
   "source": [
    "eng_capes_path = \"/work/datasets/capes/en_pt.en\"\n",
    "pt_capes_path = \"/work/datasets/capes/en_pt.pt\"\n",
    "\n",
    "eng_capes = []\n",
    "with open(eng_capes_path, 'r') as file:\n",
    "    eng_capes = file.readlines()\n",
    "    \n",
    "pt_capes = []\n",
    "with open(pt_capes_path, 'r') as file:\n",
    "    pt_capes = file.readlines()"
   ]
  },
  {
   "cell_type": "code",
   "execution_count": 10,
   "metadata": {},
   "outputs": [
    {
     "data": {
      "text/plain": [
       "'in this thesis we present two distinct research lines, namely, the first, referring to chapters 2 and 3, apply statistical techniques to the analysis of synthetic aperture radar (sar) images, and the second, referring to chapter 4, we examined problems concerning parameter estimation by maximum likelihood in exponential-poisson distribution.\\n'"
      ]
     },
     "execution_count": 10,
     "metadata": {},
     "output_type": "execute_result"
    }
   ],
   "source": [
    "eng_capes[0]"
   ]
  },
  {
   "cell_type": "code",
   "execution_count": 11,
   "metadata": {},
   "outputs": [
    {
     "data": {
      "text/plain": [
       "'nessa tese apresentamos duas linhas de pesquisa distintas, a saber, na primeira, referente aos capítulos 1 e 3 aplicamos técnicas estatísticas à análise de imagens do satélite de abertura sintética (sar) e, na segunda, referente ao capítulo 2, examinamos problemas relativos à estimação de parâmetros por máxima verossimilhança na distribuição exponencial-poisson.\\n'"
      ]
     },
     "execution_count": 11,
     "metadata": {},
     "output_type": "execute_result"
    }
   ],
   "source": [
    "pt_capes[0]"
   ]
  },
  {
   "cell_type": "markdown",
   "metadata": {},
   "source": [
    "## Analyzing capes Dataset with panda"
   ]
  },
  {
   "cell_type": "code",
   "execution_count": 12,
   "metadata": {},
   "outputs": [],
   "source": [
    "capes = pd.DataFrame((zip(eng_capes, pt_capes)), \n",
    "               columns =['ENG', 'PT']) "
   ]
  },
  {
   "cell_type": "code",
   "execution_count": 13,
   "metadata": {},
   "outputs": [
    {
     "data": {
      "text/html": [
       "<div>\n",
       "<style scoped>\n",
       "    .dataframe tbody tr th:only-of-type {\n",
       "        vertical-align: middle;\n",
       "    }\n",
       "\n",
       "    .dataframe tbody tr th {\n",
       "        vertical-align: top;\n",
       "    }\n",
       "\n",
       "    .dataframe thead th {\n",
       "        text-align: right;\n",
       "    }\n",
       "</style>\n",
       "<table border=\"1\" class=\"dataframe\">\n",
       "  <thead>\n",
       "    <tr style=\"text-align: right;\">\n",
       "      <th></th>\n",
       "      <th>ENG</th>\n",
       "      <th>PT</th>\n",
       "    </tr>\n",
       "  </thead>\n",
       "  <tbody>\n",
       "    <tr>\n",
       "      <th>count</th>\n",
       "      <td>1157610</td>\n",
       "      <td>1157610</td>\n",
       "    </tr>\n",
       "    <tr>\n",
       "      <th>unique</th>\n",
       "      <td>1155267</td>\n",
       "      <td>1154916</td>\n",
       "    </tr>\n",
       "    <tr>\n",
       "      <th>top</th>\n",
       "      <td>dogs have the nephropathy associated with visc...</td>\n",
       "      <td>a presente dissertação foi desenvolvida no âmb...</td>\n",
       "    </tr>\n",
       "    <tr>\n",
       "      <th>freq</th>\n",
       "      <td>10</td>\n",
       "      <td>30</td>\n",
       "    </tr>\n",
       "  </tbody>\n",
       "</table>\n",
       "</div>"
      ],
      "text/plain": [
       "                                                      ENG  \\\n",
       "count                                             1157610   \n",
       "unique                                            1155267   \n",
       "top     dogs have the nephropathy associated with visc...   \n",
       "freq                                                   10   \n",
       "\n",
       "                                                       PT  \n",
       "count                                             1157610  \n",
       "unique                                            1154916  \n",
       "top     a presente dissertação foi desenvolvida no âmb...  \n",
       "freq                                                   30  "
      ]
     },
     "execution_count": 13,
     "metadata": {},
     "output_type": "execute_result"
    }
   ],
   "source": [
    "capes.describe()"
   ]
  },
  {
   "cell_type": "code",
   "execution_count": 14,
   "metadata": {},
   "outputs": [],
   "source": [
    "# Removing duplicates\n",
    "capes = capes.drop_duplicates(subset='ENG', keep=\"first\")\n",
    "capes = capes.drop_duplicates(subset='PT', keep=\"first\")"
   ]
  },
  {
   "cell_type": "code",
   "execution_count": 15,
   "metadata": {},
   "outputs": [
    {
     "data": {
      "text/html": [
       "<div>\n",
       "<style scoped>\n",
       "    .dataframe tbody tr th:only-of-type {\n",
       "        vertical-align: middle;\n",
       "    }\n",
       "\n",
       "    .dataframe tbody tr th {\n",
       "        vertical-align: top;\n",
       "    }\n",
       "\n",
       "    .dataframe thead th {\n",
       "        text-align: right;\n",
       "    }\n",
       "</style>\n",
       "<table border=\"1\" class=\"dataframe\">\n",
       "  <thead>\n",
       "    <tr style=\"text-align: right;\">\n",
       "      <th></th>\n",
       "      <th>ENG</th>\n",
       "      <th>PT</th>\n",
       "    </tr>\n",
       "  </thead>\n",
       "  <tbody>\n",
       "    <tr>\n",
       "      <th>count</th>\n",
       "      <td>1154256</td>\n",
       "      <td>1154256</td>\n",
       "    </tr>\n",
       "    <tr>\n",
       "      <th>unique</th>\n",
       "      <td>1154256</td>\n",
       "      <td>1154256</td>\n",
       "    </tr>\n",
       "    <tr>\n",
       "      <th>top</th>\n",
       "      <td>among the forms of knowledge visualization, in...</td>\n",
       "      <td>neste dissertação apresentamos um protocolo pa...</td>\n",
       "    </tr>\n",
       "    <tr>\n",
       "      <th>freq</th>\n",
       "      <td>1</td>\n",
       "      <td>1</td>\n",
       "    </tr>\n",
       "  </tbody>\n",
       "</table>\n",
       "</div>"
      ],
      "text/plain": [
       "                                                      ENG  \\\n",
       "count                                             1154256   \n",
       "unique                                            1154256   \n",
       "top     among the forms of knowledge visualization, in...   \n",
       "freq                                                    1   \n",
       "\n",
       "                                                       PT  \n",
       "count                                             1154256  \n",
       "unique                                            1154256  \n",
       "top     neste dissertação apresentamos um protocolo pa...  \n",
       "freq                                                    1  "
      ]
     },
     "execution_count": 15,
     "metadata": {},
     "output_type": "execute_result"
    }
   ],
   "source": [
    "capes.describe()"
   ]
  },
  {
   "cell_type": "code",
   "execution_count": 16,
   "metadata": {},
   "outputs": [],
   "source": [
    "# Checking length of each sentence on the dataset\n",
    "capes['ENG_LENGTH'] = capes.apply( lambda row: len(row['ENG'].split()),axis=1)\n",
    "capes['PT_LENGTH']  = capes.apply( lambda row: len(row['PT'].split()),axis=1)"
   ]
  },
  {
   "cell_type": "code",
   "execution_count": 17,
   "metadata": {},
   "outputs": [],
   "source": [
    "# drop to small sentences (size < 30)\n",
    "capes = capes.mask(capes.ENG_LENGTH < 30 ).dropna()\n",
    "capes = capes.mask(capes.PT_LENGTH < 30 ).dropna()"
   ]
  },
  {
   "cell_type": "code",
   "execution_count": 18,
   "metadata": {},
   "outputs": [
    {
     "data": {
      "text/html": [
       "<div>\n",
       "<style scoped>\n",
       "    .dataframe tbody tr th:only-of-type {\n",
       "        vertical-align: middle;\n",
       "    }\n",
       "\n",
       "    .dataframe tbody tr th {\n",
       "        vertical-align: top;\n",
       "    }\n",
       "\n",
       "    .dataframe thead th {\n",
       "        text-align: right;\n",
       "    }\n",
       "</style>\n",
       "<table border=\"1\" class=\"dataframe\">\n",
       "  <thead>\n",
       "    <tr style=\"text-align: right;\">\n",
       "      <th></th>\n",
       "      <th>ENG_LENGTH</th>\n",
       "      <th>PT_LENGTH</th>\n",
       "    </tr>\n",
       "  </thead>\n",
       "  <tbody>\n",
       "    <tr>\n",
       "      <th>count</th>\n",
       "      <td>405344.000000</td>\n",
       "      <td>405344.000000</td>\n",
       "    </tr>\n",
       "    <tr>\n",
       "      <th>mean</th>\n",
       "      <td>43.623747</td>\n",
       "      <td>43.880825</td>\n",
       "    </tr>\n",
       "    <tr>\n",
       "      <th>std</th>\n",
       "      <td>13.472300</td>\n",
       "      <td>13.136912</td>\n",
       "    </tr>\n",
       "    <tr>\n",
       "      <th>min</th>\n",
       "      <td>30.000000</td>\n",
       "      <td>30.000000</td>\n",
       "    </tr>\n",
       "    <tr>\n",
       "      <th>25%</th>\n",
       "      <td>34.000000</td>\n",
       "      <td>35.000000</td>\n",
       "    </tr>\n",
       "    <tr>\n",
       "      <th>50%</th>\n",
       "      <td>40.000000</td>\n",
       "      <td>40.000000</td>\n",
       "    </tr>\n",
       "    <tr>\n",
       "      <th>75%</th>\n",
       "      <td>49.000000</td>\n",
       "      <td>49.000000</td>\n",
       "    </tr>\n",
       "    <tr>\n",
       "      <th>max</th>\n",
       "      <td>206.000000</td>\n",
       "      <td>197.000000</td>\n",
       "    </tr>\n",
       "  </tbody>\n",
       "</table>\n",
       "</div>"
      ],
      "text/plain": [
       "          ENG_LENGTH      PT_LENGTH\n",
       "count  405344.000000  405344.000000\n",
       "mean       43.623747      43.880825\n",
       "std        13.472300      13.136912\n",
       "min        30.000000      30.000000\n",
       "25%        34.000000      35.000000\n",
       "50%        40.000000      40.000000\n",
       "75%        49.000000      49.000000\n",
       "max       206.000000     197.000000"
      ]
     },
     "execution_count": 18,
     "metadata": {},
     "output_type": "execute_result"
    }
   ],
   "source": [
    "capes.describe()"
   ]
  },
  {
   "cell_type": "code",
   "execution_count": null,
   "metadata": {},
   "outputs": [],
   "source": [
    "# Remove sentence that are on another language\n",
    "from langdetect import detect\n",
    "capes['ENG_LANG'] = capes.swifter.apply( lambda row: detect(row['ENG']) == 'en', axis=1)\n",
    "capes['PT_LANG']  = capes.swifter.apply( lambda row: detect(row['PT']) == 'pt',axis=1)"
   ]
  },
  {
   "cell_type": "code",
   "execution_count": 15,
   "metadata": {},
   "outputs": [],
   "source": [
    "# drop  wrong language assigned\n",
    "capes = capes.mask(capes.ENG_LANG == False ).dropna()\n",
    "capes = capes.mask(capes.PT_LANG == False ).dropna()"
   ]
  },
  {
   "cell_type": "code",
   "execution_count": 16,
   "metadata": {},
   "outputs": [
    {
     "data": {
      "image/png": "[encoded data removed]",
      "text/plain": [
       "<Figure size 432x288 with 1 Axes>"
      ]
     },
     "metadata": {
      "needs_background": "light"
     },
     "output_type": "display_data"
    },
    {
     "data": {
      "text/plain": [
       "count    404902.000000\n",
       "mean         43.623329\n",
       "std          13.471144\n",
       "min          30.000000\n",
       "25%          34.000000\n",
       "50%          40.000000\n",
       "75%          49.000000\n",
       "max         206.000000\n",
       "Name: ENG_LENGTH, dtype: float64"
      ]
     },
     "execution_count": 16,
     "metadata": {},
     "output_type": "execute_result"
    }
   ],
   "source": [
    "capes['ENG_LENGTH'].hist()\n",
    "plt.title(\"capes English Sentences Length distribution\")\n",
    "plt.show()\n",
    "capes['ENG_LENGTH'].describe()"
   ]
  },
  {
   "cell_type": "markdown",
   "metadata": {},
   "source": [
    "We can notice that 75% of the sentence has length less then 360"
   ]
  },
  {
   "cell_type": "code",
   "execution_count": 17,
   "metadata": {},
   "outputs": [
    {
     "data": {
      "image/png": "[encoded data removed]",
      "text/plain": [
       "<Figure size 432x288 with 1 Axes>"
      ]
     },
     "metadata": {
      "needs_background": "light"
     },
     "output_type": "display_data"
    },
    {
     "data": {
      "text/plain": [
       "count    404902.000000\n",
       "mean         43.881270\n",
       "std          13.135439\n",
       "min          30.000000\n",
       "25%          35.000000\n",
       "50%          40.000000\n",
       "75%          49.000000\n",
       "max         197.000000\n",
       "Name: PT_LENGTH, dtype: float64"
      ]
     },
     "execution_count": 17,
     "metadata": {},
     "output_type": "execute_result"
    }
   ],
   "source": [
    "capes['PT_LENGTH'].hist()\n",
    "plt.title(\"capes Portuguese Sentences Length distribution\")\n",
    "plt.show()\n",
    "capes['PT_LENGTH'].describe()"
   ]
  },
  {
   "cell_type": "code",
   "execution_count": 18,
   "metadata": {},
   "outputs": [],
   "source": [
    "capes.drop(['ENG_LENGTH','PT_LENGTH','ENG_LANG','PT_LANG'], axis=1, inplace=True)"
   ]
  },
  {
   "cell_type": "code",
   "execution_count": 28,
   "metadata": {},
   "outputs": [],
   "source": [
    "# Remove \\n char from the end of each sentence\n",
    "capes = capes.reset_index(drop=True)\n",
    "capes[\"ENG\"] = capes.apply( lambda row: row['ENG'].replace(\"\\n\",\"\"),axis=1)\n",
    "capes[\"PT\"] = capes.apply( lambda row: row['PT'].replace(\"\\n\",\"\"),axis=1)"
   ]
  },
  {
   "cell_type": "code",
   "execution_count": 29,
   "metadata": {},
   "outputs": [],
   "source": [
    "# Save Sampling\n",
    "capes.to_pickle(\"datasets/capes/full_organized_data.pkcl\")"
   ]
  },
  {
   "cell_type": "markdown",
   "metadata": {},
   "source": [
    "# Creating Dataset with Negative Samples\n",
    "In this section we will compare each English sentence embedding with each pt sentence embedding, using cosine similarity.\n",
    "After this we will retrieve the top-5 similar sentence of each, notice that we expect that just lexical similarity will be retrieve, this is why we are using a simple model of GloVe to make this comparison.\n",
    "\n",
    "The Idea is select the most lexical similar sentence from one language to another, but with a very different semantic."
   ]
  },
  {
   "cell_type": "code",
   "execution_count": 21,
   "metadata": {},
   "outputs": [],
   "source": [
    "# load Dataset\n",
    "dataset = pd.read_pickle('/work/datasets/capes/full_organized_data.pkcl')"
   ]
  },
  {
   "cell_type": "code",
   "execution_count": 22,
   "metadata": {},
   "outputs": [
    {
     "data": {
      "text/html": [
       "<div>\n",
       "<style scoped>\n",
       "    .dataframe tbody tr th:only-of-type {\n",
       "        vertical-align: middle;\n",
       "    }\n",
       "\n",
       "    .dataframe tbody tr th {\n",
       "        vertical-align: top;\n",
       "    }\n",
       "\n",
       "    .dataframe thead th {\n",
       "        text-align: right;\n",
       "    }\n",
       "</style>\n",
       "<table border=\"1\" class=\"dataframe\">\n",
       "  <thead>\n",
       "    <tr style=\"text-align: right;\">\n",
       "      <th></th>\n",
       "      <th>ENG</th>\n",
       "      <th>PT</th>\n",
       "    </tr>\n",
       "  </thead>\n",
       "  <tbody>\n",
       "    <tr>\n",
       "      <th>count</th>\n",
       "      <td>404902</td>\n",
       "      <td>404902</td>\n",
       "    </tr>\n",
       "    <tr>\n",
       "      <th>unique</th>\n",
       "      <td>404902</td>\n",
       "      <td>404902</td>\n",
       "    </tr>\n",
       "    <tr>\n",
       "      <th>top</th>\n",
       "      <td>this theory, differentially of the others, wor...</td>\n",
       "      <td>foram utilizados 72 ratos distribuídos aleator...</td>\n",
       "    </tr>\n",
       "    <tr>\n",
       "      <th>freq</th>\n",
       "      <td>1</td>\n",
       "      <td>1</td>\n",
       "    </tr>\n",
       "  </tbody>\n",
       "</table>\n",
       "</div>"
      ],
      "text/plain": [
       "                                                      ENG  \\\n",
       "count                                              404902   \n",
       "unique                                             404902   \n",
       "top     this theory, differentially of the others, wor...   \n",
       "freq                                                    1   \n",
       "\n",
       "                                                       PT  \n",
       "count                                              404902  \n",
       "unique                                             404902  \n",
       "top     foram utilizados 72 ratos distribuídos aleator...  \n",
       "freq                                                    1  "
      ]
     },
     "execution_count": 22,
     "metadata": {},
     "output_type": "execute_result"
    }
   ],
   "source": [
    "dataset.describe()"
   ]
  },
  {
   "cell_type": "markdown",
   "metadata": {},
   "source": [
    "### Loading Glove Vectors to use as word embedding"
   ]
  },
  {
   "cell_type": "code",
   "execution_count": 23,
   "metadata": {},
   "outputs": [
    {
     "name": "stderr",
     "output_type": "stream",
     "text": [
      "./glove_dir/glove.6B.zip: 862MB [06:33, 2.19MB/s]                               \n",
      "100%|█████████▉| 399999/400000 [00:13<00:00, 29039.65it/s]\n"
     ]
    }
   ],
   "source": [
    "# glove_vectors is a pytorch vocabulary\n",
    "# https://github.com/pytorch/text/blob/master/torchtext/vocab.py\n",
    "glove_vectors = GloVe(name='6B', dim=50, cache='./glove_dir')\n",
    "\n",
    "vectors = glove_vectors.vectors\n",
    "glove_dict = glove_vectors.stoi"
   ]
  },
  {
   "cell_type": "markdown",
   "metadata": {},
   "source": [
    "### Creating Torch Tensors from the words"
   ]
  },
  {
   "cell_type": "code",
   "execution_count": 25,
   "metadata": {},
   "outputs": [],
   "source": [
    "eng_data  = dataset[\"ENG\"].values\n",
    "pt_data  = dataset[\"PT\"].values"
   ]
  },
  {
   "cell_type": "code",
   "execution_count": 27,
   "metadata": {},
   "outputs": [],
   "source": [
    "table = str.maketrans({key: None for key in string.punctuation})\n",
    "def remove_punctuation(sentence):\n",
    "    return sentence.translate(table)\n",
    "\n",
    "def get_sentence_embedding(sentence,dim=50):\n",
    "    \"\"\"\n",
    "    From a input sentence, calculate a sentence embedding.\n",
    "    The sentence embedding is the mean of each word embedding beloging to the sentence.\n",
    "    \"\"\"\n",
    "    \n",
    "    # Remove punctuation from the sentence\n",
    "    sentence = remove_punctuation(sentence)\n",
    "    \n",
    "    # Calculate the mean for each word embedding beloging to the sentence\n",
    "    list_of_embedding =  [ vectors[glove_dict[word]] \n",
    "                             for word in sentence.split()\n",
    "                             if (word in glove_dict)\n",
    "                         ]\n",
    "    \n",
    "    # if we could not find any word in the sentence that is in the vocabulary\n",
    "    # we return a random value\n",
    "    if list_of_embedding == []:\n",
    "        print(\"Found sentence without Embedding\")\n",
    "        return torch.rand(dim)\n",
    "        \n",
    "    # return the sentence embedding mean\n",
    "    return torch.mean( torch.stack( list_of_embedding) ,axis=0)"
   ]
  },
  {
   "cell_type": "code",
   "execution_count": 28,
   "metadata": {},
   "outputs": [
    {
     "data": {
      "application/vnd.jupyter.widget-view+json": {
       "model_id": "39c7cf3297904146b2fd9a05b3610deb",
       "version_major": 2,
       "version_minor": 0
      },
      "text/plain": [
       "HBox(children=(FloatProgress(value=0.0, max=404902.0), HTML(value='')))"
      ]
     },
     "metadata": {},
     "output_type": "display_data"
    },
    {
     "name": "stdout",
     "output_type": "stream",
     "text": [
      "Found sentence without Embedding\n",
      "Found sentence without Embedding\n",
      "Found sentence without Embedding\n",
      "\n"
     ]
    }
   ],
   "source": [
    "eng_vectors = []\n",
    "for sentence in tqdm_notebook(eng_data):\n",
    "    eng_vectors.append(get_sentence_embedding(sentence))\n",
    "eng_vectors = torch.stack(eng_vectors)"
   ]
  },
  {
   "cell_type": "code",
   "execution_count": 29,
   "metadata": {},
   "outputs": [
    {
     "data": {
      "application/vnd.jupyter.widget-view+json": {
       "model_id": "49ffd06fd7774da9a8d9d4b61d94af58",
       "version_major": 2,
       "version_minor": 0
      },
      "text/plain": [
       "HBox(children=(FloatProgress(value=0.0, max=404902.0), HTML(value='')))"
      ]
     },
     "metadata": {},
     "output_type": "display_data"
    },
    {
     "name": "stdout",
     "output_type": "stream",
     "text": [
      "Found sentence without Embedding\n",
      "\n"
     ]
    }
   ],
   "source": [
    "pt_vectors = []\n",
    "for sentence in tqdm_notebook(pt_data):\n",
    "    pt_vectors.append(get_sentence_embedding(sentence))\n",
    "pt_vectors = torch.stack(pt_vectors)"
   ]
  },
  {
   "cell_type": "markdown",
   "metadata": {},
   "source": [
    "# Testset\n",
    "the most similars are retrieved by top_k\n"
   ]
  },
  {
   "cell_type": "code",
   "execution_count": 72,
   "metadata": {},
   "outputs": [],
   "source": [
    "cos = CosineSimilarity()\n",
    "def find_most_similar(query, tensors,index,top_k=200):\n",
    "    \"\"\"\n",
    "    Retrieve most similar sentences\n",
    "    \"\"\"\n",
    "    # Reshape query \n",
    "    query = query.unsqueeze(0)\n",
    "    # Apply cosine similarity between the query and all dataset\n",
    "    cosine_similarity_between_query_tensors = cos(query,tensors)\n",
    "    \n",
    "    # Sort values by similarity: The highest similarity is 1 and lowest -1\n",
    "    values, indeces = cosine_similarity_between_query_tensors.topk(top_k)\n",
    "    \n",
    "    # Get Random sentence that are inside the nucleues\n",
    "    sampling = Multinomial(total_count=10,logits=values).sample()\n",
    "    \n",
    "    # Retrieve selected sentence\n",
    "    most_similar = indeces.masked_select(sampling.type(torch.bool))\n",
    "    # remove the translation of the query from the selected ones ( if it is there)\n",
    "    most_similar = most_similar[most_similar != index]\n",
    "    \n",
    "    # Return the top_5 similar result, after the sampling\n",
    "    return most_similar[:5]"
   ]
  },
  {
   "cell_type": "code",
   "execution_count": null,
   "metadata": {},
   "outputs": [
    {
     "data": {
      "application/vnd.jupyter.widget-view+json": {
       "model_id": "988fcf2aa945410f81cd8458c7cc5955",
       "version_major": 2,
       "version_minor": 0
      },
      "text/plain": [
       "HBox(children=(FloatProgress(value=0.0, max=404902.0), HTML(value='')))"
      ]
     },
     "metadata": {},
     "output_type": "display_data"
    }
   ],
   "source": [
    "negative_sentence = {\n",
    "    'top_1_qeng_pt': [],\n",
    "    'top_1_qpt_eng': [],\n",
    "    'top_2_qeng_pt': [],\n",
    "    'top_2_qpt_eng': [],\n",
    "    'top_3_qeng_pt': [],\n",
    "    'top_3_qpt_eng': [],\n",
    "    'top_4_qeng_pt': [],\n",
    "    'top_4_qpt_eng': [],\n",
    "    'top_5_qeng_pt': [],\n",
    "    'top_5_qpt_eng': []\n",
    "}\n",
    "total = len(dataset)\n",
    "for index,(eng,pt) in tqdm_notebook(dataset.iterrows(),total=total):\n",
    "    \n",
    "    # Most lexical similar senentece from pt to eng\n",
    "    qpt_index = find_most_similar(pt_vectors[index],eng_vectors,index)\n",
    "    top1,top2,top3,top4,top5 = qpt_index #dataset.ENG.iloc[qpt_index].values\n",
    "    \n",
    "    negative_sentence['top_1_qpt_eng'].append(top1.item())\n",
    "    negative_sentence['top_2_qpt_eng'].append(top2.item())\n",
    "    negative_sentence['top_3_qpt_eng'].append(top3.item())\n",
    "    negative_sentence['top_4_qpt_eng'].append(top4.item())\n",
    "    negative_sentence['top_5_qpt_eng'].append(top5.item())\n",
    "    \n",
    "    # Most lexical similar senentece from eng to pt\n",
    "    qeng_index = find_most_similar(eng_vectors[index],pt_vectors,index)\n",
    "    top1,top2,top3,top4,top5 = qeng_index #dataset.PT.iloc[qeng_index].values\n",
    "    \n",
    "    negative_sentence['top_1_qeng_pt'].append(top1.item())\n",
    "    negative_sentence['top_2_qeng_pt'].append(top2.item())\n",
    "    negative_sentence['top_3_qeng_pt'].append(top3.item())\n",
    "    negative_sentence['top_4_qeng_pt'].append(top4.item())\n",
    "    negative_sentence['top_5_qeng_pt'].append(top5.item())\n",
    "    \n",
    "    with open(\"/work/datasets/capes/top_k_dataset_status.txt\",\"w\") as file:\n",
    "        file.write(f\"{index}/{total}\")\n",
    "        \n",
    "dataset['top_1_qpt_eng'] = negative_sentence['top_1_qpt_eng']\n",
    "dataset['top_2_qpt_eng'] = negative_sentence['top_2_qpt_eng']\n",
    "dataset['top_3_qpt_eng'] = negative_sentence['top_3_qpt_eng']\n",
    "dataset['top_4_qpt_eng'] = negative_sentence['top_4_qpt_eng']\n",
    "dataset['top_5_qpt_eng'] = negative_sentence['top_5_qpt_eng']\n",
    "\n",
    "dataset['top_1_qeng_pt'] = negative_sentence['top_1_qeng_pt']\n",
    "dataset['top_2_qeng_pt'] = negative_sentence['top_2_qeng_pt']\n",
    "dataset['top_3_qeng_pt'] = negative_sentence['top_3_qeng_pt']\n",
    "dataset['top_4_qeng_pt'] = negative_sentence['top_4_qeng_pt']\n",
    "dataset['top_5_qeng_pt'] = negative_sentence['top_5_qeng_pt']\n",
    "\n",
    "# Save dataset on disk\n",
    "dataset.to_pickle(\"/work/datasets/capes/top_k_dataset.pkcl\")\n",
    "with open(\"/work/datasets/capes/top_k_dataset_status.txt\",\"w\") as file:\n",
    "        file.write(\"Done --- \")"
   ]
  },
  {
   "cell_type": "code",
   "execution_count": 93,
   "metadata": {},
   "outputs": [],
   "source": [
    "dataset = pd.read_pickle(\"/work/datasets/capes/top_k_dataset.pkcl\")"
   ]
  },
  {
   "cell_type": "code",
   "execution_count": 121,
   "metadata": {},
   "outputs": [],
   "source": [
    "# Removing duplicates\n",
    "\n",
    "testset = pd.DataFrame()\n",
    "\n",
    "testset = testset.append(dataset.drop_duplicates(subset='top_1_qeng_pt', keep=\"first\"))\n",
    "\n",
    "testset = testset.append(dataset.drop_duplicates(subset='top_2_qeng_pt', keep=\"first\"))\n",
    "\n",
    "testset = testset.append(dataset.drop_duplicates(subset='top_3_qeng_pt', keep=\"first\"))\n",
    "\n",
    "testset = testset.append(dataset.drop_duplicates(subset='top_4_qeng_pt', keep=\"first\"))\n",
    "\n",
    "testset = testset.append(dataset.drop_duplicates(subset='top_5_qeng_pt', keep=\"first\"))\n",
    "\n",
    "testset = testset.append(dataset.drop_duplicates(subset='top_1_qpt_eng', keep=\"first\"))\n",
    "\n",
    "testset = testset.append(dataset.drop_duplicates(subset='top_2_qpt_eng', keep=\"first\"))\n",
    "\n",
    "testset = testset.append(dataset.drop_duplicates(subset='top_3_qpt_eng', keep=\"first\"))\n",
    "\n",
    "testset = testset.append(dataset.drop_duplicates(subset='top_4_qpt_eng', keep=\"first\"))\n",
    "\n",
    "testset = testset.append(dataset.drop_duplicates(subset='top_5_qpt_eng', keep=\"first\"))\n"
   ]
  },
  {
   "cell_type": "code",
   "execution_count": 122,
   "metadata": {},
   "outputs": [],
   "source": [
    "testset = testset.drop_duplicates(subset='ENG', keep=\"first\")\n",
    "testset = testset.drop_duplicates(subset='PT', keep=\"first\")"
   ]
  },
  {
   "cell_type": "code",
   "execution_count": 123,
   "metadata": {},
   "outputs": [
    {
     "data": {
      "text/plain": [
       "7903"
      ]
     },
     "execution_count": 123,
     "metadata": {},
     "output_type": "execute_result"
    }
   ],
   "source": [
    "len(testset)"
   ]
  },
  {
   "cell_type": "code",
   "execution_count": 124,
   "metadata": {},
   "outputs": [
    {
     "data": {
      "application/vnd.jupyter.widget-view+json": {
       "model_id": "da538251798d43c3b9aee431f11c6778",
       "version_major": 2,
       "version_minor": 0
      },
      "text/plain": [
       "HBox(children=(FloatProgress(value=0.0, max=7903.0), HTML(value='')))"
      ]
     },
     "metadata": {},
     "output_type": "display_data"
    },
    {
     "name": "stderr",
     "output_type": "stream",
     "text": [
      "/usr/local/lib/python3.6/dist-packages/pandas/core/indexing.py:671: SettingWithCopyWarning: \n",
      "A value is trying to be set on a copy of a slice from a DataFrame\n",
      "\n",
      "See the caveats in the documentation: https://pandas.pydata.org/pandas-docs/stable/user_guide/indexing.html#returning-a-view-versus-a-copy\n",
      "  self._setitem_with_indexer(indexer, value)\n"
     ]
    },
    {
     "name": "stdout",
     "output_type": "stream",
     "text": [
      "\n"
     ]
    }
   ],
   "source": [
    "from tqdm import tqdm_notebook\n",
    "for test_index, row in tqdm_notebook(enumerate(testset.iterrows()),total=len(testset )):\n",
    "    index = row[0]\n",
    "    \n",
    "    testset.top_1_qpt_eng.iloc[test_index] = dataset.ENG.iloc[dataset.top_1_qpt_eng.iloc[index]]\n",
    "    testset.top_2_qpt_eng.iloc[test_index] = dataset.ENG.iloc[dataset.top_2_qpt_eng.iloc[index]]\n",
    "    testset.top_3_qpt_eng.iloc[test_index] = dataset.ENG.iloc[dataset.top_3_qpt_eng.iloc[index]]\n",
    "    testset.top_4_qpt_eng.iloc[test_index] = dataset.ENG.iloc[dataset.top_4_qpt_eng.iloc[index]]\n",
    "    testset.top_5_qpt_eng.iloc[test_index] = dataset.ENG.iloc[dataset.top_5_qpt_eng.iloc[index]]\n",
    "    testset.top_1_qeng_pt.iloc[test_index] = dataset.PT.iloc[dataset.top_1_qeng_pt.iloc[index]]\n",
    "    testset.top_2_qeng_pt.iloc[test_index] = dataset.PT.iloc[dataset.top_2_qeng_pt.iloc[index]]\n",
    "    testset.top_3_qeng_pt.iloc[test_index] = dataset.PT.iloc[dataset.top_3_qeng_pt.iloc[index]]\n",
    "    testset.top_4_qeng_pt.iloc[test_index] = dataset.PT.iloc[dataset.top_4_qeng_pt.iloc[index]]\n",
    "    testset.top_5_qeng_pt.iloc[test_index] = dataset.PT.iloc[dataset.top_5_qeng_pt.iloc[index]]"
   ]
  },
  {
   "cell_type": "code",
   "execution_count": 126,
   "metadata": {},
   "outputs": [
    {
     "data": {
      "text/html": [
       "<div>\n",
       "<style scoped>\n",
       "    .dataframe tbody tr th:only-of-type {\n",
       "        vertical-align: middle;\n",
       "    }\n",
       "\n",
       "    .dataframe tbody tr th {\n",
       "        vertical-align: top;\n",
       "    }\n",
       "\n",
       "    .dataframe thead th {\n",
       "        text-align: right;\n",
       "    }\n",
       "</style>\n",
       "<table border=\"1\" class=\"dataframe\">\n",
       "  <thead>\n",
       "    <tr style=\"text-align: right;\">\n",
       "      <th></th>\n",
       "      <th>ENG</th>\n",
       "      <th>PT</th>\n",
       "      <th>top_1_qpt_eng</th>\n",
       "      <th>top_2_qpt_eng</th>\n",
       "      <th>top_3_qpt_eng</th>\n",
       "      <th>top_4_qpt_eng</th>\n",
       "      <th>top_5_qpt_eng</th>\n",
       "      <th>top_1_qeng_pt</th>\n",
       "      <th>top_2_qeng_pt</th>\n",
       "      <th>top_3_qeng_pt</th>\n",
       "      <th>top_4_qeng_pt</th>\n",
       "      <th>top_5_qeng_pt</th>\n",
       "    </tr>\n",
       "  </thead>\n",
       "  <tbody>\n",
       "    <tr>\n",
       "      <th>count</th>\n",
       "      <td>7903</td>\n",
       "      <td>7903</td>\n",
       "      <td>7903</td>\n",
       "      <td>7903</td>\n",
       "      <td>7903</td>\n",
       "      <td>7903</td>\n",
       "      <td>7903</td>\n",
       "      <td>7903</td>\n",
       "      <td>7903</td>\n",
       "      <td>7903</td>\n",
       "      <td>7903</td>\n",
       "      <td>7903</td>\n",
       "    </tr>\n",
       "    <tr>\n",
       "      <th>unique</th>\n",
       "      <td>7903</td>\n",
       "      <td>7903</td>\n",
       "      <td>1019</td>\n",
       "      <td>1255</td>\n",
       "      <td>1490</td>\n",
       "      <td>1673</td>\n",
       "      <td>1834</td>\n",
       "      <td>955</td>\n",
       "      <td>1201</td>\n",
       "      <td>1444</td>\n",
       "      <td>1580</td>\n",
       "      <td>1744</td>\n",
       "    </tr>\n",
       "    <tr>\n",
       "      <th>top</th>\n",
       "      <td>fifty human dentin slabs were evaluated by pro...</td>\n",
       "      <td>com base nas teorias de lima (2001, 2004 e 201...</td>\n",
       "      <td>distance education (de) is a type of education...</td>\n",
       "      <td>guilherme de mello¿s book, a musica no brasil:...</td>\n",
       "      <td>this work is an analysis-interpretation of fiv...</td>\n",
       "      <td>in the context of brazilian cinema, the northe...</td>\n",
       "      <td>in the context of brazilian cinema, the northe...</td>\n",
       "      <td>dentofacial characteristics of oral breathers ...</td>\n",
       "      <td>a coleta de dados ocorreu em três etapas com a...</td>\n",
       "      <td>métodos: no artigo 1 foi realizada uma busca n...</td>\n",
       "      <td>n a coleta de dados, utilizaram - se d ois que...</td>\n",
       "      <td>para a coleta dos dados foi utilizada a escala...</td>\n",
       "    </tr>\n",
       "    <tr>\n",
       "      <th>freq</th>\n",
       "      <td>1</td>\n",
       "      <td>1</td>\n",
       "      <td>155</td>\n",
       "      <td>81</td>\n",
       "      <td>55</td>\n",
       "      <td>49</td>\n",
       "      <td>44</td>\n",
       "      <td>235</td>\n",
       "      <td>103</td>\n",
       "      <td>66</td>\n",
       "      <td>57</td>\n",
       "      <td>61</td>\n",
       "    </tr>\n",
       "  </tbody>\n",
       "</table>\n",
       "</div>"
      ],
      "text/plain": [
       "                                                      ENG  \\\n",
       "count                                                7903   \n",
       "unique                                               7903   \n",
       "top     fifty human dentin slabs were evaluated by pro...   \n",
       "freq                                                    1   \n",
       "\n",
       "                                                       PT  \\\n",
       "count                                                7903   \n",
       "unique                                               7903   \n",
       "top     com base nas teorias de lima (2001, 2004 e 201...   \n",
       "freq                                                    1   \n",
       "\n",
       "                                            top_1_qpt_eng  \\\n",
       "count                                                7903   \n",
       "unique                                               1019   \n",
       "top     distance education (de) is a type of education...   \n",
       "freq                                                  155   \n",
       "\n",
       "                                            top_2_qpt_eng  \\\n",
       "count                                                7903   \n",
       "unique                                               1255   \n",
       "top     guilherme de mello¿s book, a musica no brasil:...   \n",
       "freq                                                   81   \n",
       "\n",
       "                                            top_3_qpt_eng  \\\n",
       "count                                                7903   \n",
       "unique                                               1490   \n",
       "top     this work is an analysis-interpretation of fiv...   \n",
       "freq                                                   55   \n",
       "\n",
       "                                            top_4_qpt_eng  \\\n",
       "count                                                7903   \n",
       "unique                                               1673   \n",
       "top     in the context of brazilian cinema, the northe...   \n",
       "freq                                                   49   \n",
       "\n",
       "                                            top_5_qpt_eng  \\\n",
       "count                                                7903   \n",
       "unique                                               1834   \n",
       "top     in the context of brazilian cinema, the northe...   \n",
       "freq                                                   44   \n",
       "\n",
       "                                            top_1_qeng_pt  \\\n",
       "count                                                7903   \n",
       "unique                                                955   \n",
       "top     dentofacial characteristics of oral breathers ...   \n",
       "freq                                                  235   \n",
       "\n",
       "                                            top_2_qeng_pt  \\\n",
       "count                                                7903   \n",
       "unique                                               1201   \n",
       "top     a coleta de dados ocorreu em três etapas com a...   \n",
       "freq                                                  103   \n",
       "\n",
       "                                            top_3_qeng_pt  \\\n",
       "count                                                7903   \n",
       "unique                                               1444   \n",
       "top     métodos: no artigo 1 foi realizada uma busca n...   \n",
       "freq                                                   66   \n",
       "\n",
       "                                            top_4_qeng_pt  \\\n",
       "count                                                7903   \n",
       "unique                                               1580   \n",
       "top     n a coleta de dados, utilizaram - se d ois que...   \n",
       "freq                                                   57   \n",
       "\n",
       "                                            top_5_qeng_pt  \n",
       "count                                                7903  \n",
       "unique                                               1744  \n",
       "top     para a coleta dos dados foi utilizada a escala...  \n",
       "freq                                                   61  "
      ]
     },
     "execution_count": 126,
     "metadata": {},
     "output_type": "execute_result"
    }
   ],
   "source": [
    "testset.describe()"
   ]
  },
  {
   "cell_type": "code",
   "execution_count": 127,
   "metadata": {},
   "outputs": [],
   "source": [
    "testset.to_pickle(\"/work/datasets/capes/test_set_with_negatives_strings.pkcl\")"
   ]
  },
  {
   "cell_type": "markdown",
   "metadata": {},
   "source": [
    "# Trainset\n",
    "the most similars are retrieved by top_p (based on Nuclueos Sampling)"
   ]
  },
  {
   "cell_type": "code",
   "execution_count": null,
   "metadata": {},
   "outputs": [],
   "source": [
    "cos = CosineSimilarity()\n",
    "\n",
    "\n",
    "def find_most_similar(query, tensors,index,top_p=0.8,minimum_sampling_size=500):\n",
    "    \n",
    "     \n",
    "    query = query.unsqueeze(0)\n",
    "    cosine_similarity_between_query_tensors = cos(query,tensors)\n",
    "    \n",
    "    \n",
    "    sorted_values, indices_values = torch.sort(cosine_similarity_between_query_tensors,descending=True)\n",
    "    \n",
    "    \n",
    "    out_of_sampling_indeces = indices_values.new_ones(indices_values.shape).type(torch.bool)\n",
    "    sorted_probs = F.softmax(sorted_values, dim=-1)\n",
    "    \n",
    "    cumulated_probs = torch.cumsum(sorted_probs,dim=-1)\n",
    "    out_of_sampling_indeces[ cumulated_probs < top_p ] = False\n",
    "    out_of_sampling_indeces[... , : minimum_sampling_size] = False\n",
    "    sorted_probs[out_of_sampling_indeces] = 0\n",
    "    \n",
    "    sampling = Multinomial(total_count=10,probs=sorted_probs).sample()\n",
    "    \n",
    "    most_similar = indices_values.masked_select(sampling.type(torch.bool))\n",
    "    most_similar = most_similar[most_similar != index]\n",
    "    return most_similar[:5]"
   ]
  },
  {
   "cell_type": "code",
   "execution_count": null,
   "metadata": {},
   "outputs": [],
   "source": [
    "negative_sentence = {\n",
    "    'top_1_qeng_pt': [],\n",
    "    'top_1_qpt_eng': [],\n",
    "    'top_2_qeng_pt': [],\n",
    "    'top_2_qpt_eng': [],\n",
    "    'top_3_qeng_pt': [],\n",
    "    'top_3_qpt_eng': [],\n",
    "    'top_4_qeng_pt': [],\n",
    "    'top_4_qpt_eng': [],\n",
    "    'top_5_qeng_pt': [],\n",
    "    'top_5_qpt_eng': []\n",
    "}\n",
    "total = len(dataset)\n",
    "for index,(eng,pt) in dataset.iterrows():\n",
    "    \n",
    "    # Most lexical similar senentece from pt to eng\n",
    "    qpt_index = find_most_similar(pt_vectors[index],eng_vectors,index)\n",
    "    top1,top2,top3,top4,top5 = qpt_index #dataset.ENG.iloc[qpt_index].values\n",
    "    \n",
    "    negative_sentence['top_1_qpt_eng'].append(top1.item())\n",
    "    negative_sentence['top_2_qpt_eng'].append(top2.item())\n",
    "    negative_sentence['top_3_qpt_eng'].append(top3.item())\n",
    "    negative_sentence['top_4_qpt_eng'].append(top4.item())\n",
    "    negative_sentence['top_5_qpt_eng'].append(top5.item())\n",
    "    \n",
    "    # Most lexical similar senentece from eng to pt\n",
    "    qeng_index = find_most_similar(eng_vectors[index],pt_vectors,index)\n",
    "    top1,top2,top3,top4,top5 = qeng_index #dataset.PT.iloc[qeng_index].values\n",
    "    \n",
    "    negative_sentence['top_1_qeng_pt'].append(top1.item())\n",
    "    negative_sentence['top_2_qeng_pt'].append(top2.item())\n",
    "    negative_sentence['top_3_qeng_pt'].append(top3.item())\n",
    "    negative_sentence['top_4_qeng_pt'].append(top4.item())\n",
    "    negative_sentence['top_5_qeng_pt'].append(top5.item())\n",
    "    \n",
    "    # Control file to describe the progress of this cell\n",
    "    with open(\"datasets/scielo/full_construction_status.txt\",\"w\") as file:\n",
    "        file.write(f\"{index}/{total}\")\n",
    "        \n",
    "dataset['top_1_qpt_eng'] = negative_sentence['top_1_qpt_eng']\n",
    "dataset['top_2_qpt_eng'] = negative_sentence['top_2_qpt_eng']\n",
    "dataset['top_3_qpt_eng'] = negative_sentence['top_3_qpt_eng']\n",
    "dataset['top_4_qpt_eng'] = negative_sentence['top_4_qpt_eng']\n",
    "dataset['top_5_qpt_eng'] = negative_sentence['top_5_qpt_eng']\n",
    "\n",
    "dataset['top_1_qeng_pt'] = negative_sentence['top_1_qeng_pt']\n",
    "dataset['top_2_qeng_pt'] = negative_sentence['top_2_qeng_pt']\n",
    "dataset['top_3_qeng_pt'] = negative_sentence['top_3_qeng_pt']\n",
    "dataset['top_4_qeng_pt'] = negative_sentence['top_4_qeng_pt']\n",
    "dataset['top_5_qeng_pt'] = negative_sentence['top_5_qeng_pt']\n",
    "\n",
    "dataset.to_pickle(\"datasets/scielo/full_data_with_negatives.pkcl\")\n",
    "\n",
    "# Control file to describe the progress of this cell\n",
    "with open(\"datasets/scielo/full_construction_status.txt\",\"w\") as file:\n",
    "        file.write(\"Done --- \")"
   ]
  },
  {
   "cell_type": "code",
   "execution_count": null,
   "metadata": {},
   "outputs": [],
   "source": [
    "dataset = pd.read_pickle(\"/work/datasets/capes/full_data_with_negatives.pkcl\")\n",
    "for row in tqdm_notebook(dataset.iterrows(),total=len(dataset )):\n",
    "    index = row[0]\n",
    "    \n",
    "    dataset.top_1_qpt_eng.iloc[index] = dataset.ENG.iloc[dataset.top_1_qpt_eng.iloc[index]]\n",
    "    dataset.top_2_qpt_eng.iloc[index] = dataset.ENG.iloc[dataset.top_2_qpt_eng.iloc[index]]\n",
    "    dataset.top_3_qpt_eng.iloc[index] = dataset.ENG.iloc[dataset.top_3_qpt_eng.iloc[index]]\n",
    "    dataset.top_4_qpt_eng.iloc[index] = dataset.ENG.iloc[dataset.top_4_qpt_eng.iloc[index]]\n",
    "    dataset.top_5_qpt_eng.iloc[index] = dataset.ENG.iloc[dataset.top_5_qpt_eng.iloc[index]]\n",
    "    dataset.top_1_qeng_pt.iloc[index] = dataset.PT.iloc[dataset.top_1_qeng_pt.iloc[index]]\n",
    "    dataset.top_2_qeng_pt.iloc[index] = dataset.PT.iloc[dataset.top_2_qeng_pt.iloc[index]]\n",
    "    dataset.top_3_qeng_pt.iloc[index] = dataset.PT.iloc[dataset.top_3_qeng_pt.iloc[index]]\n",
    "    dataset.top_4_qeng_pt.iloc[index] = dataset.PT.iloc[dataset.top_4_qeng_pt.iloc[index]]\n",
    "    dataset.top_5_qeng_pt.iloc[index] = dataset.PT.iloc[dataset.top_5_qeng_pt.iloc[index]]\n",
    "    \n",
    "dataset.to_pickle(\"/work/datasets/capes/full_data_with_negatives_strings.pkcl\")\n"
   ]
  },
  {
   "cell_type": "code",
   "execution_count": 35,
   "metadata": {},
   "outputs": [],
   "source": [
    "TRAIN_DATA = pd.read_pickle(\"/work/datasets/capes/full_data_with_negatives_strings.pkcl\")"
   ]
  },
  {
   "cell_type": "code",
   "execution_count": 133,
   "metadata": {},
   "outputs": [
    {
     "data": {
      "text/html": [
       "<div>\n",
       "<style scoped>\n",
       "    .dataframe tbody tr th:only-of-type {\n",
       "        vertical-align: middle;\n",
       "    }\n",
       "\n",
       "    .dataframe tbody tr th {\n",
       "        vertical-align: top;\n",
       "    }\n",
       "\n",
       "    .dataframe thead th {\n",
       "        text-align: right;\n",
       "    }\n",
       "</style>\n",
       "<table border=\"1\" class=\"dataframe\">\n",
       "  <thead>\n",
       "    <tr style=\"text-align: right;\">\n",
       "      <th></th>\n",
       "      <th>ENG</th>\n",
       "      <th>PT</th>\n",
       "      <th>top_1_qpt_eng</th>\n",
       "      <th>top_2_qpt_eng</th>\n",
       "      <th>top_3_qpt_eng</th>\n",
       "      <th>top_4_qpt_eng</th>\n",
       "      <th>top_5_qpt_eng</th>\n",
       "      <th>top_1_qeng_pt</th>\n",
       "      <th>top_2_qeng_pt</th>\n",
       "      <th>top_3_qeng_pt</th>\n",
       "      <th>top_4_qeng_pt</th>\n",
       "      <th>top_5_qeng_pt</th>\n",
       "    </tr>\n",
       "  </thead>\n",
       "  <tbody>\n",
       "    <tr>\n",
       "      <th>count</th>\n",
       "      <td>404902</td>\n",
       "      <td>404902</td>\n",
       "      <td>404902</td>\n",
       "      <td>404902</td>\n",
       "      <td>404902</td>\n",
       "      <td>404902</td>\n",
       "      <td>404902</td>\n",
       "      <td>404902</td>\n",
       "      <td>404902</td>\n",
       "      <td>404902</td>\n",
       "      <td>404902</td>\n",
       "      <td>404902</td>\n",
       "    </tr>\n",
       "    <tr>\n",
       "      <th>unique</th>\n",
       "      <td>404902</td>\n",
       "      <td>404902</td>\n",
       "      <td>104960</td>\n",
       "      <td>150973</td>\n",
       "      <td>178267</td>\n",
       "      <td>194153</td>\n",
       "      <td>203136</td>\n",
       "      <td>83199</td>\n",
       "      <td>119324</td>\n",
       "      <td>142567</td>\n",
       "      <td>157176</td>\n",
       "      <td>165330</td>\n",
       "    </tr>\n",
       "    <tr>\n",
       "      <th>top</th>\n",
       "      <td>this theory, differentially of the others, wor...</td>\n",
       "      <td>foram utilizados 72 ratos distribuídos aleator...</td>\n",
       "      <td>the research analyzes the editorial trajectory...</td>\n",
       "      <td>to obtain refle ctance values, the following o...</td>\n",
       "      <td>this pericope describes the duties performed b...</td>\n",
       "      <td>the results achieved has shown that despite of...</td>\n",
       "      <td>this study aims do conduct a discussion around...</td>\n",
       "      <td>em 2011, a organização mundial de saúde (oms) ...</td>\n",
       "      <td>no exercício de análise das charges de ziraldo...</td>\n",
       "      <td>diante do exposto, consideramos que a produção...</td>\n",
       "      <td>esta dissertação discute a relação entre crôni...</td>\n",
       "      <td>em razão disto, o objetivo deste estudo foi an...</td>\n",
       "    </tr>\n",
       "    <tr>\n",
       "      <th>freq</th>\n",
       "      <td>1</td>\n",
       "      <td>1</td>\n",
       "      <td>33</td>\n",
       "      <td>16</td>\n",
       "      <td>13</td>\n",
       "      <td>12</td>\n",
       "      <td>11</td>\n",
       "      <td>34</td>\n",
       "      <td>16</td>\n",
       "      <td>14</td>\n",
       "      <td>16</td>\n",
       "      <td>13</td>\n",
       "    </tr>\n",
       "  </tbody>\n",
       "</table>\n",
       "</div>"
      ],
      "text/plain": [
       "                                                      ENG  \\\n",
       "count                                              404902   \n",
       "unique                                             404902   \n",
       "top     this theory, differentially of the others, wor...   \n",
       "freq                                                    1   \n",
       "\n",
       "                                                       PT  \\\n",
       "count                                              404902   \n",
       "unique                                             404902   \n",
       "top     foram utilizados 72 ratos distribuídos aleator...   \n",
       "freq                                                    1   \n",
       "\n",
       "                                            top_1_qpt_eng  \\\n",
       "count                                              404902   \n",
       "unique                                             104960   \n",
       "top     the research analyzes the editorial trajectory...   \n",
       "freq                                                   33   \n",
       "\n",
       "                                            top_2_qpt_eng  \\\n",
       "count                                              404902   \n",
       "unique                                             150973   \n",
       "top     to obtain refle ctance values, the following o...   \n",
       "freq                                                   16   \n",
       "\n",
       "                                            top_3_qpt_eng  \\\n",
       "count                                              404902   \n",
       "unique                                             178267   \n",
       "top     this pericope describes the duties performed b...   \n",
       "freq                                                   13   \n",
       "\n",
       "                                            top_4_qpt_eng  \\\n",
       "count                                              404902   \n",
       "unique                                             194153   \n",
       "top     the results achieved has shown that despite of...   \n",
       "freq                                                   12   \n",
       "\n",
       "                                            top_5_qpt_eng  \\\n",
       "count                                              404902   \n",
       "unique                                             203136   \n",
       "top     this study aims do conduct a discussion around...   \n",
       "freq                                                   11   \n",
       "\n",
       "                                            top_1_qeng_pt  \\\n",
       "count                                              404902   \n",
       "unique                                              83199   \n",
       "top     em 2011, a organização mundial de saúde (oms) ...   \n",
       "freq                                                   34   \n",
       "\n",
       "                                            top_2_qeng_pt  \\\n",
       "count                                              404902   \n",
       "unique                                             119324   \n",
       "top     no exercício de análise das charges de ziraldo...   \n",
       "freq                                                   16   \n",
       "\n",
       "                                            top_3_qeng_pt  \\\n",
       "count                                              404902   \n",
       "unique                                             142567   \n",
       "top     diante do exposto, consideramos que a produção...   \n",
       "freq                                                   14   \n",
       "\n",
       "                                            top_4_qeng_pt  \\\n",
       "count                                              404902   \n",
       "unique                                             157176   \n",
       "top     esta dissertação discute a relação entre crôni...   \n",
       "freq                                                   16   \n",
       "\n",
       "                                            top_5_qeng_pt  \n",
       "count                                              404902  \n",
       "unique                                             165330  \n",
       "top     em razão disto, o objetivo deste estudo foi an...  \n",
       "freq                                                   13  "
      ]
     },
     "execution_count": 133,
     "metadata": {},
     "output_type": "execute_result"
    }
   ],
   "source": [
    "TRAIN_DATA.describe()"
   ]
  },
  {
   "cell_type": "markdown",
   "metadata": {},
   "source": [
    "### Remove from TRAIN_DATA the samples that are in testset"
   ]
  },
  {
   "cell_type": "code",
   "execution_count": 134,
   "metadata": {},
   "outputs": [
    {
     "data": {
      "text/plain": [
       "404902"
      ]
     },
     "execution_count": 134,
     "metadata": {},
     "output_type": "execute_result"
    }
   ],
   "source": [
    "len(TRAIN_DATA)"
   ]
  },
  {
   "cell_type": "code",
   "execution_count": 136,
   "metadata": {},
   "outputs": [
    {
     "data": {
      "text/plain": [
       "7903"
      ]
     },
     "execution_count": 136,
     "metadata": {},
     "output_type": "execute_result"
    }
   ],
   "source": [
    "len(testset)"
   ]
  },
  {
   "cell_type": "code",
   "execution_count": 137,
   "metadata": {},
   "outputs": [],
   "source": [
    "TRAIN_DATA = TRAIN_DATA.drop(index=testset.index)"
   ]
  },
  {
   "cell_type": "code",
   "execution_count": 138,
   "metadata": {},
   "outputs": [
    {
     "data": {
      "text/plain": [
       "396999"
      ]
     },
     "execution_count": 138,
     "metadata": {},
     "output_type": "execute_result"
    }
   ],
   "source": [
    "len(TRAIN_DATA)"
   ]
  },
  {
   "cell_type": "code",
   "execution_count": 142,
   "metadata": {},
   "outputs": [],
   "source": [
    "TRAIN_DATA.to_pickle(\"/work/datasets/capes/TRAINSET_with_negatives_strings.pckl\")"
   ]
  },
  {
   "cell_type": "markdown",
   "metadata": {},
   "source": [
    "# Conclusions and Stats"
   ]
  },
  {
   "cell_type": "code",
   "execution_count": 140,
   "metadata": {},
   "outputs": [
    {
     "data": {
      "text/html": [
       "<div>\n",
       "<style scoped>\n",
       "    .dataframe tbody tr th:only-of-type {\n",
       "        vertical-align: middle;\n",
       "    }\n",
       "\n",
       "    .dataframe tbody tr th {\n",
       "        vertical-align: top;\n",
       "    }\n",
       "\n",
       "    .dataframe thead th {\n",
       "        text-align: right;\n",
       "    }\n",
       "</style>\n",
       "<table border=\"1\" class=\"dataframe\">\n",
       "  <thead>\n",
       "    <tr style=\"text-align: right;\">\n",
       "      <th></th>\n",
       "      <th>ENG</th>\n",
       "      <th>PT</th>\n",
       "      <th>top_1_qpt_eng</th>\n",
       "      <th>top_2_qpt_eng</th>\n",
       "      <th>top_3_qpt_eng</th>\n",
       "      <th>top_4_qpt_eng</th>\n",
       "      <th>top_5_qpt_eng</th>\n",
       "      <th>top_1_qeng_pt</th>\n",
       "      <th>top_2_qeng_pt</th>\n",
       "      <th>top_3_qeng_pt</th>\n",
       "      <th>top_4_qeng_pt</th>\n",
       "      <th>top_5_qeng_pt</th>\n",
       "    </tr>\n",
       "  </thead>\n",
       "  <tbody>\n",
       "    <tr>\n",
       "      <th>count</th>\n",
       "      <td>7903</td>\n",
       "      <td>7903</td>\n",
       "      <td>7903</td>\n",
       "      <td>7903</td>\n",
       "      <td>7903</td>\n",
       "      <td>7903</td>\n",
       "      <td>7903</td>\n",
       "      <td>7903</td>\n",
       "      <td>7903</td>\n",
       "      <td>7903</td>\n",
       "      <td>7903</td>\n",
       "      <td>7903</td>\n",
       "    </tr>\n",
       "    <tr>\n",
       "      <th>unique</th>\n",
       "      <td>7903</td>\n",
       "      <td>7903</td>\n",
       "      <td>1019</td>\n",
       "      <td>1255</td>\n",
       "      <td>1490</td>\n",
       "      <td>1673</td>\n",
       "      <td>1834</td>\n",
       "      <td>955</td>\n",
       "      <td>1201</td>\n",
       "      <td>1444</td>\n",
       "      <td>1580</td>\n",
       "      <td>1744</td>\n",
       "    </tr>\n",
       "    <tr>\n",
       "      <th>top</th>\n",
       "      <td>fifty human dentin slabs were evaluated by pro...</td>\n",
       "      <td>com base nas teorias de lima (2001, 2004 e 201...</td>\n",
       "      <td>distance education (de) is a type of education...</td>\n",
       "      <td>guilherme de mello¿s book, a musica no brasil:...</td>\n",
       "      <td>this work is an analysis-interpretation of fiv...</td>\n",
       "      <td>in the context of brazilian cinema, the northe...</td>\n",
       "      <td>in the context of brazilian cinema, the northe...</td>\n",
       "      <td>dentofacial characteristics of oral breathers ...</td>\n",
       "      <td>a coleta de dados ocorreu em três etapas com a...</td>\n",
       "      <td>métodos: no artigo 1 foi realizada uma busca n...</td>\n",
       "      <td>n a coleta de dados, utilizaram - se d ois que...</td>\n",
       "      <td>para a coleta dos dados foi utilizada a escala...</td>\n",
       "    </tr>\n",
       "    <tr>\n",
       "      <th>freq</th>\n",
       "      <td>1</td>\n",
       "      <td>1</td>\n",
       "      <td>155</td>\n",
       "      <td>81</td>\n",
       "      <td>55</td>\n",
       "      <td>49</td>\n",
       "      <td>44</td>\n",
       "      <td>235</td>\n",
       "      <td>103</td>\n",
       "      <td>66</td>\n",
       "      <td>57</td>\n",
       "      <td>61</td>\n",
       "    </tr>\n",
       "  </tbody>\n",
       "</table>\n",
       "</div>"
      ],
      "text/plain": [
       "                                                      ENG  \\\n",
       "count                                                7903   \n",
       "unique                                               7903   \n",
       "top     fifty human dentin slabs were evaluated by pro...   \n",
       "freq                                                    1   \n",
       "\n",
       "                                                       PT  \\\n",
       "count                                                7903   \n",
       "unique                                               7903   \n",
       "top     com base nas teorias de lima (2001, 2004 e 201...   \n",
       "freq                                                    1   \n",
       "\n",
       "                                            top_1_qpt_eng  \\\n",
       "count                                                7903   \n",
       "unique                                               1019   \n",
       "top     distance education (de) is a type of education...   \n",
       "freq                                                  155   \n",
       "\n",
       "                                            top_2_qpt_eng  \\\n",
       "count                                                7903   \n",
       "unique                                               1255   \n",
       "top     guilherme de mello¿s book, a musica no brasil:...   \n",
       "freq                                                   81   \n",
       "\n",
       "                                            top_3_qpt_eng  \\\n",
       "count                                                7903   \n",
       "unique                                               1490   \n",
       "top     this work is an analysis-interpretation of fiv...   \n",
       "freq                                                   55   \n",
       "\n",
       "                                            top_4_qpt_eng  \\\n",
       "count                                                7903   \n",
       "unique                                               1673   \n",
       "top     in the context of brazilian cinema, the northe...   \n",
       "freq                                                   49   \n",
       "\n",
       "                                            top_5_qpt_eng  \\\n",
       "count                                                7903   \n",
       "unique                                               1834   \n",
       "top     in the context of brazilian cinema, the northe...   \n",
       "freq                                                   44   \n",
       "\n",
       "                                            top_1_qeng_pt  \\\n",
       "count                                                7903   \n",
       "unique                                                955   \n",
       "top     dentofacial characteristics of oral breathers ...   \n",
       "freq                                                  235   \n",
       "\n",
       "                                            top_2_qeng_pt  \\\n",
       "count                                                7903   \n",
       "unique                                               1201   \n",
       "top     a coleta de dados ocorreu em três etapas com a...   \n",
       "freq                                                  103   \n",
       "\n",
       "                                            top_3_qeng_pt  \\\n",
       "count                                                7903   \n",
       "unique                                               1444   \n",
       "top     métodos: no artigo 1 foi realizada uma busca n...   \n",
       "freq                                                   66   \n",
       "\n",
       "                                            top_4_qeng_pt  \\\n",
       "count                                                7903   \n",
       "unique                                               1580   \n",
       "top     n a coleta de dados, utilizaram - se d ois que...   \n",
       "freq                                                   57   \n",
       "\n",
       "                                            top_5_qeng_pt  \n",
       "count                                                7903  \n",
       "unique                                               1744  \n",
       "top     para a coleta dos dados foi utilizada a escala...  \n",
       "freq                                                   61  "
      ]
     },
     "execution_count": 140,
     "metadata": {},
     "output_type": "execute_result"
    }
   ],
   "source": [
    "## TESTSET\n",
    "testset.describe()"
   ]
  },
  {
   "cell_type": "code",
   "execution_count": 141,
   "metadata": {},
   "outputs": [
    {
     "data": {
      "text/html": [
       "<div>\n",
       "<style scoped>\n",
       "    .dataframe tbody tr th:only-of-type {\n",
       "        vertical-align: middle;\n",
       "    }\n",
       "\n",
       "    .dataframe tbody tr th {\n",
       "        vertical-align: top;\n",
       "    }\n",
       "\n",
       "    .dataframe thead th {\n",
       "        text-align: right;\n",
       "    }\n",
       "</style>\n",
       "<table border=\"1\" class=\"dataframe\">\n",
       "  <thead>\n",
       "    <tr style=\"text-align: right;\">\n",
       "      <th></th>\n",
       "      <th>ENG</th>\n",
       "      <th>PT</th>\n",
       "      <th>top_1_qpt_eng</th>\n",
       "      <th>top_2_qpt_eng</th>\n",
       "      <th>top_3_qpt_eng</th>\n",
       "      <th>top_4_qpt_eng</th>\n",
       "      <th>top_5_qpt_eng</th>\n",
       "      <th>top_1_qeng_pt</th>\n",
       "      <th>top_2_qeng_pt</th>\n",
       "      <th>top_3_qeng_pt</th>\n",
       "      <th>top_4_qeng_pt</th>\n",
       "      <th>top_5_qeng_pt</th>\n",
       "    </tr>\n",
       "  </thead>\n",
       "  <tbody>\n",
       "    <tr>\n",
       "      <th>count</th>\n",
       "      <td>396999</td>\n",
       "      <td>396999</td>\n",
       "      <td>396999</td>\n",
       "      <td>396999</td>\n",
       "      <td>396999</td>\n",
       "      <td>396999</td>\n",
       "      <td>396999</td>\n",
       "      <td>396999</td>\n",
       "      <td>396999</td>\n",
       "      <td>396999</td>\n",
       "      <td>396999</td>\n",
       "      <td>396999</td>\n",
       "    </tr>\n",
       "    <tr>\n",
       "      <th>unique</th>\n",
       "      <td>396999</td>\n",
       "      <td>396999</td>\n",
       "      <td>103476</td>\n",
       "      <td>149191</td>\n",
       "      <td>176096</td>\n",
       "      <td>191818</td>\n",
       "      <td>200665</td>\n",
       "      <td>82457</td>\n",
       "      <td>118460</td>\n",
       "      <td>141430</td>\n",
       "      <td>155807</td>\n",
       "      <td>163875</td>\n",
       "    </tr>\n",
       "    <tr>\n",
       "      <th>top</th>\n",
       "      <td>the fenoterol hydrobromide drug is a bronchodi...</td>\n",
       "      <td>a lei nº 12.594/2012 ¿ que institui o sistema ...</td>\n",
       "      <td>the research analyzes the editorial trajectory...</td>\n",
       "      <td>to obtain refle ctance values, the following o...</td>\n",
       "      <td>this pericope describes the duties performed b...</td>\n",
       "      <td>the results achieved has shown that despite of...</td>\n",
       "      <td>this study aims do conduct a discussion around...</td>\n",
       "      <td>em 2011, a organização mundial de saúde (oms) ...</td>\n",
       "      <td>com a microscopia eletrônica de varredura (mev...</td>\n",
       "      <td>diante do exposto, consideramos que a produção...</td>\n",
       "      <td>esta dissertação discute a relação entre crôni...</td>\n",
       "      <td>em razão disto, o objetivo deste estudo foi an...</td>\n",
       "    </tr>\n",
       "    <tr>\n",
       "      <th>freq</th>\n",
       "      <td>1</td>\n",
       "      <td>1</td>\n",
       "      <td>33</td>\n",
       "      <td>16</td>\n",
       "      <td>13</td>\n",
       "      <td>12</td>\n",
       "      <td>11</td>\n",
       "      <td>33</td>\n",
       "      <td>16</td>\n",
       "      <td>14</td>\n",
       "      <td>16</td>\n",
       "      <td>13</td>\n",
       "    </tr>\n",
       "  </tbody>\n",
       "</table>\n",
       "</div>"
      ],
      "text/plain": [
       "                                                      ENG  \\\n",
       "count                                              396999   \n",
       "unique                                             396999   \n",
       "top     the fenoterol hydrobromide drug is a bronchodi...   \n",
       "freq                                                    1   \n",
       "\n",
       "                                                       PT  \\\n",
       "count                                              396999   \n",
       "unique                                             396999   \n",
       "top     a lei nº 12.594/2012 ¿ que institui o sistema ...   \n",
       "freq                                                    1   \n",
       "\n",
       "                                            top_1_qpt_eng  \\\n",
       "count                                              396999   \n",
       "unique                                             103476   \n",
       "top     the research analyzes the editorial trajectory...   \n",
       "freq                                                   33   \n",
       "\n",
       "                                            top_2_qpt_eng  \\\n",
       "count                                              396999   \n",
       "unique                                             149191   \n",
       "top     to obtain refle ctance values, the following o...   \n",
       "freq                                                   16   \n",
       "\n",
       "                                            top_3_qpt_eng  \\\n",
       "count                                              396999   \n",
       "unique                                             176096   \n",
       "top     this pericope describes the duties performed b...   \n",
       "freq                                                   13   \n",
       "\n",
       "                                            top_4_qpt_eng  \\\n",
       "count                                              396999   \n",
       "unique                                             191818   \n",
       "top     the results achieved has shown that despite of...   \n",
       "freq                                                   12   \n",
       "\n",
       "                                            top_5_qpt_eng  \\\n",
       "count                                              396999   \n",
       "unique                                             200665   \n",
       "top     this study aims do conduct a discussion around...   \n",
       "freq                                                   11   \n",
       "\n",
       "                                            top_1_qeng_pt  \\\n",
       "count                                              396999   \n",
       "unique                                              82457   \n",
       "top     em 2011, a organização mundial de saúde (oms) ...   \n",
       "freq                                                   33   \n",
       "\n",
       "                                            top_2_qeng_pt  \\\n",
       "count                                              396999   \n",
       "unique                                             118460   \n",
       "top     com a microscopia eletrônica de varredura (mev...   \n",
       "freq                                                   16   \n",
       "\n",
       "                                            top_3_qeng_pt  \\\n",
       "count                                              396999   \n",
       "unique                                             141430   \n",
       "top     diante do exposto, consideramos que a produção...   \n",
       "freq                                                   14   \n",
       "\n",
       "                                            top_4_qeng_pt  \\\n",
       "count                                              396999   \n",
       "unique                                             155807   \n",
       "top     esta dissertação discute a relação entre crôni...   \n",
       "freq                                                   16   \n",
       "\n",
       "                                            top_5_qeng_pt  \n",
       "count                                              396999  \n",
       "unique                                             163875  \n",
       "top     em razão disto, o objetivo deste estudo foi an...  \n",
       "freq                                                   13  "
      ]
     },
     "execution_count": 141,
     "metadata": {},
     "output_type": "execute_result"
    }
   ],
   "source": [
    "# Trainset\n",
    "TRAIN_DATA.describe()"
   ]
  },
  {
   "cell_type": "markdown",
   "metadata": {},
   "source": [
    "The testset has few data, but its data is lexically similar to the 'ENG'/'PT' sentence\n",
    "On the other hand, TRAIN_DATA has much more data, with this similarity relaxed, to have more diversity between the query 'ENG'/'PT' and the retrieved sentences."
   ]
  }
 ],
 "metadata": {
  "kernelspec": {
   "display_name": "Python 3",
   "language": "python",
   "name": "python3"
  },
  "language_info": {
   "codemirror_mode": {
    "name": "ipython",
    "version": 3
   },
   "file_extension": ".py",
   "mimetype": "text/x-python",
   "name": "python",
   "nbconvert_exporter": "python",
   "pygments_lexer": "ipython3",
   "version": "3.6.9"
  }
 },
 "nbformat": 4,
 "nbformat_minor": 4
}
