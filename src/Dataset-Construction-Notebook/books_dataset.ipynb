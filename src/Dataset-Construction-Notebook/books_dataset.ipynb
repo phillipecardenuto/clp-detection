{
 "cells": [
  {
   "cell_type": "markdown",
   "metadata": {},
   "source": [
    "# Dataset\n",
    "This notebook implements the reading and generation of files for the dataset:\n",
    "- BOOKS\n",
    "- ELRA-W0246"
   ]
  },
  {
   "cell_type": "markdown",
   "metadata": {},
   "source": [
    "# Import Cell"
   ]
  },
  {
   "cell_type": "code",
   "execution_count": null,
   "metadata": {},
   "outputs": [],
   "source": [
    "! pip install langdetect \n",
    "! pip install swifter\n",
    "! pip install translate-toolkit\n",
    "! pip install rank_bm25  #https://github.com/dorianbrown/rank_bm25"
   ]
  },
  {
   "cell_type": "code",
   "execution_count": 1,
   "metadata": {},
   "outputs": [],
   "source": [
    "from glob import glob\n",
    "import os\n",
    "\n",
    "import pandas as pd\n",
    "import swifter\n",
    "\n",
    "import numpy as np\n",
    "from rank_bm25 import BM25Okapi\n",
    "from matplotlib import pyplot as plt \n",
    "\n",
    "from tqdm.notebook import tnrange, tqdm_notebook\n",
    "\n",
    "import torch\n",
    "from torch.distributions.multinomial import Multinomial\n",
    "from torch.nn import CosineSimilarity\n",
    "import torch.nn.functional as F\n",
    "from langdetect import detect\n",
    "from torchtext.vocab import GloVe\n",
    "import string\n",
    "\n",
    "from translate.storage.tmx import tmxfile # http://docs.translatehouse.org/projects/translate-toolkit/en/latest/api/storage.html#module-translate.storage.tmx\n",
    "\n",
    "%matplotlib inline"
   ]
  },
  {
   "cell_type": "markdown",
   "metadata": {},
   "source": [
    "# Reading books Dataset http://opus.nlpl.eu/Books.php\n",
    "- Cite this http://opus.nlpl.eu/LREC2012.txt"
   ]
  },
  {
   "cell_type": "code",
   "execution_count": 5,
   "metadata": {},
   "outputs": [
    {
     "name": "stdout",
     "output_type": "stream",
     "text": [
      "--2020-06-02 12:49:56--  http://opus.nlpl.eu/download.php?f=Books/v1/tmx/en-pt.tmx.gz\n",
      "Resolving opus.nlpl.eu (opus.nlpl.eu)... 193.166.25.9\n",
      "Connecting to opus.nlpl.eu (opus.nlpl.eu)|193.166.25.9|:80... connected.\n",
      "HTTP request sent, awaiting response... 302 Found\n",
      "Location: https://object.pouta.csc.fi/OPUS-Books/v1/tmx/en-pt.tmx.gz [following]\n",
      "--2020-06-02 12:49:59--  https://object.pouta.csc.fi/OPUS-Books/v1/tmx/en-pt.tmx.gz\n",
      "Resolving object.pouta.csc.fi (object.pouta.csc.fi)... 86.50.254.19, 86.50.254.18\n",
      "Connecting to object.pouta.csc.fi (object.pouta.csc.fi)|86.50.254.19|:443... connected.\n",
      "HTTP request sent, awaiting response... 200 OK\n",
      "Length: 118545 (116K) [application/gzip]\n",
      "Saving to: ‘/work/datasets/books/books.tmx.gz’\n",
      "\n",
      "/work/datasets/book 100%[===================>] 115.77K   224KB/s    in 0.5s    \n",
      "\n",
      "2020-06-02 12:50:02 (224 KB/s) - ‘/work/datasets/books/books.tmx.gz’ saved [118545/118545]\n",
      "\n"
     ]
    }
   ],
   "source": [
    "# download books\n",
    "! wget -nc -O /work/datasets/books/books.tmx.gz http://opus.nlpl.eu/download.php?f=Books/v1/tmx/en-pt.tmx.gz\n",
    "! gunzip /work/datasets/books/books.tmx.gz"
   ]
  },
  {
   "cell_type": "code",
   "execution_count": 7,
   "metadata": {},
   "outputs": [],
   "source": [
    "with open(\"/work/datasets/books/books.tmx\", 'rb') as fin:\n",
    "     tmx_file = tmxfile(fin, 'en', 'pt')"
   ]
  },
  {
   "cell_type": "code",
   "execution_count": 8,
   "metadata": {},
   "outputs": [],
   "source": [
    "eng_books = []; pt_books = []\n",
    "for node in tmx_file.unit_iter():\n",
    "    eng_books.append(node.getsource())\n",
    "    pt_books.append(node.gettarget())"
   ]
  },
  {
   "cell_type": "code",
   "execution_count": 9,
   "metadata": {},
   "outputs": [
    {
     "data": {
      "text/plain": [
       "\"ALICE'S ADVENTURES IN WONDERLAND\""
      ]
     },
     "execution_count": 9,
     "metadata": {},
     "output_type": "execute_result"
    }
   ],
   "source": [
    "eng_books[0]"
   ]
  },
  {
   "cell_type": "code",
   "execution_count": 10,
   "metadata": {},
   "outputs": [
    {
     "data": {
      "text/plain": [
       "'Alice no País das Maravilhas'"
      ]
     },
     "execution_count": 10,
     "metadata": {},
     "output_type": "execute_result"
    }
   ],
   "source": [
    "pt_books[0]"
   ]
  },
  {
   "cell_type": "markdown",
   "metadata": {},
   "source": [
    "## Analyzing books Dataset with panda"
   ]
  },
  {
   "cell_type": "code",
   "execution_count": 11,
   "metadata": {},
   "outputs": [],
   "source": [
    "books = pd.DataFrame((zip(eng_books, pt_books)), \n",
    "               columns =['ENG', 'PT']) "
   ]
  },
  {
   "cell_type": "code",
   "execution_count": 12,
   "metadata": {},
   "outputs": [
    {
     "data": {
      "text/html": [
       "<div>\n",
       "<style scoped>\n",
       "    .dataframe tbody tr th:only-of-type {\n",
       "        vertical-align: middle;\n",
       "    }\n",
       "\n",
       "    .dataframe tbody tr th {\n",
       "        vertical-align: top;\n",
       "    }\n",
       "\n",
       "    .dataframe thead th {\n",
       "        text-align: right;\n",
       "    }\n",
       "</style>\n",
       "<table border=\"1\" class=\"dataframe\">\n",
       "  <thead>\n",
       "    <tr style=\"text-align: right;\">\n",
       "      <th></th>\n",
       "      <th>ENG</th>\n",
       "      <th>PT</th>\n",
       "    </tr>\n",
       "  </thead>\n",
       "  <tbody>\n",
       "    <tr>\n",
       "      <th>count</th>\n",
       "      <td>1398</td>\n",
       "      <td>1398</td>\n",
       "    </tr>\n",
       "    <tr>\n",
       "      <th>unique</th>\n",
       "      <td>1397</td>\n",
       "      <td>1391</td>\n",
       "    </tr>\n",
       "    <tr>\n",
       "      <th>top</th>\n",
       "      <td>Will you, won't you, will you, won't you, will...</td>\n",
       "      <td>Você vai, você não, você vai, você não, você n...</td>\n",
       "    </tr>\n",
       "    <tr>\n",
       "      <th>freq</th>\n",
       "      <td>2</td>\n",
       "      <td>3</td>\n",
       "    </tr>\n",
       "  </tbody>\n",
       "</table>\n",
       "</div>"
      ],
      "text/plain": [
       "                                                      ENG  \\\n",
       "count                                                1398   \n",
       "unique                                               1397   \n",
       "top     Will you, won't you, will you, won't you, will...   \n",
       "freq                                                    2   \n",
       "\n",
       "                                                       PT  \n",
       "count                                                1398  \n",
       "unique                                               1391  \n",
       "top     Você vai, você não, você vai, você não, você n...  \n",
       "freq                                                    3  "
      ]
     },
     "execution_count": 12,
     "metadata": {},
     "output_type": "execute_result"
    }
   ],
   "source": [
    "books.describe()"
   ]
  },
  {
   "cell_type": "code",
   "execution_count": 13,
   "metadata": {},
   "outputs": [],
   "source": [
    "# Removing duplicates\n",
    "books = books.drop_duplicates(subset='ENG', keep=\"first\")\n",
    "books = books.drop_duplicates(subset='PT', keep=\"first\")"
   ]
  },
  {
   "cell_type": "code",
   "execution_count": 14,
   "metadata": {},
   "outputs": [
    {
     "data": {
      "text/html": [
       "<div>\n",
       "<style scoped>\n",
       "    .dataframe tbody tr th:only-of-type {\n",
       "        vertical-align: middle;\n",
       "    }\n",
       "\n",
       "    .dataframe tbody tr th {\n",
       "        vertical-align: top;\n",
       "    }\n",
       "\n",
       "    .dataframe thead th {\n",
       "        text-align: right;\n",
       "    }\n",
       "</style>\n",
       "<table border=\"1\" class=\"dataframe\">\n",
       "  <thead>\n",
       "    <tr style=\"text-align: right;\">\n",
       "      <th></th>\n",
       "      <th>ENG</th>\n",
       "      <th>PT</th>\n",
       "    </tr>\n",
       "  </thead>\n",
       "  <tbody>\n",
       "    <tr>\n",
       "      <th>count</th>\n",
       "      <td>1391</td>\n",
       "      <td>1391</td>\n",
       "    </tr>\n",
       "    <tr>\n",
       "      <th>unique</th>\n",
       "      <td>1391</td>\n",
       "      <td>1391</td>\n",
       "    </tr>\n",
       "    <tr>\n",
       "      <th>top</th>\n",
       "      <td>'It all came different!' the Mock Turtle repea...</td>\n",
       "      <td>Uma roseira grande erguia-se perto da entrada ...</td>\n",
       "    </tr>\n",
       "    <tr>\n",
       "      <th>freq</th>\n",
       "      <td>1</td>\n",
       "      <td>1</td>\n",
       "    </tr>\n",
       "  </tbody>\n",
       "</table>\n",
       "</div>"
      ],
      "text/plain": [
       "                                                      ENG  \\\n",
       "count                                                1391   \n",
       "unique                                               1391   \n",
       "top     'It all came different!' the Mock Turtle repea...   \n",
       "freq                                                    1   \n",
       "\n",
       "                                                       PT  \n",
       "count                                                1391  \n",
       "unique                                               1391  \n",
       "top     Uma roseira grande erguia-se perto da entrada ...  \n",
       "freq                                                    1  "
      ]
     },
     "execution_count": 14,
     "metadata": {},
     "output_type": "execute_result"
    }
   ],
   "source": [
    "books.describe()"
   ]
  },
  {
   "cell_type": "code",
   "execution_count": 15,
   "metadata": {},
   "outputs": [],
   "source": [
    "# Checking length of each sentence on the dataset\n",
    "books['ENG_LENGTH'] = books.apply( lambda row: len(row['ENG'].split()),axis=1)\n",
    "books['PT_LENGTH']  = books.apply( lambda row: len(row['PT'].split()),axis=1)"
   ]
  },
  {
   "cell_type": "code",
   "execution_count": 16,
   "metadata": {},
   "outputs": [],
   "source": [
    "# drop to small sentences (size < 15)\n",
    "books = books.mask(books.ENG_LENGTH < 15 ).dropna()\n",
    "books = books.mask(books.PT_LENGTH < 15 ).dropna()"
   ]
  },
  {
   "cell_type": "code",
   "execution_count": 17,
   "metadata": {},
   "outputs": [
    {
     "data": {
      "text/html": [
       "<div>\n",
       "<style scoped>\n",
       "    .dataframe tbody tr th:only-of-type {\n",
       "        vertical-align: middle;\n",
       "    }\n",
       "\n",
       "    .dataframe tbody tr th {\n",
       "        vertical-align: top;\n",
       "    }\n",
       "\n",
       "    .dataframe thead th {\n",
       "        text-align: right;\n",
       "    }\n",
       "</style>\n",
       "<table border=\"1\" class=\"dataframe\">\n",
       "  <thead>\n",
       "    <tr style=\"text-align: right;\">\n",
       "      <th></th>\n",
       "      <th>ENG_LENGTH</th>\n",
       "      <th>PT_LENGTH</th>\n",
       "    </tr>\n",
       "  </thead>\n",
       "  <tbody>\n",
       "    <tr>\n",
       "      <th>count</th>\n",
       "      <td>600.000000</td>\n",
       "      <td>600.000000</td>\n",
       "    </tr>\n",
       "    <tr>\n",
       "      <th>mean</th>\n",
       "      <td>32.160000</td>\n",
       "      <td>31.068333</td>\n",
       "    </tr>\n",
       "    <tr>\n",
       "      <th>std</th>\n",
       "      <td>18.097429</td>\n",
       "      <td>17.275737</td>\n",
       "    </tr>\n",
       "    <tr>\n",
       "      <th>min</th>\n",
       "      <td>15.000000</td>\n",
       "      <td>15.000000</td>\n",
       "    </tr>\n",
       "    <tr>\n",
       "      <th>25%</th>\n",
       "      <td>21.000000</td>\n",
       "      <td>20.000000</td>\n",
       "    </tr>\n",
       "    <tr>\n",
       "      <th>50%</th>\n",
       "      <td>27.000000</td>\n",
       "      <td>26.000000</td>\n",
       "    </tr>\n",
       "    <tr>\n",
       "      <th>75%</th>\n",
       "      <td>38.000000</td>\n",
       "      <td>37.000000</td>\n",
       "    </tr>\n",
       "    <tr>\n",
       "      <th>max</th>\n",
       "      <td>179.000000</td>\n",
       "      <td>163.000000</td>\n",
       "    </tr>\n",
       "  </tbody>\n",
       "</table>\n",
       "</div>"
      ],
      "text/plain": [
       "       ENG_LENGTH   PT_LENGTH\n",
       "count  600.000000  600.000000\n",
       "mean    32.160000   31.068333\n",
       "std     18.097429   17.275737\n",
       "min     15.000000   15.000000\n",
       "25%     21.000000   20.000000\n",
       "50%     27.000000   26.000000\n",
       "75%     38.000000   37.000000\n",
       "max    179.000000  163.000000"
      ]
     },
     "execution_count": 17,
     "metadata": {},
     "output_type": "execute_result"
    }
   ],
   "source": [
    "books.describe()"
   ]
  },
  {
   "cell_type": "code",
   "execution_count": 18,
   "metadata": {},
   "outputs": [
    {
     "data": {
      "application/vnd.jupyter.widget-view+json": {
       "model_id": "de6c7e99347d44bcbe3f759c5e3c0782",
       "version_major": 2,
       "version_minor": 0
      },
      "text/plain": [
       "HBox(children=(FloatProgress(value=0.0, description='Pandas Apply', max=600.0, style=ProgressStyle(description…"
      ]
     },
     "metadata": {},
     "output_type": "display_data"
    },
    {
     "name": "stdout",
     "output_type": "stream",
     "text": [
      "\n"
     ]
    },
    {
     "data": {
      "application/vnd.jupyter.widget-view+json": {
       "model_id": "d0f861632989481ba46c151cd4bb2be7",
       "version_major": 2,
       "version_minor": 0
      },
      "text/plain": [
       "HBox(children=(FloatProgress(value=0.0, description='Pandas Apply', max=600.0, style=ProgressStyle(description…"
      ]
     },
     "metadata": {},
     "output_type": "display_data"
    },
    {
     "name": "stdout",
     "output_type": "stream",
     "text": [
      "\n"
     ]
    }
   ],
   "source": [
    "# Remove sentence that are on another language\n",
    "from langdetect import detect\n",
    "books['ENG_LANG'] = books.swifter.apply( lambda row: detect(row['ENG']) == 'en', axis=1)\n",
    "books['PT_LANG']  = books.swifter.apply( lambda row: detect(row['PT']) == 'pt',axis=1)"
   ]
  },
  {
   "cell_type": "code",
   "execution_count": 19,
   "metadata": {},
   "outputs": [],
   "source": [
    "# drop to wrong language assigned\n",
    "books = books.mask(books.ENG_LANG == False ).dropna()\n",
    "books = books.mask(books.PT_LANG == False ).dropna()"
   ]
  },
  {
   "cell_type": "code",
   "execution_count": 20,
   "metadata": {},
   "outputs": [
    {
     "data": {
      "image/png": "[encoded data removed]",
      "text/plain": [
       "<Figure size 432x288 with 1 Axes>"
      ]
     },
     "metadata": {
      "needs_background": "light"
     },
     "output_type": "display_data"
    },
    {
     "data": {
      "text/plain": [
       "count    600.000000\n",
       "mean      32.160000\n",
       "std       18.097429\n",
       "min       15.000000\n",
       "25%       21.000000\n",
       "50%       27.000000\n",
       "75%       38.000000\n",
       "max      179.000000\n",
       "Name: ENG_LENGTH, dtype: float64"
      ]
     },
     "execution_count": 20,
     "metadata": {},
     "output_type": "execute_result"
    }
   ],
   "source": [
    "books['ENG_LENGTH'].hist()\n",
    "plt.title(\"books English Sentences Length distribution\")\n",
    "plt.show()\n",
    "books['ENG_LENGTH'].describe()"
   ]
  },
  {
   "cell_type": "markdown",
   "metadata": {},
   "source": [
    "We can notice that 75% of the sentence has length less then 360"
   ]
  },
  {
   "cell_type": "code",
   "execution_count": 21,
   "metadata": {},
   "outputs": [
    {
     "data": {
      "image/png": "[encoded data removed]",
      "text/plain": [
       "<Figure size 432x288 with 1 Axes>"
      ]
     },
     "metadata": {
      "needs_background": "light"
     },
     "output_type": "display_data"
    },
    {
     "data": {
      "text/plain": [
       "count    600.000000\n",
       "mean      31.068333\n",
       "std       17.275737\n",
       "min       15.000000\n",
       "25%       20.000000\n",
       "50%       26.000000\n",
       "75%       37.000000\n",
       "max      163.000000\n",
       "Name: PT_LENGTH, dtype: float64"
      ]
     },
     "execution_count": 21,
     "metadata": {},
     "output_type": "execute_result"
    }
   ],
   "source": [
    "books['PT_LENGTH'].hist()\n",
    "plt.title(\"books Portuguese Sentences Length distribution\")\n",
    "plt.show()\n",
    "books['PT_LENGTH'].describe()"
   ]
  },
  {
   "cell_type": "markdown",
   "metadata": {},
   "source": [
    "# Paraphrase Process\n",
    "We did manually the paraphrases on eng and pt, using the bellow sites:\n",
    "Query phrases to:\n",
    "- [ENG] \"https://www.paraphrase-online.com/\"\n",
    "- [PT] \"https://smodin.me/pt/automaticamente-reescreva-texto-em-portugu%C3%AAs-gratuitamente\"\n",
    "\n"
   ]
  },
  {
   "cell_type": "code",
   "execution_count": 22,
   "metadata": {},
   "outputs": [
    {
     "name": "stdout",
     "output_type": "stream",
     "text": [
      "--2020-06-02 12:50:45--  https://docs.google.com/uc?export=download&id=19NOQ6mab7_9jzZvAxF8lp3dEqpFoSOka\n",
      "Resolving docs.google.com (docs.google.com)... 172.217.28.14, 2800:3f0:4001:810::200e\n",
      "Connecting to docs.google.com (docs.google.com)|172.217.28.14|:443... connected.\n",
      "HTTP request sent, awaiting response... 302 Moved Temporarily\n",
      "Location: https://doc-0k-4o-docs.googleusercontent.com/docs/securesc/ha0ro937gcuc7l7deffksulhg5h7mbp1/d9laef71kjeft56f38no2oilh1arq5ii/1591102200000/03284941598352038832/*/19NOQ6mab7_9jzZvAxF8lp3dEqpFoSOka?e=download [following]\n",
      "Warning: wildcards not supported in HTTP.\n",
      "--2020-06-02 12:50:46--  https://doc-0k-4o-docs.googleusercontent.com/docs/securesc/ha0ro937gcuc7l7deffksulhg5h7mbp1/d9laef71kjeft56f38no2oilh1arq5ii/1591102200000/03284941598352038832/*/19NOQ6mab7_9jzZvAxF8lp3dEqpFoSOka?e=download\n",
      "Resolving doc-0k-4o-docs.googleusercontent.com (doc-0k-4o-docs.googleusercontent.com)... 172.217.162.193, 2800:3f0:4001:818::2001\n",
      "Connecting to doc-0k-4o-docs.googleusercontent.com (doc-0k-4o-docs.googleusercontent.com)|172.217.162.193|:443... connected.\n",
      "HTTP request sent, awaiting response... 200 OK\n",
      "Length: 425502 (416K) [application/octet-stream]\n",
      "Saving to: ‘/work/datasets/books/books_test.pckl’\n",
      "\n",
      "/work/datasets/book 100%[===================>] 415.53K  --.-KB/s    in 0.1s    \n",
      "\n",
      "2020-06-02 12:50:47 (3.69 MB/s) - ‘/work/datasets/books/books_test.pckl’ saved [425502/425502]\n",
      "\n"
     ]
    }
   ],
   "source": [
    "# download dataset with paraphases\n",
    "\n",
    "! wget --no-check-certificate 'https://docs.google.com/uc?export=download&id=19NOQ6mab7_9jzZvAxF8lp3dEqpFoSOka' -O /work/datasets/books/books_test.pckl\n"
   ]
  },
  {
   "cell_type": "code",
   "execution_count": 23,
   "metadata": {},
   "outputs": [],
   "source": [
    "#paraphase on https://paraphrasing-tool.com/\n",
    "books_with_paraphrases = pd.read_pickle(\"/work/datasets/books/books_test.pckl\")"
   ]
  },
  {
   "cell_type": "code",
   "execution_count": 24,
   "metadata": {},
   "outputs": [
    {
     "data": {
      "text/html": [
       "<div>\n",
       "<style scoped>\n",
       "    .dataframe tbody tr th:only-of-type {\n",
       "        vertical-align: middle;\n",
       "    }\n",
       "\n",
       "    .dataframe tbody tr th {\n",
       "        vertical-align: top;\n",
       "    }\n",
       "\n",
       "    .dataframe thead th {\n",
       "        text-align: right;\n",
       "    }\n",
       "</style>\n",
       "<table border=\"1\" class=\"dataframe\">\n",
       "  <thead>\n",
       "    <tr style=\"text-align: right;\">\n",
       "      <th></th>\n",
       "      <th>ENG</th>\n",
       "      <th>PT</th>\n",
       "      <th>paraphrase-pt</th>\n",
       "      <th>paraphrase-eng</th>\n",
       "    </tr>\n",
       "  </thead>\n",
       "  <tbody>\n",
       "    <tr>\n",
       "      <th>0</th>\n",
       "      <td>Alice was beginning to get very tired of sitti...</td>\n",
       "      <td>Alice estava começando a ficar muito cansada d...</td>\n",
       "      <td>Alice começou a se cansar de sentar no banco a...</td>\n",
       "      <td>Alice was starting to urge exceptionally tired...</td>\n",
       "    </tr>\n",
       "    <tr>\n",
       "      <th>1</th>\n",
       "      <td>So she was considering in her own mind (as wel...</td>\n",
       "      <td>Então, ela pensava consigo mesma (tanto quanto...</td>\n",
       "      <td>Então ela pensou sobre isso (quando o clima qu...</td>\n",
       "      <td>So she was considering in her claim intellect ...</td>\n",
       "    </tr>\n",
       "    <tr>\n",
       "      <th>2</th>\n",
       "      <td>There was nothing so very remarkable in that; ...</td>\n",
       "      <td>Não havia nada de tão extraordinário nisso; ne...</td>\n",
       "      <td>Nada é especial. Alice não ouviu o coelho dize...</td>\n",
       "      <td>There was nothing so exceptionally momentous i...</td>\n",
       "    </tr>\n",
       "    <tr>\n",
       "      <th>3</th>\n",
       "      <td>I shall be late!' (when she thought it over af...</td>\n",
       "      <td>Irei me atrasar! (quando refletiu sobre isso d...</td>\n",
       "      <td>Eu vou me atrasar! ((Quando ele pensou sobre i...</td>\n",
       "      <td>I should be late!' (when she thought it over a...</td>\n",
       "    </tr>\n",
       "    <tr>\n",
       "      <th>4</th>\n",
       "      <td>In another moment down went Alice after it, ne...</td>\n",
       "      <td>Logo depois Alice desceu atrás dele, em moment...</td>\n",
       "      <td>Logo depois, Alice ficou atrás dele, nunca pen...</td>\n",
       "      <td>In another minute down went Alice after it, ne...</td>\n",
       "    </tr>\n",
       "    <tr>\n",
       "      <th>...</th>\n",
       "      <td>...</td>\n",
       "      <td>...</td>\n",
       "      <td>...</td>\n",
       "      <td>...</td>\n",
       "    </tr>\n",
       "    <tr>\n",
       "      <th>595</th>\n",
       "      <td>But her sister sat still just as she left her,...</td>\n",
       "      <td>Mas a irmã sentou ainda assim que ela tinha le...</td>\n",
       "      <td>Mas quando ela se levantou, estava sentada qui...</td>\n",
       "      <td>But her sister sat still fair as she cleared o...</td>\n",
       "    </tr>\n",
       "    <tr>\n",
       "      <th>596</th>\n",
       "      <td>First, she dreamed of little Alice herself, an...</td>\n",
       "      <td>Primeiro, ela sonhou com a própria pequena Ali...</td>\n",
       "      <td>Primeiro, ela sonhou com o que sua pequena Ali...</td>\n",
       "      <td>To begin with, she envisioned of small Alice h...</td>\n",
       "    </tr>\n",
       "    <tr>\n",
       "      <th>597</th>\n",
       "      <td>The long grass rustled at her feet as the Whit...</td>\n",
       "      <td>O longo gramado farfalhou em seus pés enquanto...</td>\n",
       "      <td>Enquanto o coelho branco corria, um longo gram...</td>\n",
       "      <td>The long grass stirred at her feet as the Whit...</td>\n",
       "    </tr>\n",
       "    <tr>\n",
       "      <th>598</th>\n",
       "      <td>So she sat on, with closed eyes, and half beli...</td>\n",
       "      <td>Então ela se sentou, com os olhos fechados, e ...</td>\n",
       "      <td>Então ela se sentou e fechou os olhos, metade ...</td>\n",
       "      <td>So she sat on, with closed eyes, and half acce...</td>\n",
       "    </tr>\n",
       "    <tr>\n",
       "      <th>599</th>\n",
       "      <td>Lastly, she pictured to herself how this same ...</td>\n",
       "      <td>Por fim, ela imaginou para si como esta mesma ...</td>\n",
       "      <td>Finalmente, ela se perguntou se sua mesma irmã...</td>\n",
       "      <td>Finally, she envisioned to herself how this sa...</td>\n",
       "    </tr>\n",
       "  </tbody>\n",
       "</table>\n",
       "<p>600 rows × 4 columns</p>\n",
       "</div>"
      ],
      "text/plain": [
       "                                                   ENG  \\\n",
       "0    Alice was beginning to get very tired of sitti...   \n",
       "1    So she was considering in her own mind (as wel...   \n",
       "2    There was nothing so very remarkable in that; ...   \n",
       "3    I shall be late!' (when she thought it over af...   \n",
       "4    In another moment down went Alice after it, ne...   \n",
       "..                                                 ...   \n",
       "595  But her sister sat still just as she left her,...   \n",
       "596  First, she dreamed of little Alice herself, an...   \n",
       "597  The long grass rustled at her feet as the Whit...   \n",
       "598  So she sat on, with closed eyes, and half beli...   \n",
       "599  Lastly, she pictured to herself how this same ...   \n",
       "\n",
       "                                                    PT  \\\n",
       "0    Alice estava começando a ficar muito cansada d...   \n",
       "1    Então, ela pensava consigo mesma (tanto quanto...   \n",
       "2    Não havia nada de tão extraordinário nisso; ne...   \n",
       "3    Irei me atrasar! (quando refletiu sobre isso d...   \n",
       "4    Logo depois Alice desceu atrás dele, em moment...   \n",
       "..                                                 ...   \n",
       "595  Mas a irmã sentou ainda assim que ela tinha le...   \n",
       "596  Primeiro, ela sonhou com a própria pequena Ali...   \n",
       "597  O longo gramado farfalhou em seus pés enquanto...   \n",
       "598  Então ela se sentou, com os olhos fechados, e ...   \n",
       "599  Por fim, ela imaginou para si como esta mesma ...   \n",
       "\n",
       "                                         paraphrase-pt  \\\n",
       "0    Alice começou a se cansar de sentar no banco a...   \n",
       "1    Então ela pensou sobre isso (quando o clima qu...   \n",
       "2    Nada é especial. Alice não ouviu o coelho dize...   \n",
       "3    Eu vou me atrasar! ((Quando ele pensou sobre i...   \n",
       "4    Logo depois, Alice ficou atrás dele, nunca pen...   \n",
       "..                                                 ...   \n",
       "595  Mas quando ela se levantou, estava sentada qui...   \n",
       "596  Primeiro, ela sonhou com o que sua pequena Ali...   \n",
       "597  Enquanto o coelho branco corria, um longo gram...   \n",
       "598  Então ela se sentou e fechou os olhos, metade ...   \n",
       "599  Finalmente, ela se perguntou se sua mesma irmã...   \n",
       "\n",
       "                                        paraphrase-eng  \n",
       "0    Alice was starting to urge exceptionally tired...  \n",
       "1    So she was considering in her claim intellect ...  \n",
       "2    There was nothing so exceptionally momentous i...  \n",
       "3    I should be late!' (when she thought it over a...  \n",
       "4    In another minute down went Alice after it, ne...  \n",
       "..                                                 ...  \n",
       "595  But her sister sat still fair as she cleared o...  \n",
       "596  To begin with, she envisioned of small Alice h...  \n",
       "597  The long grass stirred at her feet as the Whit...  \n",
       "598  So she sat on, with closed eyes, and half acce...  \n",
       "599  Finally, she envisioned to herself how this sa...  \n",
       "\n",
       "[600 rows x 4 columns]"
      ]
     },
     "execution_count": 24,
     "metadata": {},
     "output_type": "execute_result"
    }
   ],
   "source": [
    "books_with_paraphrases"
   ]
  },
  {
   "cell_type": "code",
   "execution_count": 25,
   "metadata": {},
   "outputs": [
    {
     "data": {
      "text/html": [
       "<div>\n",
       "<style scoped>\n",
       "    .dataframe tbody tr th:only-of-type {\n",
       "        vertical-align: middle;\n",
       "    }\n",
       "\n",
       "    .dataframe tbody tr th {\n",
       "        vertical-align: top;\n",
       "    }\n",
       "\n",
       "    .dataframe thead th {\n",
       "        text-align: right;\n",
       "    }\n",
       "</style>\n",
       "<table border=\"1\" class=\"dataframe\">\n",
       "  <thead>\n",
       "    <tr style=\"text-align: right;\">\n",
       "      <th></th>\n",
       "      <th>ENG</th>\n",
       "      <th>PT</th>\n",
       "      <th>paraphrase-pt</th>\n",
       "      <th>paraphrase-eng</th>\n",
       "    </tr>\n",
       "  </thead>\n",
       "  <tbody>\n",
       "    <tr>\n",
       "      <th>count</th>\n",
       "      <td>600</td>\n",
       "      <td>600</td>\n",
       "      <td>600</td>\n",
       "      <td>600</td>\n",
       "    </tr>\n",
       "    <tr>\n",
       "      <th>unique</th>\n",
       "      <td>600</td>\n",
       "      <td>600</td>\n",
       "      <td>600</td>\n",
       "      <td>600</td>\n",
       "    </tr>\n",
       "    <tr>\n",
       "      <th>top</th>\n",
       "      <td>Alice had no idea what to do, and in despair s...</td>\n",
       "      <td>Uma roseira grande erguia-se perto da entrada ...</td>\n",
       "      <td>A principal dificuldade que Alice encontrou in...</td>\n",
       "      <td>In a small whereas, be that as it may, she onc...</td>\n",
       "    </tr>\n",
       "    <tr>\n",
       "      <th>freq</th>\n",
       "      <td>1</td>\n",
       "      <td>1</td>\n",
       "      <td>1</td>\n",
       "      <td>1</td>\n",
       "    </tr>\n",
       "  </tbody>\n",
       "</table>\n",
       "</div>"
      ],
      "text/plain": [
       "                                                      ENG  \\\n",
       "count                                                 600   \n",
       "unique                                                600   \n",
       "top     Alice had no idea what to do, and in despair s...   \n",
       "freq                                                    1   \n",
       "\n",
       "                                                       PT  \\\n",
       "count                                                 600   \n",
       "unique                                                600   \n",
       "top     Uma roseira grande erguia-se perto da entrada ...   \n",
       "freq                                                    1   \n",
       "\n",
       "                                            paraphrase-pt  \\\n",
       "count                                                 600   \n",
       "unique                                                600   \n",
       "top     A principal dificuldade que Alice encontrou in...   \n",
       "freq                                                    1   \n",
       "\n",
       "                                           paraphrase-eng  \n",
       "count                                                 600  \n",
       "unique                                                600  \n",
       "top     In a small whereas, be that as it may, she onc...  \n",
       "freq                                                    1  "
      ]
     },
     "execution_count": 25,
     "metadata": {},
     "output_type": "execute_result"
    }
   ],
   "source": [
    "books_with_paraphrases.describe()"
   ]
  },
  {
   "cell_type": "markdown",
   "metadata": {},
   "source": [
    "# Negatives Sentences from http://opus.nlpl.eu/ELRA-W0246.php\n",
    "- cite this: http://opus.nlpl.eu/LREC2012.txt\n",
    "\n",
    "After adding more paraphrases to the books dataset, we need to have some negatives sentences to compare it.\n",
    "For this we are using the ELRA-W0246 dataset"
   ]
  },
  {
   "cell_type": "code",
   "execution_count": 26,
   "metadata": {},
   "outputs": [
    {
     "name": "stdout",
     "output_type": "stream",
     "text": [
      "--2020-06-02 12:51:10--  http://opus.nlpl.eu/download.php?f=ELRA-W0246/v1/tmx/en-pt.tmx.gz\n",
      "Resolving opus.nlpl.eu (opus.nlpl.eu)... 193.166.25.9\n",
      "Connecting to opus.nlpl.eu (opus.nlpl.eu)|193.166.25.9|:80... connected.\n",
      "HTTP request sent, awaiting response... 302 Found\n",
      "Location: https://object.pouta.csc.fi/OPUS-ELRA-W0246/v1/tmx/en-pt.tmx.gz [following]\n",
      "--2020-06-02 12:51:10--  https://object.pouta.csc.fi/OPUS-ELRA-W0246/v1/tmx/en-pt.tmx.gz\n",
      "Resolving object.pouta.csc.fi (object.pouta.csc.fi)... 86.50.254.18, 86.50.254.19\n",
      "Connecting to object.pouta.csc.fi (object.pouta.csc.fi)|86.50.254.18|:443... connected.\n",
      "HTTP request sent, awaiting response... 200 OK\n",
      "Length: 126782 (124K) [application/gzip]\n",
      "Saving to: ‘/work/datasets/books/ELRA-W0246.tmx.gz’\n",
      "\n",
      "/work/datasets/book 100%[===================>] 123.81K   240KB/s    in 0.5s    \n",
      "\n",
      "2020-06-02 12:51:12 (240 KB/s) - ‘/work/datasets/books/ELRA-W0246.tmx.gz’ saved [126782/126782]\n",
      "\n",
      "gzip: /work/datasets/books/ELRA-W0246.tmx already exists; do you wish to overwrite (y or n)? ^C\n"
     ]
    }
   ],
   "source": [
    "# download ELRA-W0246 dataset \n",
    "! wget -nc -O /work/datasets/books/ELRA-W0246.tmx.gz http://opus.nlpl.eu/download.php?f=ELRA-W0246/v1/tmx/en-pt.tmx.gz\n",
    "! gunzip /work/datasets/books/ELRA-W0246.tmx.gz"
   ]
  },
  {
   "cell_type": "code",
   "execution_count": 27,
   "metadata": {},
   "outputs": [],
   "source": [
    "with open(\"/work/datasets/books/ELRA-W0246.tmx\", 'rb') as fin:\n",
    "     tmx_file = tmxfile(fin, 'en', 'pt')\n",
    "eng_neg = []; pt_neg = []\n",
    "for node in tmx_file.unit_iter():\n",
    "    eng_neg.append(node.getsource())\n",
    "    pt_neg.append(node.gettarget())\n",
    "    \n",
    "ELRA = pd.DataFrame((zip(eng_neg, pt_neg)), \n",
    "               columns =['ENG', 'PT']) "
   ]
  },
  {
   "cell_type": "code",
   "execution_count": 28,
   "metadata": {},
   "outputs": [
    {
     "data": {
      "text/html": [
       "<div>\n",
       "<style scoped>\n",
       "    .dataframe tbody tr th:only-of-type {\n",
       "        vertical-align: middle;\n",
       "    }\n",
       "\n",
       "    .dataframe tbody tr th {\n",
       "        vertical-align: top;\n",
       "    }\n",
       "\n",
       "    .dataframe thead th {\n",
       "        text-align: right;\n",
       "    }\n",
       "</style>\n",
       "<table border=\"1\" class=\"dataframe\">\n",
       "  <thead>\n",
       "    <tr style=\"text-align: right;\">\n",
       "      <th></th>\n",
       "      <th>ENG</th>\n",
       "      <th>PT</th>\n",
       "    </tr>\n",
       "  </thead>\n",
       "  <tbody>\n",
       "    <tr>\n",
       "      <th>0</th>\n",
       "      <td>PREAMBLE</td>\n",
       "      <td>PREÂMBULO</td>\n",
       "    </tr>\n",
       "    <tr>\n",
       "      <th>1</th>\n",
       "      <td>On the 25th of April 1974 the Armed Forces Mov...</td>\n",
       "      <td>A 25 de Abril de 1974, o Movimento das Forças ...</td>\n",
       "    </tr>\n",
       "    <tr>\n",
       "      <th>2</th>\n",
       "      <td>Freeing Portugal from dictatorship, oppression...</td>\n",
       "      <td>Libertar Portugal da ditadura, da opressão e d...</td>\n",
       "    </tr>\n",
       "    <tr>\n",
       "      <th>3</th>\n",
       "      <td>The Revolution restored their fundamental righ...</td>\n",
       "      <td>A Revolução restituiu aos Portugueses os direi...</td>\n",
       "    </tr>\n",
       "    <tr>\n",
       "      <th>4</th>\n",
       "      <td>In the exercise of those rights and freedoms, ...</td>\n",
       "      <td>No exercício destes direitos e liberdades, os ...</td>\n",
       "    </tr>\n",
       "    <tr>\n",
       "      <th>...</th>\n",
       "      <td>...</td>\n",
       "      <td>...</td>\n",
       "    </tr>\n",
       "    <tr>\n",
       "      <th>1480</th>\n",
       "      <td>Article 295(Referenda on European treaties)</td>\n",
       "      <td>Artigo 295.º(Referendo sobre tratado europeu)</td>\n",
       "    </tr>\n",
       "    <tr>\n",
       "      <th>1481</th>\n",
       "      <td>The provisions of Article 115(3) do not prejud...</td>\n",
       "      <td>O disposto no n.º 3 do artigo 115.º não prejud...</td>\n",
       "    </tr>\n",
       "    <tr>\n",
       "      <th>1482</th>\n",
       "      <td>Article 296(Date and entry into force of the C...</td>\n",
       "      <td>Artigo 296.º(Data e entrada em vigor da Consti...</td>\n",
       "    </tr>\n",
       "    <tr>\n",
       "      <th>1483</th>\n",
       "      <td>1. The Constitution of the Portuguese Republic...</td>\n",
       "      <td>1. A Constituição da República Portuguesa tem ...</td>\n",
       "    </tr>\n",
       "    <tr>\n",
       "      <th>1484</th>\n",
       "      <td>2. The Constitution of the Portuguese Republic...</td>\n",
       "      <td>2. A Constituição da República Portuguesa entr...</td>\n",
       "    </tr>\n",
       "  </tbody>\n",
       "</table>\n",
       "<p>1485 rows × 2 columns</p>\n",
       "</div>"
      ],
      "text/plain": [
       "                                                    ENG  \\\n",
       "0                                              PREAMBLE   \n",
       "1     On the 25th of April 1974 the Armed Forces Mov...   \n",
       "2     Freeing Portugal from dictatorship, oppression...   \n",
       "3     The Revolution restored their fundamental righ...   \n",
       "4     In the exercise of those rights and freedoms, ...   \n",
       "...                                                 ...   \n",
       "1480        Article 295(Referenda on European treaties)   \n",
       "1481  The provisions of Article 115(3) do not prejud...   \n",
       "1482  Article 296(Date and entry into force of the C...   \n",
       "1483  1. The Constitution of the Portuguese Republic...   \n",
       "1484  2. The Constitution of the Portuguese Republic...   \n",
       "\n",
       "                                                     PT  \n",
       "0                                             PREÂMBULO  \n",
       "1     A 25 de Abril de 1974, o Movimento das Forças ...  \n",
       "2     Libertar Portugal da ditadura, da opressão e d...  \n",
       "3     A Revolução restituiu aos Portugueses os direi...  \n",
       "4     No exercício destes direitos e liberdades, os ...  \n",
       "...                                                 ...  \n",
       "1480      Artigo 295.º(Referendo sobre tratado europeu)  \n",
       "1481  O disposto no n.º 3 do artigo 115.º não prejud...  \n",
       "1482  Artigo 296.º(Data e entrada em vigor da Consti...  \n",
       "1483  1. A Constituição da República Portuguesa tem ...  \n",
       "1484  2. A Constituição da República Portuguesa entr...  \n",
       "\n",
       "[1485 rows x 2 columns]"
      ]
     },
     "execution_count": 28,
     "metadata": {},
     "output_type": "execute_result"
    }
   ],
   "source": [
    "ELRA"
   ]
  },
  {
   "cell_type": "code",
   "execution_count": 29,
   "metadata": {},
   "outputs": [],
   "source": [
    "# Removing duplicates\n",
    "ELRA = ELRA.drop_duplicates(subset='ENG', keep=\"first\")\n",
    "ELRA = ELRA.drop_duplicates(subset='PT', keep=\"first\")"
   ]
  },
  {
   "cell_type": "code",
   "execution_count": 30,
   "metadata": {},
   "outputs": [
    {
     "data": {
      "text/html": [
       "<div>\n",
       "<style scoped>\n",
       "    .dataframe tbody tr th:only-of-type {\n",
       "        vertical-align: middle;\n",
       "    }\n",
       "\n",
       "    .dataframe tbody tr th {\n",
       "        vertical-align: top;\n",
       "    }\n",
       "\n",
       "    .dataframe thead th {\n",
       "        text-align: right;\n",
       "    }\n",
       "</style>\n",
       "<table border=\"1\" class=\"dataframe\">\n",
       "  <thead>\n",
       "    <tr style=\"text-align: right;\">\n",
       "      <th></th>\n",
       "      <th>ENG</th>\n",
       "      <th>PT</th>\n",
       "    </tr>\n",
       "  </thead>\n",
       "  <tbody>\n",
       "    <tr>\n",
       "      <th>count</th>\n",
       "      <td>1485</td>\n",
       "      <td>1485</td>\n",
       "    </tr>\n",
       "    <tr>\n",
       "      <th>unique</th>\n",
       "      <td>1485</td>\n",
       "      <td>1485</td>\n",
       "    </tr>\n",
       "    <tr>\n",
       "      <th>top</th>\n",
       "      <td>2. During his absence or inability to perform ...</td>\n",
       "      <td>2. Os restantes membros do Governo são nomeado...</td>\n",
       "    </tr>\n",
       "    <tr>\n",
       "      <th>freq</th>\n",
       "      <td>1</td>\n",
       "      <td>1</td>\n",
       "    </tr>\n",
       "  </tbody>\n",
       "</table>\n",
       "</div>"
      ],
      "text/plain": [
       "                                                      ENG  \\\n",
       "count                                                1485   \n",
       "unique                                               1485   \n",
       "top     2. During his absence or inability to perform ...   \n",
       "freq                                                    1   \n",
       "\n",
       "                                                       PT  \n",
       "count                                                1485  \n",
       "unique                                               1485  \n",
       "top     2. Os restantes membros do Governo são nomeado...  \n",
       "freq                                                    1  "
      ]
     },
     "execution_count": 30,
     "metadata": {},
     "output_type": "execute_result"
    }
   ],
   "source": [
    "ELRA.describe()"
   ]
  },
  {
   "cell_type": "code",
   "execution_count": 31,
   "metadata": {},
   "outputs": [
    {
     "data": {
      "text/html": [
       "<div>\n",
       "<style scoped>\n",
       "    .dataframe tbody tr th:only-of-type {\n",
       "        vertical-align: middle;\n",
       "    }\n",
       "\n",
       "    .dataframe tbody tr th {\n",
       "        vertical-align: top;\n",
       "    }\n",
       "\n",
       "    .dataframe thead th {\n",
       "        text-align: right;\n",
       "    }\n",
       "</style>\n",
       "<table border=\"1\" class=\"dataframe\">\n",
       "  <thead>\n",
       "    <tr style=\"text-align: right;\">\n",
       "      <th></th>\n",
       "      <th>ENG_LENGTH</th>\n",
       "      <th>PT_LENGTH</th>\n",
       "    </tr>\n",
       "  </thead>\n",
       "  <tbody>\n",
       "    <tr>\n",
       "      <th>count</th>\n",
       "      <td>875.000000</td>\n",
       "      <td>875.000000</td>\n",
       "    </tr>\n",
       "    <tr>\n",
       "      <th>mean</th>\n",
       "      <td>32.645714</td>\n",
       "      <td>29.200000</td>\n",
       "    </tr>\n",
       "    <tr>\n",
       "      <th>std</th>\n",
       "      <td>14.144731</td>\n",
       "      <td>11.955294</td>\n",
       "    </tr>\n",
       "    <tr>\n",
       "      <th>min</th>\n",
       "      <td>15.000000</td>\n",
       "      <td>15.000000</td>\n",
       "    </tr>\n",
       "    <tr>\n",
       "      <th>25%</th>\n",
       "      <td>22.000000</td>\n",
       "      <td>20.000000</td>\n",
       "    </tr>\n",
       "    <tr>\n",
       "      <th>50%</th>\n",
       "      <td>29.000000</td>\n",
       "      <td>26.000000</td>\n",
       "    </tr>\n",
       "    <tr>\n",
       "      <th>75%</th>\n",
       "      <td>39.000000</td>\n",
       "      <td>35.000000</td>\n",
       "    </tr>\n",
       "    <tr>\n",
       "      <th>max</th>\n",
       "      <td>112.000000</td>\n",
       "      <td>89.000000</td>\n",
       "    </tr>\n",
       "  </tbody>\n",
       "</table>\n",
       "</div>"
      ],
      "text/plain": [
       "       ENG_LENGTH   PT_LENGTH\n",
       "count  875.000000  875.000000\n",
       "mean    32.645714   29.200000\n",
       "std     14.144731   11.955294\n",
       "min     15.000000   15.000000\n",
       "25%     22.000000   20.000000\n",
       "50%     29.000000   26.000000\n",
       "75%     39.000000   35.000000\n",
       "max    112.000000   89.000000"
      ]
     },
     "execution_count": 31,
     "metadata": {},
     "output_type": "execute_result"
    }
   ],
   "source": [
    "# Checking length of each sentence on the dataset\n",
    "ELRA['ENG_LENGTH'] = ELRA.apply( lambda row: len(row['ENG'].split()),axis=1)\n",
    "ELRA['PT_LENGTH']  = ELRA.apply( lambda row: len(row['PT'].split()),axis=1)\n",
    "\n",
    "# drop to small sentences (size < 15)\n",
    "ELRA = ELRA.mask(ELRA.ENG_LENGTH < 15 ).dropna()\n",
    "ELRA = ELRA.mask(ELRA.PT_LENGTH < 15 ).dropna()\n",
    "ELRA.describe()"
   ]
  },
  {
   "cell_type": "code",
   "execution_count": 32,
   "metadata": {},
   "outputs": [
    {
     "data": {
      "application/vnd.jupyter.widget-view+json": {
       "model_id": "80fb1be3f9e04043851114b22b0c0d19",
       "version_major": 2,
       "version_minor": 0
      },
      "text/plain": [
       "HBox(children=(FloatProgress(value=0.0, description='Pandas Apply', max=875.0, style=ProgressStyle(description…"
      ]
     },
     "metadata": {},
     "output_type": "display_data"
    },
    {
     "name": "stdout",
     "output_type": "stream",
     "text": [
      "\n"
     ]
    },
    {
     "data": {
      "application/vnd.jupyter.widget-view+json": {
       "model_id": "21ce67317841458993daf02d17a86209",
       "version_major": 2,
       "version_minor": 0
      },
      "text/plain": [
       "HBox(children=(FloatProgress(value=0.0, description='Pandas Apply', max=875.0, style=ProgressStyle(description…"
      ]
     },
     "metadata": {},
     "output_type": "display_data"
    },
    {
     "name": "stdout",
     "output_type": "stream",
     "text": [
      "\n"
     ]
    }
   ],
   "source": [
    "# Remove sentence that are on another language\n",
    "from langdetect import detect\n",
    "ELRA['ENG_LANG'] = ELRA.swifter.apply( lambda row: detect(row['ENG']) == 'en', axis=1)\n",
    "ELRA['PT_LANG']  = ELRA.swifter.apply( lambda row: detect(row['PT']) == 'pt',axis=1)"
   ]
  },
  {
   "cell_type": "code",
   "execution_count": 33,
   "metadata": {},
   "outputs": [],
   "source": [
    "# drop to wrong language assigned\n",
    "ELRA = ELRA.mask(ELRA.ENG_LANG == False ).dropna()\n",
    "ELRA = ELRA.mask(ELRA.PT_LANG == False ).dropna()"
   ]
  },
  {
   "cell_type": "code",
   "execution_count": 34,
   "metadata": {},
   "outputs": [
    {
     "data": {
      "text/html": [
       "<div>\n",
       "<style scoped>\n",
       "    .dataframe tbody tr th:only-of-type {\n",
       "        vertical-align: middle;\n",
       "    }\n",
       "\n",
       "    .dataframe tbody tr th {\n",
       "        vertical-align: top;\n",
       "    }\n",
       "\n",
       "    .dataframe thead th {\n",
       "        text-align: right;\n",
       "    }\n",
       "</style>\n",
       "<table border=\"1\" class=\"dataframe\">\n",
       "  <thead>\n",
       "    <tr style=\"text-align: right;\">\n",
       "      <th></th>\n",
       "      <th>ENG_LENGTH</th>\n",
       "      <th>PT_LENGTH</th>\n",
       "    </tr>\n",
       "  </thead>\n",
       "  <tbody>\n",
       "    <tr>\n",
       "      <th>count</th>\n",
       "      <td>875.000000</td>\n",
       "      <td>875.000000</td>\n",
       "    </tr>\n",
       "    <tr>\n",
       "      <th>mean</th>\n",
       "      <td>32.645714</td>\n",
       "      <td>29.200000</td>\n",
       "    </tr>\n",
       "    <tr>\n",
       "      <th>std</th>\n",
       "      <td>14.144731</td>\n",
       "      <td>11.955294</td>\n",
       "    </tr>\n",
       "    <tr>\n",
       "      <th>min</th>\n",
       "      <td>15.000000</td>\n",
       "      <td>15.000000</td>\n",
       "    </tr>\n",
       "    <tr>\n",
       "      <th>25%</th>\n",
       "      <td>22.000000</td>\n",
       "      <td>20.000000</td>\n",
       "    </tr>\n",
       "    <tr>\n",
       "      <th>50%</th>\n",
       "      <td>29.000000</td>\n",
       "      <td>26.000000</td>\n",
       "    </tr>\n",
       "    <tr>\n",
       "      <th>75%</th>\n",
       "      <td>39.000000</td>\n",
       "      <td>35.000000</td>\n",
       "    </tr>\n",
       "    <tr>\n",
       "      <th>max</th>\n",
       "      <td>112.000000</td>\n",
       "      <td>89.000000</td>\n",
       "    </tr>\n",
       "  </tbody>\n",
       "</table>\n",
       "</div>"
      ],
      "text/plain": [
       "       ENG_LENGTH   PT_LENGTH\n",
       "count  875.000000  875.000000\n",
       "mean    32.645714   29.200000\n",
       "std     14.144731   11.955294\n",
       "min     15.000000   15.000000\n",
       "25%     22.000000   20.000000\n",
       "50%     29.000000   26.000000\n",
       "75%     39.000000   35.000000\n",
       "max    112.000000   89.000000"
      ]
     },
     "execution_count": 34,
     "metadata": {},
     "output_type": "execute_result"
    }
   ],
   "source": [
    "ELRA.describe()"
   ]
  },
  {
   "cell_type": "code",
   "execution_count": 35,
   "metadata": {},
   "outputs": [],
   "source": [
    "ELRA = ELRA.drop(['ENG_LENGTH','PT_LENGTH','ENG_LANG','PT_LANG'],axis=1)"
   ]
  },
  {
   "cell_type": "code",
   "execution_count": 36,
   "metadata": {},
   "outputs": [
    {
     "data": {
      "text/html": [
       "<div>\n",
       "<style scoped>\n",
       "    .dataframe tbody tr th:only-of-type {\n",
       "        vertical-align: middle;\n",
       "    }\n",
       "\n",
       "    .dataframe tbody tr th {\n",
       "        vertical-align: top;\n",
       "    }\n",
       "\n",
       "    .dataframe thead th {\n",
       "        text-align: right;\n",
       "    }\n",
       "</style>\n",
       "<table border=\"1\" class=\"dataframe\">\n",
       "  <thead>\n",
       "    <tr style=\"text-align: right;\">\n",
       "      <th></th>\n",
       "      <th>ENG</th>\n",
       "      <th>PT</th>\n",
       "    </tr>\n",
       "  </thead>\n",
       "  <tbody>\n",
       "    <tr>\n",
       "      <th>count</th>\n",
       "      <td>875</td>\n",
       "      <td>875</td>\n",
       "    </tr>\n",
       "    <tr>\n",
       "      <th>unique</th>\n",
       "      <td>875</td>\n",
       "      <td>875</td>\n",
       "    </tr>\n",
       "    <tr>\n",
       "      <th>top</th>\n",
       "      <td>1. Without prejudice to the suspension or term...</td>\n",
       "      <td>2. Os restantes membros do Governo são nomeado...</td>\n",
       "    </tr>\n",
       "    <tr>\n",
       "      <th>freq</th>\n",
       "      <td>1</td>\n",
       "      <td>1</td>\n",
       "    </tr>\n",
       "  </tbody>\n",
       "</table>\n",
       "</div>"
      ],
      "text/plain": [
       "                                                      ENG  \\\n",
       "count                                                 875   \n",
       "unique                                                875   \n",
       "top     1. Without prejudice to the suspension or term...   \n",
       "freq                                                    1   \n",
       "\n",
       "                                                       PT  \n",
       "count                                                 875  \n",
       "unique                                                875  \n",
       "top     2. Os restantes membros do Governo são nomeado...  \n",
       "freq                                                    1  "
      ]
     },
     "execution_count": 36,
     "metadata": {},
     "output_type": "execute_result"
    }
   ],
   "source": [
    "ELRA.describe()"
   ]
  },
  {
   "cell_type": "code",
   "execution_count": 37,
   "metadata": {},
   "outputs": [],
   "source": [
    "ELRA.to_pickle(\"/work/datasets/books/ELRA.pckl\")"
   ]
  },
  {
   "cell_type": "markdown",
   "metadata": {},
   "source": [
    "# Getting the most similar sentence from ELRA and BOOKS dataset, and mark then as negatives\n",
    "\n",
    "For this propose we are using two feature:\n",
    "- consine_similarity between the sentence embedding of each sentences of the both dataset.\n",
    "- BM25 score for each query sentence of Book on the corpus ELRA"
   ]
  },
  {
   "cell_type": "markdown",
   "metadata": {},
   "source": [
    "# Loading Glove Vectors to use as word embedding"
   ]
  },
  {
   "cell_type": "markdown",
   "metadata": {},
   "source": [
    "### Glove Portuguese\n",
    "-http://nilc.icmc.usp.br/nilc/index.php/repositorio-de-word-embeddings-do-nilc"
   ]
  },
  {
   "cell_type": "markdown",
   "metadata": {},
   "source": [
    "Load glove"
   ]
  },
  {
   "cell_type": "code",
   "execution_count": null,
   "metadata": {},
   "outputs": [],
   "source": [
    "#Download embedding and glove_br dict\n",
    "! wget -nc -O /work/src/Dataset-Construction-Notebook/glove_br/glove_s50.zip http://143.107.183.175:22980/download.php?file=embeddings/glove/glove_s50.zip\n",
    "! unzip /work/src/Dataset-Construction-Notebook/glove_br/glove_s50.zip"
   ]
  },
  {
   "cell_type": "code",
   "execution_count": 38,
   "metadata": {},
   "outputs": [
    {
     "data": {
      "application/vnd.jupyter.widget-view+json": {
       "model_id": "5e451527c7fd47a6937492e09bb53281",
       "version_major": 2,
       "version_minor": 0
      },
      "text/plain": [
       "HBox(children=(FloatProgress(value=0.0, max=929605.0), HTML(value='')))"
      ]
     },
     "metadata": {},
     "output_type": "display_data"
    },
    {
     "name": "stdout",
     "output_type": "stream",
     "text": [
      "\n"
     ]
    }
   ],
   "source": [
    "glove_dict_pt ={}\n",
    "vectors_pt = []\n",
    "with open(\"/work/src/Dataset-Construction-Notebook/glove_br/glove_s50.txt\", 'r') as file:\n",
    "    nlines, dim  = file.readline().split()\n",
    "    dim = int(dim)\n",
    "    nlines = int(nlines)\n",
    "    for index in tnrange(nlines):\n",
    "        line = file.readline().split()\n",
    "        token = \" \".join(line[0:-dim])\n",
    "        glove_dict_pt[token] = index\n",
    "        vectors_pt.append([float(val) for val in line[-dim:]])\n",
    "vectors_pt = torch.tensor(vectors_pt)"
   ]
  },
  {
   "cell_type": "code",
   "execution_count": 39,
   "metadata": {},
   "outputs": [],
   "source": [
    "# glove_vectors is a pytorch vocabulary\n",
    "# https://github.com/pytorch/text/blob/master/torchtext/vocab.py\n",
    "glove_vectors = GloVe(name='6B', dim=50, cache='/work/glove_dir')\n",
    "\n",
    "vectors_eng = glove_vectors.vectors\n",
    "glove_dict_eng = glove_vectors.stoi"
   ]
  },
  {
   "cell_type": "markdown",
   "metadata": {},
   "source": [
    "### Creating Torch Tensors from the words"
   ]
  },
  {
   "cell_type": "code",
   "execution_count": 40,
   "metadata": {},
   "outputs": [],
   "source": [
    "eng_book  = books_with_paraphrases[\"ENG\"].values\n",
    "eng_book_paraphrase  = books_with_paraphrases[\"paraphrase-eng\"].values\n",
    "pt_book  = books_with_paraphrases[\"PT\"].values\n",
    "pt_book_paraphrase  = books_with_paraphrases[\"paraphrase-pt\"].values\n",
    "\n",
    "# negatives\n",
    "erla_eng = ELRA[\"ENG\"].values\n",
    "erla_pt = ELRA[\"PT\"].values"
   ]
  },
  {
   "cell_type": "code",
   "execution_count": 41,
   "metadata": {},
   "outputs": [],
   "source": [
    "table = str.maketrans({key: None for key in string.punctuation})\n",
    "def remove_punctuation(sentence):\n",
    "    return sentence.translate(table)\n",
    "\n",
    "def get_sentence_embedding(sentence,vec,dict_glove,dim=50):\n",
    "    \"\"\"\n",
    "    From a input sentence, calculate a sentence embedding.\n",
    "    The sentence embedding is the mean of each word embedding beloging to the sentence.\n",
    "    \"\"\"\n",
    "    \n",
    "    # Remove punctuation from the sentence\n",
    "    sentence = remove_punctuation(sentence)\n",
    "    \n",
    "    # Calculate the mean for each word embedding beloging to the sentence\n",
    "    list_of_embedding =  [ vec[dict_glove[word]] \n",
    "                             for word in sentence.split()\n",
    "                             if (word in dict_glove)\n",
    "                         ]\n",
    "    \n",
    "    # if we could not find any word in the sentence that is in the vocabulary\n",
    "    # we return a random value\n",
    "    if list_of_embedding == []:\n",
    "        print(\"FALSE\")\n",
    "        return torch.rand(dim)\n",
    "        \n",
    "    # return the sentence embedding mean\n",
    "    return torch.mean( torch.stack( list_of_embedding) ,axis=0)"
   ]
  },
  {
   "cell_type": "code",
   "execution_count": 42,
   "metadata": {},
   "outputs": [
    {
     "data": {
      "application/vnd.jupyter.widget-view+json": {
       "model_id": "601686d5a4cd4733bf183b65440b2380",
       "version_major": 2,
       "version_minor": 0
      },
      "text/plain": [
       "HBox(children=(FloatProgress(value=0.0, max=600.0), HTML(value='')))"
      ]
     },
     "metadata": {},
     "output_type": "display_data"
    },
    {
     "name": "stdout",
     "output_type": "stream",
     "text": [
      "\n"
     ]
    },
    {
     "data": {
      "application/vnd.jupyter.widget-view+json": {
       "model_id": "d3e9d801f04a44a6a6e9066077f84d7f",
       "version_major": 2,
       "version_minor": 0
      },
      "text/plain": [
       "HBox(children=(FloatProgress(value=0.0, max=600.0), HTML(value='')))"
      ]
     },
     "metadata": {},
     "output_type": "display_data"
    },
    {
     "name": "stdout",
     "output_type": "stream",
     "text": [
      "\n"
     ]
    },
    {
     "data": {
      "application/vnd.jupyter.widget-view+json": {
       "model_id": "e8dda44efc004bd8abed996952737a8b",
       "version_major": 2,
       "version_minor": 0
      },
      "text/plain": [
       "HBox(children=(FloatProgress(value=0.0, max=875.0), HTML(value='')))"
      ]
     },
     "metadata": {},
     "output_type": "display_data"
    },
    {
     "name": "stdout",
     "output_type": "stream",
     "text": [
      "\n"
     ]
    }
   ],
   "source": [
    "eng_book_vectors = []\n",
    "for sentence in tqdm_notebook(eng_book):\n",
    "    eng_book_vectors.append(get_sentence_embedding(sentence,vectors_eng,glove_dict_eng))\n",
    "eng_book_vectors = torch.stack(eng_book_vectors)\n",
    "\n",
    "eng_book_para_vectors = []\n",
    "for sentence in tqdm_notebook(eng_book_paraphrase):\n",
    "    eng_book_para_vectors.append(get_sentence_embedding(sentence,vectors_eng,glove_dict_eng))\n",
    "eng_book_para_vectors = torch.stack(eng_book_para_vectors)\n",
    "\n",
    "eng_elra_neg_vectors = []\n",
    "for sentence in tqdm_notebook(erla_eng):\n",
    "    eng_elra_neg_vectors.append(get_sentence_embedding(sentence,vectors_eng,glove_dict_eng))\n",
    "eng_elra_neg_vectors = torch.stack(eng_elra_neg_vectors)"
   ]
  },
  {
   "cell_type": "code",
   "execution_count": 44,
   "metadata": {},
   "outputs": [
    {
     "data": {
      "application/vnd.jupyter.widget-view+json": {
       "model_id": "5a11bdf6caee46f484c12a2ec60a81e5",
       "version_major": 2,
       "version_minor": 0
      },
      "text/plain": [
       "HBox(children=(FloatProgress(value=0.0, max=600.0), HTML(value='')))"
      ]
     },
     "metadata": {},
     "output_type": "display_data"
    },
    {
     "name": "stdout",
     "output_type": "stream",
     "text": [
      "\n"
     ]
    },
    {
     "data": {
      "application/vnd.jupyter.widget-view+json": {
       "model_id": "359108ee2a80405a82cc3a3301e4d9f4",
       "version_major": 2,
       "version_minor": 0
      },
      "text/plain": [
       "HBox(children=(FloatProgress(value=0.0, max=600.0), HTML(value='')))"
      ]
     },
     "metadata": {},
     "output_type": "display_data"
    },
    {
     "name": "stdout",
     "output_type": "stream",
     "text": [
      "\n"
     ]
    },
    {
     "data": {
      "application/vnd.jupyter.widget-view+json": {
       "model_id": "1438a15afee64ab7b00baee28ec51d7e",
       "version_major": 2,
       "version_minor": 0
      },
      "text/plain": [
       "HBox(children=(FloatProgress(value=0.0, max=875.0), HTML(value='')))"
      ]
     },
     "metadata": {},
     "output_type": "display_data"
    },
    {
     "name": "stdout",
     "output_type": "stream",
     "text": [
      "\n"
     ]
    }
   ],
   "source": [
    "pt_book_vectors = []\n",
    "for sentence in tqdm_notebook(pt_book):\n",
    "    pt_book_vectors.append(get_sentence_embedding(sentence,vectors_pt,glove_dict_pt))\n",
    "pt_book_vectors = torch.stack(pt_book_vectors)\n",
    "\n",
    "pt_book_para_vectors = []\n",
    "for sentence in tqdm_notebook(pt_book_paraphrase):\n",
    "    pt_book_para_vectors.append(get_sentence_embedding(sentence,vectors_pt,glove_dict_pt))\n",
    "pt_book_para_vectors = torch.stack(pt_book_para_vectors)\n",
    "\n",
    "pt_elra_neg_vectors = []\n",
    "for sentence in tqdm_notebook(erla_pt):\n",
    "    pt_elra_neg_vectors.append(get_sentence_embedding(sentence,vectors_pt,glove_dict_pt))\n",
    "pt_elra_neg_vectors = torch.stack(pt_elra_neg_vectors)"
   ]
  },
  {
   "cell_type": "markdown",
   "metadata": {},
   "source": [
    "## BM25 Score"
   ]
  },
  {
   "cell_type": "code",
   "execution_count": 45,
   "metadata": {},
   "outputs": [],
   "source": [
    "# ERLA PT\n",
    "corpus = erla_pt\n",
    "tokenized_corpus = [doc.split(\" \") for doc in corpus]\n",
    "pt_elra_bm25 = BM25Okapi(tokenized_corpus)\n",
    "\n",
    "# ERLA ENG\n",
    "corpus = erla_eng\n",
    "tokenized_corpus = [doc.split(\" \") for doc in corpus]\n",
    "eng_elra_bm25 = BM25Okapi(tokenized_corpus)"
   ]
  },
  {
   "cell_type": "code",
   "execution_count": 53,
   "metadata": {},
   "outputs": [],
   "source": [
    "from torch.nn import CosineSimilarity\n",
    "\n",
    "cos = CosineSimilarity()\n",
    "\n",
    "def find_most_similar_cross_data(query_vec, tensors, bm25_model, querry_sentence, top_k=20):\n",
    "    \"\"\"\n",
    "    User cosine similarity with bm25 score to retrieve the most similar sentences\n",
    "    \"\"\"\n",
    "    # Reshape query \n",
    "    query_vec = query_vec.unsqueeze(0)\n",
    "    # Apply cosine similarity between the query and all dataset\n",
    "    cosine_similarity_between_query_tensors = cos(query_vec,tensors)\n",
    "    \n",
    "    # BM25_Score\n",
    "    tokenized_query = querry_sentence.split(\" \")\n",
    "\n",
    "    scores = bm25_model.get_scores(tokenized_query)\n",
    "    \n",
    "    #Normalize score\n",
    "    scores = torch.tensor(scores / np.linalg.norm(scores))\n",
    "    \n",
    "    mix_scores = cosine_similarity_between_query_tensors + 2*scores\n",
    "    \n",
    "    # Sort values by similarity: The highest similarity is 1 and lowest -1\n",
    "    values, indeces = mix_scores.topk(top_k)\n",
    "    \n",
    "    # Get Random sentence that are inside the top_50\n",
    "    sampling = Multinomial(total_count=1,logits=values).sample()\n",
    "    \n",
    "    # Retrieve selected sentence\n",
    "    most_similar = indeces.masked_select(sampling.type(torch.bool))\n",
    "    \n",
    "    # Return the top_5 similar result, after the sampling\n",
    "    return most_similar\n",
    "\n",
    "def find_most_similar(query, tensors,index,top_k=200):\n",
    "    \"\"\"\n",
    "    Retrieve most similar sentences\n",
    "    \"\"\"\n",
    "    # Reshape query \n",
    "    query = query.unsqueeze(0)\n",
    "    # Apply cosine similarity between the query and all dataset\n",
    "    cosine_similarity_between_query_tensors = cos(query,tensors)\n",
    "    \n",
    "    # Sort values by similarity: The highest similarity is 1 and lowest -1\n",
    "    values, indeces = cosine_similarity_between_query_tensors.topk(top_k)\n",
    "    \n",
    "    # Get Random sentence that are inside the nucleues\n",
    "    sampling = Multinomial(total_count=10,logits=values).sample()\n",
    "    \n",
    "    # Retrieve selected sentence\n",
    "    most_similar = indeces.masked_select(sampling.type(torch.bool))\n",
    "    # remove the translation of the query from the selected ones ( if it is there)\n",
    "    most_similar = most_similar[most_similar != index]\n",
    "    \n",
    "    # Return the 5th similar result, after the sampling\n",
    "    return most_similar[5]"
   ]
  },
  {
   "cell_type": "code",
   "execution_count": 61,
   "metadata": {},
   "outputs": [
    {
     "data": {
      "application/vnd.jupyter.widget-view+json": {
       "model_id": "9a182545c4724d94ba4623df7e55734d",
       "version_major": 2,
       "version_minor": 0
      },
      "text/plain": [
       "HBox(children=(FloatProgress(value=0.0, max=600.0), HTML(value='')))"
      ]
     },
     "metadata": {},
     "output_type": "display_data"
    },
    {
     "name": "stdout",
     "output_type": "stream",
     "text": [
      "\n"
     ]
    }
   ],
   "source": [
    "negative_sentence = {\n",
    "    'pt_books__pt_erla': [],\n",
    "    'pt_books_paraphrase__pt_erla': [],\n",
    "    'eng_books__eng_erla': [],\n",
    "    'eng_books_paraphrase__eng_erla': [],\n",
    "    'top_1_qeng_pt': [],\n",
    "    'top_1_qpt_eng': [],\n",
    "}\n",
    "total = len(books_with_paraphrases)\n",
    "for index in tnrange(total):\n",
    "    \n",
    "    # Most lexical similar sentence from pt_books to pt_erla\n",
    "    qpt_index = find_most_similar_cross_data(pt_book_vectors[index],\n",
    "                                  pt_elra_neg_vectors,\n",
    "                                  pt_elra_bm25,\n",
    "                                  pt_book[index])\n",
    "    \n",
    "    negative_sentence['pt_books__pt_erla'].append(erla_pt[qpt_index])\n",
    "    \n",
    "    # Most lexical similar sentence from pt_books_paraphrase to pt_erla\n",
    "    qpt_index = find_most_similar_cross_data(pt_book_para_vectors[index],\n",
    "                                  pt_elra_neg_vectors,\n",
    "                                  pt_elra_bm25,\n",
    "                                  pt_book_paraphrase[index])\n",
    "    negative_sentence['pt_books_paraphrase__pt_erla'].append(erla_pt[qpt_index])\n",
    "    \n",
    "    \n",
    "    # Most lexical similar sentence from eng_books to eng_erla\n",
    "    qeng_index = find_most_similar_cross_data(eng_book_vectors[index],\n",
    "                                  eng_elra_neg_vectors,\n",
    "                                  eng_elra_bm25,\n",
    "                                  eng_book[index])\n",
    "    negative_sentence['eng_books__eng_erla'].append(erla_eng[qeng_index])\n",
    "    \n",
    "    # Most lexical similar sentence from eng_books_paraphrase to eng_erla\n",
    "    qeng_index = find_most_similar_cross_data(eng_book_para_vectors[index],\n",
    "                                  eng_elra_neg_vectors,\n",
    "                                  eng_elra_bm25,\n",
    "                                  eng_book_paraphrase[index])\n",
    "    negative_sentence['eng_books_paraphrase__eng_erla'].append(erla_eng[qeng_index])\n",
    "    \n",
    "    # Most lexical similar sentence from pt_books to eng_books_paraphrase\n",
    "    qpt_index = find_most_similar( pt_book_vectors[index],\n",
    "                                   eng_book_para_vectors,\n",
    "                                  index)\n",
    "    negative_sentence['top_1_qpt_eng'].append(eng_book_paraphrase[qpt_index])\n",
    "    \n",
    "    # Most lexical similar sentence from eng_books to pt_book_paraphrase\n",
    "    qeng_index = find_most_similar( eng_book_vectors[index],\n",
    "                                    pt_book_para_vectors,\n",
    "                                    index)\n",
    "    negative_sentence['top_1_qeng_pt'].append(pt_book_paraphrase[qeng_index])\n",
    "\n",
    "\n"
   ]
  },
  {
   "cell_type": "code",
   "execution_count": 62,
   "metadata": {},
   "outputs": [],
   "source": [
    "books_with_paraphrases['pt_books__pt_erla'] = negative_sentence['pt_books__pt_erla']\n",
    "books_with_paraphrases['pt_books_paraphrase__pt_erla'] = negative_sentence['pt_books_paraphrase__pt_erla']\n",
    "books_with_paraphrases['eng_books__eng_erla'] = negative_sentence['eng_books__eng_erla']\n",
    "books_with_paraphrases['eng_books_paraphrase__eng_erla'] = negative_sentence['eng_books_paraphrase__eng_erla']\n",
    "books_with_paraphrases['top_1_qpt_eng'] = negative_sentence['top_1_qpt_eng']\n",
    "books_with_paraphrases['top_1_qeng_pt'] = negative_sentence['top_1_qeng_pt']\n"
   ]
  },
  {
   "cell_type": "code",
   "execution_count": 65,
   "metadata": {},
   "outputs": [],
   "source": [
    "books_with_paraphrases.to_pickle(\"/work/datasets/books/TESTSET.pkl\")"
   ]
  },
  {
   "cell_type": "markdown",
   "metadata": {},
   "source": [
    "# Conclusions"
   ]
  },
  {
   "cell_type": "code",
   "execution_count": 2,
   "metadata": {},
   "outputs": [],
   "source": [
    "books_with_paraphrases = pd.read_pickle(\"/work/datasets/books/TESTSET.pkl\")"
   ]
  },
  {
   "cell_type": "code",
   "execution_count": 4,
   "metadata": {},
   "outputs": [
    {
     "data": {
      "text/plain": [
       "array([[\"'Oh, I beg your pardon!' cried Alice hastily, afraid that she had hurt the poor animal's feelings. 'I quite forgot you didn't like cats.'\",\n",
       "        'O Rato deu um salto repentino para fora da água e pareceu estremecer-se todo de medo. - Oh, desculpe-me!, gritou Alice depressa, com medo de ter ferido os sentimentos do pobre animal. - Eu quase esqueci que você não gosta de gatos.',\n",
       "        'O rato pulou de repente da água, parecendo tremer de medo. - Oh, desculpe!, Exclamou Alice rapidamente, com medo de ferir os sentimentos desse pobre animal. - Eu quase esqueci que você não gosta de gatos.',\n",
       "        \"'Oh, I ask your pardon!' cried Alice hurriedly, perplexed that she had harmed the destitute animal's sentiments. 'I very overlooked you didn't like cats.'\",\n",
       "        '2. Os partidos políticos representados na Assembleia da República, e que não façam parte do Governo, têm direito, nos termos da lei, a tempos de antena no serviço público de rádio e televisão, a ratear de acordo com a sua representatividade, bem como o direito de resposta ou de réplica política às declarações políticas do Governo, de duração e relevo iguais aos dos tempos de antena e das declarações do Governo, de iguais direitos gozando, no âmbito da respectiva região, os partidos representados nas Assembleias Legislativas das regiões autónomas.',\n",
       "        '4. A lei regula a atribuição às mães e aos pais de direitos de dispensa de trabalho por período adequado, de acordo com os interesses da criança e as necessidades do agregado familiar.',\n",
       "        'i) Ensuring that emigrants’ children are taught the Portuguese language and enjoy access to Portuguese culture;',\n",
       "        '6. Children may not be separated from their parents, save when the latter do not fulfil their fundamental duties towards them, and then always by judicial decision.',\n",
       "        \"Alice felt so frantic that she was prepared to inquire offer assistance of any one; so, when the Rabbit came close her, she started, in a moo, bashful voice, 'If you it would be ideal if you, sir--' The Rabbit begun savagely, dropped the white kid gloves and the fan, and skurried absent into the obscurity as difficult as he seem go.\",\n",
       "        'Isso não parece encorajar a testemunha de maneira alguma: ele se moveu de um pé para o outro e olhou para a rainha sem jeito, e nessa confusão, ele mordeu uma xícara grande de chá em vez de pão e manteiga.']],\n",
       "      dtype=object)"
      ]
     },
     "execution_count": 4,
     "metadata": {},
     "output_type": "execute_result"
    }
   ],
   "source": [
    "books_with_paraphrases.sample().values"
   ]
  },
  {
   "cell_type": "code",
   "execution_count": 67,
   "metadata": {},
   "outputs": [
    {
     "data": {
      "text/html": [
       "<div>\n",
       "<style scoped>\n",
       "    .dataframe tbody tr th:only-of-type {\n",
       "        vertical-align: middle;\n",
       "    }\n",
       "\n",
       "    .dataframe tbody tr th {\n",
       "        vertical-align: top;\n",
       "    }\n",
       "\n",
       "    .dataframe thead th {\n",
       "        text-align: right;\n",
       "    }\n",
       "</style>\n",
       "<table border=\"1\" class=\"dataframe\">\n",
       "  <thead>\n",
       "    <tr style=\"text-align: right;\">\n",
       "      <th></th>\n",
       "      <th>ENG</th>\n",
       "      <th>PT</th>\n",
       "      <th>paraphrase-pt</th>\n",
       "      <th>paraphrase-eng</th>\n",
       "      <th>pt_books__pt_erla</th>\n",
       "      <th>pt_books_paraphrase__pt_erla</th>\n",
       "      <th>eng_books__eng_erla</th>\n",
       "      <th>eng_books_paraphrase__eng_erla</th>\n",
       "      <th>top_1_qpt_eng</th>\n",
       "      <th>top_1_qeng_pt</th>\n",
       "    </tr>\n",
       "  </thead>\n",
       "  <tbody>\n",
       "    <tr>\n",
       "      <th>count</th>\n",
       "      <td>600</td>\n",
       "      <td>600</td>\n",
       "      <td>600</td>\n",
       "      <td>600</td>\n",
       "      <td>600</td>\n",
       "      <td>600</td>\n",
       "      <td>600</td>\n",
       "      <td>600</td>\n",
       "      <td>600</td>\n",
       "      <td>600</td>\n",
       "    </tr>\n",
       "    <tr>\n",
       "      <th>unique</th>\n",
       "      <td>600</td>\n",
       "      <td>600</td>\n",
       "      <td>600</td>\n",
       "      <td>600</td>\n",
       "      <td>207</td>\n",
       "      <td>221</td>\n",
       "      <td>216</td>\n",
       "      <td>214</td>\n",
       "      <td>190</td>\n",
       "      <td>161</td>\n",
       "    </tr>\n",
       "    <tr>\n",
       "      <th>top</th>\n",
       "      <td>Alice had no idea what to do, and in despair s...</td>\n",
       "      <td>Uma roseira grande erguia-se perto da entrada ...</td>\n",
       "      <td>A principal dificuldade que Alice encontrou in...</td>\n",
       "      <td>In a small whereas, be that as it may, she onc...</td>\n",
       "      <td>7. Sem prejuízo do disposto no n.º 1, o Presid...</td>\n",
       "      <td>3. O arguido tem direito a escolher defensor e...</td>\n",
       "      <td>I swear by my honour to faithfully perform the...</td>\n",
       "      <td>e) To pronounce on the other cases provided fo...</td>\n",
       "      <td>She carried the pepper-box in her hand, and Al...</td>\n",
       "      <td>Uma vez que ela era pequena o suficiente para ...</td>\n",
       "    </tr>\n",
       "    <tr>\n",
       "      <th>freq</th>\n",
       "      <td>1</td>\n",
       "      <td>1</td>\n",
       "      <td>1</td>\n",
       "      <td>1</td>\n",
       "      <td>15</td>\n",
       "      <td>12</td>\n",
       "      <td>18</td>\n",
       "      <td>19</td>\n",
       "      <td>10</td>\n",
       "      <td>14</td>\n",
       "    </tr>\n",
       "  </tbody>\n",
       "</table>\n",
       "</div>"
      ],
      "text/plain": [
       "                                                      ENG  \\\n",
       "count                                                 600   \n",
       "unique                                                600   \n",
       "top     Alice had no idea what to do, and in despair s...   \n",
       "freq                                                    1   \n",
       "\n",
       "                                                       PT  \\\n",
       "count                                                 600   \n",
       "unique                                                600   \n",
       "top     Uma roseira grande erguia-se perto da entrada ...   \n",
       "freq                                                    1   \n",
       "\n",
       "                                            paraphrase-pt  \\\n",
       "count                                                 600   \n",
       "unique                                                600   \n",
       "top     A principal dificuldade que Alice encontrou in...   \n",
       "freq                                                    1   \n",
       "\n",
       "                                           paraphrase-eng  \\\n",
       "count                                                 600   \n",
       "unique                                                600   \n",
       "top     In a small whereas, be that as it may, she onc...   \n",
       "freq                                                    1   \n",
       "\n",
       "                                        pt_books__pt_erla  \\\n",
       "count                                                 600   \n",
       "unique                                                207   \n",
       "top     7. Sem prejuízo do disposto no n.º 1, o Presid...   \n",
       "freq                                                   15   \n",
       "\n",
       "                             pt_books_paraphrase__pt_erla  \\\n",
       "count                                                 600   \n",
       "unique                                                221   \n",
       "top     3. O arguido tem direito a escolher defensor e...   \n",
       "freq                                                   12   \n",
       "\n",
       "                                      eng_books__eng_erla  \\\n",
       "count                                                 600   \n",
       "unique                                                216   \n",
       "top     I swear by my honour to faithfully perform the...   \n",
       "freq                                                   18   \n",
       "\n",
       "                           eng_books_paraphrase__eng_erla  \\\n",
       "count                                                 600   \n",
       "unique                                                214   \n",
       "top     e) To pronounce on the other cases provided fo...   \n",
       "freq                                                   19   \n",
       "\n",
       "                                            top_1_qpt_eng  \\\n",
       "count                                                 600   \n",
       "unique                                                190   \n",
       "top     She carried the pepper-box in her hand, and Al...   \n",
       "freq                                                   10   \n",
       "\n",
       "                                            top_1_qeng_pt  \n",
       "count                                                 600  \n",
       "unique                                                161  \n",
       "top     Uma vez que ela era pequena o suficiente para ...  \n",
       "freq                                                   14  "
      ]
     },
     "execution_count": 67,
     "metadata": {},
     "output_type": "execute_result"
    }
   ],
   "source": [
    "books_with_paraphrases.describe()"
   ]
  },
  {
   "cell_type": "code",
   "execution_count": 64,
   "metadata": {},
   "outputs": [
    {
     "data": {
      "text/plain": [
       "array([['Then again--\"before she had this fit--\" you never had fits, my dear, I think?\\' he said to the Queen.',\n",
       "        \"Por outro lado...'antes ela tinha forma...' você nunca teve forma, minha querida, não é? ele disse para a Rainha.\",\n",
       "        'Por outro lado ... Antes que tome forma ... Querida, você nunca tomou forma, certo? Ele disse para a rainha.',\n",
       "        'At that point again--\"before she had this fit--\" you never had fits, my expensive, I think?\\' he said to the Ruler.',\n",
       "        '3. Se a moção de censura não for aprovada, os seus signatários não podem apresentar outra durante a mesma sessão legislativa.',\n",
       "        '1. A Assembleia da República tem as comissões previstas no Regimento e pode constituir comissões eventuais de inquérito ou para qualquer outro fim determinado.',\n",
       "        '1. Every citizen has the right of access to all computerised data that concern him, which he may require to be corrected and updated, and the right to be informed of the purpose for which they are intended, as laid down by law.',\n",
       "        'I swear by my honour to faithfully perform the functions in which I am invested and to defend and observe the Constitution of the Portuguese Republic and cause it to be observed.',\n",
       "        \"There was no name this time with the words 'DRINK ME,' but by the by she uncorked it and put it to her lips.\",\n",
       "        'Quando ela passou, ela pegou um pote de uma prateleira. O pote estava rotulado como GELÉIA LARANJA, mas, para sua decepção, estava vazio: ela não queria largá-lo porque tinha medo de matar alguém, então o colocou em um quando passou No armário.']],\n",
       "      dtype=object)"
      ]
     },
     "execution_count": 64,
     "metadata": {},
     "output_type": "execute_result"
    }
   ],
   "source": [
    "books_with_paraphrases.sample().values"
   ]
  },
  {
   "cell_type": "markdown",
   "metadata": {},
   "source": [
    "This dataset was created just to test propose. Do not use this data to train.\n",
    "For each sentence from ENG and PT we manually created it's paraphrase version. Also, we find another dataset to get the negative sentences, that are lexically similar to the ENG, PT sentence but very different in its semantics."
   ]
  }
 ],
 "metadata": {
  "kernelspec": {
   "display_name": "Python 3",
   "language": "python",
   "name": "python3"
  },
  "language_info": {
   "codemirror_mode": {
    "name": "ipython",
    "version": 3
   },
   "file_extension": ".py",
   "mimetype": "text/x-python",
   "name": "python",
   "nbconvert_exporter": "python",
   "pygments_lexer": "ipython3",
   "version": "3.6.9"
  }
 },
 "nbformat": 4,
 "nbformat_minor": 4
}
